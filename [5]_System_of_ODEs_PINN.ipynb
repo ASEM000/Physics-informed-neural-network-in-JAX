{
  "nbformat": 4,
  "nbformat_minor": 0,
  "metadata": {
    "colab": {
      "name": "[5] System-of-ODE-PINN.ipynb",
      "provenance": [],
      "collapsed_sections": [],
      "include_colab_link": true
    },
    "kernelspec": {
      "display_name": "Python 3",
      "language": "python",
      "name": "python3"
    },
    "language_info": {
      "codemirror_mode": {
        "name": "ipython",
        "version": 3
      },
      "file_extension": ".py",
      "mimetype": "text/x-python",
      "name": "python",
      "nbconvert_exporter": "python",
      "pygments_lexer": "ipython3",
      "version": "3.9.6"
    }
  },
  "cells": [
    {
      "cell_type": "markdown",
      "metadata": {
        "id": "view-in-github",
        "colab_type": "text"
      },
      "source": [
        "<a href=\"https://colab.research.google.com/github/ASEM000/Physics-informed-neural-network-in-JAX/blob/main/%5B5%5D_System_of_ODEs_PINN.ipynb\" target=\"_parent\"><img src=\"https://colab.research.google.com/assets/colab-badge.svg\" alt=\"Open In Colab\"/></a>"
      ]
    },
    {
      "cell_type": "code",
      "metadata": {
        "id": "v77fdC1ZLyg1"
      },
      "source": [
        "#Credits : Mahmoud Asem @Asem000  October 2021"
      ],
      "execution_count": 1,
      "outputs": []
    },
    {
      "cell_type": "code",
      "metadata": {
        "colab": {
          "base_uri": "https://localhost:8080/"
        },
        "id": "vAR0swbLX_ZI",
        "outputId": "97823711-ee53-4921-bf97-c2f9a312e57f"
      },
      "source": [
        "#Imports\n",
        "import jax \n",
        "import jax.numpy as jnp\n",
        "import numpy as np\n",
        "import matplotlib.pyplot as plt\n",
        "from matplotlib import cm\n",
        "import matplotlib as mpl\n",
        "!pip install optax\n",
        "import optax\n",
        "!pip install numba\n",
        "import numba"
      ],
      "execution_count": 2,
      "outputs": [
        {
          "output_type": "stream",
          "name": "stdout",
          "text": [
            "Requirement already satisfied: optax in /usr/local/lib/python3.7/dist-packages (0.0.9)\n",
            "Requirement already satisfied: absl-py>=0.7.1 in /usr/local/lib/python3.7/dist-packages (from optax) (0.12.0)\n",
            "Requirement already satisfied: jax>=0.1.55 in /usr/local/lib/python3.7/dist-packages (from optax) (0.2.21)\n",
            "Requirement already satisfied: numpy>=1.18.0 in /usr/local/lib/python3.7/dist-packages (from optax) (1.19.5)\n",
            "Requirement already satisfied: chex>=0.0.4 in /usr/local/lib/python3.7/dist-packages (from optax) (0.0.8)\n",
            "Requirement already satisfied: jaxlib>=0.1.37 in /usr/local/lib/python3.7/dist-packages (from optax) (0.1.71+cuda111)\n",
            "Requirement already satisfied: six in /usr/local/lib/python3.7/dist-packages (from absl-py>=0.7.1->optax) (1.15.0)\n",
            "Requirement already satisfied: toolz>=0.9.0 in /usr/local/lib/python3.7/dist-packages (from chex>=0.0.4->optax) (0.11.1)\n",
            "Requirement already satisfied: dm-tree>=0.1.5 in /usr/local/lib/python3.7/dist-packages (from chex>=0.0.4->optax) (0.1.6)\n",
            "Requirement already satisfied: opt-einsum in /usr/local/lib/python3.7/dist-packages (from jax>=0.1.55->optax) (3.3.0)\n",
            "Requirement already satisfied: scipy>=1.2.1 in /usr/local/lib/python3.7/dist-packages (from jax>=0.1.55->optax) (1.4.1)\n",
            "Requirement already satisfied: flatbuffers<3.0,>=1.12 in /usr/local/lib/python3.7/dist-packages (from jaxlib>=0.1.37->optax) (1.12)\n",
            "Requirement already satisfied: numba in /usr/local/lib/python3.7/dist-packages (0.51.2)\n",
            "Requirement already satisfied: numpy>=1.15 in /usr/local/lib/python3.7/dist-packages (from numba) (1.19.5)\n",
            "Requirement already satisfied: setuptools in /usr/local/lib/python3.7/dist-packages (from numba) (57.4.0)\n",
            "Requirement already satisfied: llvmlite<0.35,>=0.34.0.dev0 in /usr/local/lib/python3.7/dist-packages (from numba) (0.34.0)\n"
          ]
        }
      ]
    },
    {
      "cell_type": "markdown",
      "metadata": {
        "id": "7bg4nSbsXVwD"
      },
      "source": [
        "### System of ODEs numerical solution\n",
        "$\\large \\frac{dx}{dt}  = x$ <br> \n",
        "\n",
        "$\\large \\frac{dy}{dt} = x - y$ <br>\n",
        "\n",
        "$x(t=0) = 1$\n",
        "\n",
        "$y(t=0) = 2$\n",
        "\n",
        "<br>\n",
        "$\\text{analytical solution}$\n",
        "\n",
        "$x(t) = e^{t}$\n",
        "\n",
        "$y(t) = \\frac{1}{2} e^{t} + \\frac{3}{2} e^{-t}$"
      ]
    },
    {
      "cell_type": "markdown",
      "metadata": {
        "id": "K89DstaYpwh0"
      },
      "source": [
        ""
      ]
    },
    {
      "cell_type": "code",
      "metadata": {
        "id": "8uW0HW1-pxl8"
      },
      "source": [
        "'''\n",
        "\n",
        "solve \n",
        "dx/dt = x\n",
        "dy/dt = x-y\n",
        "\n",
        "x(0) = 1\n",
        "y(0) = 2\n",
        "\n",
        "solution =\n",
        "\n",
        "x(t) = exp(t)\n",
        "y(t) = 0.5*exp(t) +1.5*exp(-t)\n",
        "\n",
        "'''\n",
        "\n",
        "@numba.njit\n",
        "def RK4(odefun,ics,h,span,degree):\n",
        "    \n",
        "    N= int( (span[1]-span[0])/h )\n",
        "    \n",
        "    tY = np.zeros((N+1,degree+1))\n",
        "    tY[0,1:] = ics\n",
        "    \n",
        "    \n",
        "    for  i in range(N):\n",
        "        tY[i+1,0] = tY[i,0] + h\n",
        "\n",
        "        k1= odefun(tY[i,0]       , tY[i,1:])\n",
        "        k2= odefun(tY[i,0] +(h/2), tY[i,1:] +(h*k1)/2 )\n",
        "        k3= odefun(tY[i,0] +(h/2), tY[i,1:] +(h*k2)/2)\n",
        "        k4= odefun(tY[i,0] +(h)  , tY[i,1:] +(h*k3))\n",
        "        \n",
        "        tY[i+1,1:] = tY[i,1:] + h*(1/6) * (k1+2*k2+2*k3+k4)\n",
        "        \n",
        "    return tY[:,0],tY[:,1:]\n",
        "\n",
        "@numba.njit\n",
        "def system_of_ode(t,V):\n",
        "  y1,y2 = V[0],V[1]\n",
        "  return np.array([y1,y1-y2])\n",
        "\n",
        "t,y=RK4(system_of_ode,\n",
        "        ics=np.array([1,2]),\n",
        "        h=1e-3,\n",
        "        span=np.array([1e-4,np.pi]),\n",
        "        degree =2)"
      ],
      "execution_count": 3,
      "outputs": []
    },
    {
      "cell_type": "code",
      "metadata": {
        "colab": {
          "base_uri": "https://localhost:8080/",
          "height": 282
        },
        "id": "bNctv_EFp-yD",
        "outputId": "9ede81ec-108c-4d4b-f928-d0c2493aea0c"
      },
      "source": [
        "plt.plot(t,y[:,0],'-r',label='RK4[1]')\n",
        "plt.plot(t,np.exp(t),'--k',label='Analytical[1]')\n",
        "\n",
        "plt.plot(t,y[:,1],'-g',label='RK4[2]')\n",
        "plt.plot(t,0.5*np.exp(t)+1.5*np.exp(-t),'--b',label='Analytical[2]')\n",
        "\n",
        "plt.legend()"
      ],
      "execution_count": 4,
      "outputs": [
        {
          "output_type": "execute_result",
          "data": {
            "text/plain": [
              "<matplotlib.legend.Legend at 0x7f5fe67fa3d0>"
            ]
          },
          "metadata": {},
          "execution_count": 4
        },
        {
          "output_type": "display_data",
          "data": {
            "image/png": "[encoded data removed]",
            "text/plain": [
              "<Figure size 432x288 with 1 Axes>"
            ]
          },
          "metadata": {
            "needs_background": "light"
          }
        }
      ]
    },
    {
      "cell_type": "markdown",
      "metadata": {
        "id": "NQ61lEQeXgrc"
      },
      "source": [
        "### Constructing the MLP"
      ]
    },
    {
      "cell_type": "code",
      "metadata": {
        "id": "Lml6PGLPZgmr",
        "colab": {
          "base_uri": "https://localhost:8080/"
        },
        "outputId": "aaa25445-8e2d-4540-8cf3-20d6e5404fc8"
      },
      "source": [
        "N_b = 1_000\n",
        "N_c = 10_000\n",
        "\n",
        "tmin,tmax=0. ,jnp.pi\n",
        "\n",
        "'''boundary conditions'''\n",
        "\n",
        "\n",
        "# y1[0] = 1\n",
        "y1_t0 = jnp.zeros([N_b,1],dtype='float32')\n",
        "y1_ic = jnp.ones_like(y1_t0) \n",
        "Y1_IC = jnp.concatenate([y1_t0,y1_ic],axis=1)\n",
        "\n",
        "# y2[0] = 2\n",
        "y2_t0 = jnp.zeros([N_b,1],dtype='float32')\n",
        "y2_ic = jnp.ones_like(y2_t0) * 2\n",
        "Y2_IC = jnp.concatenate([y2_t0,y2_ic],axis=1)\n",
        "\n",
        "conds = [Y1_IC,Y2_IC]\n",
        "\n",
        "#collocation points\n",
        "\n",
        "key=jax.random.PRNGKey(0)\n",
        "\n",
        "t_c = jax.random.uniform(key,minval=tmin,maxval=tmax,shape=(N_c,1))\n",
        "colloc = t_c\n",
        "\n",
        "def ODE_loss(t,y1,y2):\n",
        "\n",
        "  y1_t=lambda t:jax.grad(lambda t:jnp.sum(y1(t)))(t)\n",
        "  y2_t=lambda t:jax.grad(lambda t:jnp.sum(y2(t)))(t)\n",
        "\n",
        "  return y1_t(t) - y1(t)  , y2_t(t) - y1(t) + y2(t)\n"
      ],
      "execution_count": 5,
      "outputs": [
        {
          "output_type": "stream",
          "name": "stderr",
          "text": [
            "WARNING:absl:No GPU/TPU found, falling back to CPU. (Set TF_CPP_MIN_LOG_LEVEL=0 and rerun for more info.)\n"
          ]
        }
      ]
    },
    {
      "cell_type": "code",
      "metadata": {
        "id": "KoZZJl2TbI_n"
      },
      "source": [
        "def init_params(layers):\n",
        "  keys = jax.random.split(jax.random.PRNGKey(0),len(layers)-1)\n",
        "  params = list()\n",
        "  for key,n_in,n_out in zip(keys,layers[:-1],layers[1:]):\n",
        "    lb, ub = -(1 / jnp.sqrt(n_in)), (1 / jnp.sqrt(n_in)) # xavier initialization lower and upper bound\n",
        "    W = lb + (ub-lb) * jax.random.uniform(key,shape=(n_in,n_out))\n",
        "    B = jax.random.uniform(key,shape=(n_out,))\n",
        "    params.append({'W':W,'B':B})\n",
        "  return params\n",
        "\n",
        "def fwd(params,t):\n",
        "  X = jnp.concatenate([t],axis=1)\n",
        "  *hidden,last = params\n",
        "  for layer in hidden :\n",
        "    X = jax.nn.tanh(X@layer['W']+layer['B'])\n",
        "  return X@last['W'] + last['B']\n",
        "\n",
        "@jax.jit\n",
        "def MSE(true,pred):\n",
        "  return jnp.mean((true-pred)**2)\n",
        "\n",
        "def loss_fun(params,colloc,conds):\n",
        "  t_c =colloc[:,[0]]\n",
        "\n",
        "  y1_func = lambda t : fwd(params,t)[:,[0]]\n",
        "  y1_func_t=lambda t:jax.grad(lambda t:jnp.sum(y1_func(t)))(t)\n",
        "\n",
        "  y2_func = lambda t : fwd(params,t)[:,[1]]\n",
        "  y2_func_t=lambda t:jax.grad(lambda t:jnp.sum(y2_func(t)))(t)\n",
        "\n",
        "  loss_y1,loss_y2  =ODE_loss(t_c,y1_func,y2_func)\n",
        "\n",
        "  loss = jnp.mean( loss_y1 **2) \n",
        "  loss+= jnp.mean(loss_y2 **2)\n",
        "\n",
        "  t_ic,y1_ic = conds[0][:,[0]],conds[0][:,[1]]  \n",
        "  loss += MSE(y1_ic,y1_func(t_ic))\n",
        "\n",
        "  t_ic,y2_ic = conds[1][:,[0]],conds[1][:,[1]]  \n",
        "  loss += MSE(y2_ic,y2_func(t_ic))\n",
        "\n",
        "  return  loss\n",
        "\n",
        "@jax.jit\n",
        "def update(opt_state,params,colloc,conds):\n",
        "  # Get the gradient w.r.t to MLP params\n",
        "  grads=jax.jit(jax.grad(loss_fun,0))(params,colloc,conds)\n",
        "  \n",
        "  #Update params\n",
        "  updates, opt_state = optimizer.update(grads, opt_state)\n",
        "  params = optax.apply_updates(params, updates)\n",
        "\n",
        "  #Update params\n",
        "  # return jax.tree_multimap(lambda params,grads : params-LR*grads, params,grads)\n",
        "  return opt_state,params\n"
      ],
      "execution_count": 6,
      "outputs": []
    },
    {
      "cell_type": "code",
      "metadata": {
        "id": "ae1ZDoy0c29c"
      },
      "source": [
        "# construct the MLP of  6 hidden layers of 8 neurons for each layer\n",
        "params = init_params([1] + [8]*2+[2])"
      ],
      "execution_count": 7,
      "outputs": []
    },
    {
      "cell_type": "code",
      "metadata": {
        "id": "jySmbUwic5yk"
      },
      "source": [
        "optimizer = optax.adam(1e-2)\n",
        "opt_state = optimizer.init(params)"
      ],
      "execution_count": 8,
      "outputs": []
    },
    {
      "cell_type": "code",
      "metadata": {
        "colab": {
          "base_uri": "https://localhost:8080/"
        },
        "id": "VS0bosXPg1Oo",
        "outputId": "258603fc-cb6e-4dcb-eb86-4560004b71e2"
      },
      "source": [
        "fwd(params,t_c)[:,[0]].shape"
      ],
      "execution_count": 9,
      "outputs": [
        {
          "output_type": "execute_result",
          "data": {
            "text/plain": [
              "(10000, 1)"
            ]
          },
          "metadata": {},
          "execution_count": 9
        }
      ]
    },
    {
      "cell_type": "code",
      "metadata": {
        "colab": {
          "base_uri": "https://localhost:8080/"
        },
        "id": "kBzGA8OVc8C6",
        "outputId": "7dda4b83-5d7e-497c-fb98-64e7b1322528"
      },
      "source": [
        "%%time\n",
        "epochs = 10_000\n",
        "for _ in range(epochs):\n",
        "  opt_state,params = update(opt_state,params,colloc,conds)\n",
        "\n",
        "  # print loss and epoch info\n",
        "  if _ %(100) ==0:\n",
        "    print(f'Epoch={_}\\tloss={loss_fun(params,colloc,conds):.3e}')"
      ],
      "execution_count": 10,
      "outputs": [
        {
          "output_type": "stream",
          "name": "stdout",
          "text": [
            "Epoch=0\tloss=4.391e+00\n",
            "Epoch=100\tloss=3.921e-01\n",
            "Epoch=200\tloss=3.891e-01\n",
            "Epoch=300\tloss=3.876e-01\n",
            "Epoch=400\tloss=3.866e-01\n",
            "Epoch=500\tloss=3.855e-01\n",
            "Epoch=600\tloss=3.840e-01\n",
            "Epoch=700\tloss=3.820e-01\n",
            "Epoch=800\tloss=3.788e-01\n",
            "Epoch=900\tloss=3.726e-01\n",
            "Epoch=1000\tloss=3.555e-01\n",
            "Epoch=1100\tloss=3.070e-01\n",
            "Epoch=1200\tloss=2.254e-01\n",
            "Epoch=1300\tloss=1.834e-01\n",
            "Epoch=1400\tloss=1.354e-01\n",
            "Epoch=1500\tloss=1.085e-01\n",
            "Epoch=1600\tloss=8.198e-02\n",
            "Epoch=1700\tloss=6.454e-02\n",
            "Epoch=1800\tloss=5.201e-02\n",
            "Epoch=1900\tloss=4.232e-02\n",
            "Epoch=2000\tloss=3.476e-02\n",
            "Epoch=2100\tloss=2.897e-02\n",
            "Epoch=2200\tloss=2.339e-02\n",
            "Epoch=2300\tloss=1.980e-02\n",
            "Epoch=2400\tloss=1.632e-02\n",
            "Epoch=2500\tloss=1.425e-02\n",
            "Epoch=2600\tloss=1.194e-02\n",
            "Epoch=2700\tloss=1.174e-02\n",
            "Epoch=2800\tloss=9.231e-03\n",
            "Epoch=2900\tloss=7.939e-03\n",
            "Epoch=3000\tloss=7.260e-03\n",
            "Epoch=3100\tloss=6.298e-03\n",
            "Epoch=3200\tloss=7.007e-02\n",
            "Epoch=3300\tloss=5.132e-03\n",
            "Epoch=3400\tloss=4.541e-03\n",
            "Epoch=3500\tloss=5.706e-03\n",
            "Epoch=3600\tloss=3.834e-03\n",
            "Epoch=3700\tloss=3.433e-03\n",
            "Epoch=3800\tloss=3.316e-03\n",
            "Epoch=3900\tloss=2.964e-03\n",
            "Epoch=4000\tloss=2.688e-03\n",
            "Epoch=4100\tloss=2.604e-03\n",
            "Epoch=4200\tloss=2.364e-03\n",
            "Epoch=4300\tloss=1.091e-01\n",
            "Epoch=4400\tloss=2.085e-03\n",
            "Epoch=4500\tloss=1.907e-03\n",
            "Epoch=4600\tloss=2.153e-03\n",
            "Epoch=4700\tloss=1.716e-03\n",
            "Epoch=4800\tloss=1.577e-03\n",
            "Epoch=4900\tloss=1.593e-03\n",
            "Epoch=5000\tloss=1.462e-03\n",
            "Epoch=5100\tloss=1.348e-03\n",
            "Epoch=5200\tloss=1.934e-03\n",
            "Epoch=5300\tloss=1.247e-03\n",
            "Epoch=5400\tloss=1.154e-03\n",
            "Epoch=5500\tloss=1.163e-03\n",
            "Epoch=5600\tloss=1.062e-03\n",
            "Epoch=5700\tloss=6.481e-03\n",
            "Epoch=5800\tloss=9.879e-04\n",
            "Epoch=5900\tloss=9.198e-04\n",
            "Epoch=6000\tloss=9.548e-04\n",
            "Epoch=6100\tloss=8.567e-04\n",
            "Epoch=6200\tloss=5.164e-03\n",
            "Epoch=6300\tloss=8.136e-04\n",
            "Epoch=6400\tloss=7.632e-04\n",
            "Epoch=6500\tloss=8.119e-04\n",
            "Epoch=6600\tloss=7.259e-04\n",
            "Epoch=6700\tloss=6.844e-04\n",
            "Epoch=6800\tloss=6.932e-04\n",
            "Epoch=6900\tloss=6.498e-04\n",
            "Epoch=7000\tloss=1.022e-02\n",
            "Epoch=7100\tloss=6.268e-04\n",
            "Epoch=7200\tloss=5.936e-04\n",
            "Epoch=7300\tloss=3.431e-03\n",
            "Epoch=7400\tloss=5.711e-04\n",
            "Epoch=7500\tloss=5.428e-04\n",
            "Epoch=7600\tloss=6.806e-04\n",
            "Epoch=7700\tloss=5.217e-04\n",
            "Epoch=7800\tloss=7.266e-03\n",
            "Epoch=7900\tloss=5.146e-04\n",
            "Epoch=8000\tloss=4.886e-04\n",
            "Epoch=8100\tloss=1.107e-03\n",
            "Epoch=8200\tloss=4.893e-04\n",
            "Epoch=8300\tloss=4.574e-04\n",
            "Epoch=8400\tloss=9.877e-02\n",
            "Epoch=8500\tloss=4.501e-04\n",
            "Epoch=8600\tloss=4.283e-04\n",
            "Epoch=8700\tloss=2.029e-03\n",
            "Epoch=8800\tloss=4.216e-04\n",
            "Epoch=8900\tloss=4.044e-04\n",
            "Epoch=9000\tloss=4.368e-04\n",
            "Epoch=9100\tloss=4.015e-04\n",
            "Epoch=9200\tloss=3.859e-04\n",
            "Epoch=9300\tloss=1.088e-03\n",
            "Epoch=9400\tloss=3.847e-04\n",
            "Epoch=9500\tloss=3.701e-04\n",
            "Epoch=9600\tloss=7.795e-04\n",
            "Epoch=9700\tloss=3.653e-04\n",
            "Epoch=9800\tloss=8.272e-02\n",
            "Epoch=9900\tloss=3.632e-04\n",
            "CPU times: user 1min 39s, sys: 2.21 s, total: 1min 41s\n",
            "Wall time: 1min 31s\n"
          ]
        }
      ]
    },
    {
      "cell_type": "code",
      "metadata": {
        "colab": {
          "base_uri": "https://localhost:8080/",
          "height": 282
        },
        "id": "eWeNvDsdDEuI",
        "outputId": "3ca4560a-ca9f-451f-db9d-0b61e081cfa2"
      },
      "source": [
        "dT = 1e-3\n",
        "Tf = jnp.pi\n",
        "T = np.arange(0,Tf+dT,dT)\n",
        "\n",
        "plt.plot(t,np.exp(t),'-b',label='Analytical[y1]')\n",
        "plt.plot(T,fwd(params,T.reshape(-1,1))[:,0],'--k',label='NN[y1]',linewidth=2)\n",
        "\n",
        "plt.plot(t,0.5*np.exp(t)+1.5*np.exp(-t),'-r',label='Analytical[y2]')\n",
        "plt.plot(T,fwd(params,T.reshape(-1,1))[:,1],'--k',label='NN[y2]',linewidth=2)\n",
        "\n",
        "plt.legend()"
      ],
      "execution_count": 11,
      "outputs": [
        {
          "output_type": "execute_result",
          "data": {
            "text/plain": [
              "<matplotlib.legend.Legend at 0x7f5fd2021ed0>"
            ]
          },
          "metadata": {},
          "execution_count": 11
        },
        {
          "output_type": "display_data",
          "data": {
            "image/png": "[encoded data removed]",
            "text/plain": [
              "<Figure size 432x288 with 1 Axes>"
            ]
          },
          "metadata": {
            "needs_background": "light"
          }
        }
      ]
    }
  ]
}