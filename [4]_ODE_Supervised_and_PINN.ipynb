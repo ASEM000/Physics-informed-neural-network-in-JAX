{
  "cells": [
    {
      "cell_type": "markdown",
      "metadata": {
        "colab_type": "text",
        "id": "view-in-github"
      },
      "source": [
        "<a href=\"https://colab.research.google.com/github/ASEM000/Physics-informed-neural-network-in-JAX/blob/main/%5B4%5D_ODE_Supervised_and_PINN.ipynb\" target=\"_parent\"><img src=\"https://colab.research.google.com/assets/colab-badge.svg\" alt=\"Open In Colab\"/></a>"
      ]
    },
    {
      "cell_type": "markdown",
      "metadata": {
        "id": "8mIeFcVvykBV"
      },
      "source": [
        "Credits : Mahmoud Asem @Asem000  Septemeber 2021\n",
        "\n",
        "Problem motivation credits : [Chris Rackauckas](https://chrisrackauckas.com) from [MIT 18.837](https://mitmath.github.io/18337/lecture3/sciml.html)\n"
      ]
    },
    {
      "cell_type": "markdown",
      "metadata": {
        "id": "FCZXu1J9u60x"
      },
      "source": [
        "### Supervised learning with PINN\n",
        "\n",
        "the aim of this notebook is to demonstrated how can we use assumed/approximated physics loss along with supervised loss to better predict an arbitrary model given limited  measurements.\n",
        "\n",
        "We measure the force at locations x_i of of a **real** spring system and use the x_i->F(x_i) pairs for supervised training . We later **assume** that the real spring follows hookes law and encode the **ideal** spring law in the physics loss formulation with the superivised loss .\n",
        "\n",
        "We compare the real spring (x,F(x)) against both strictly supervised loss and supervised loss with ideal spring physics loss\n",
        "\n",
        "<img src=\"https://i.imgur.com/A2fwUNg.png\" width=50%>\n",
        "\n",
        "<img src=\"https://i.imgur.com/wwpNTTi.png\" width=50%>"
      ]
    },
    {
      "cell_type": "code",
      "execution_count": 1,
      "metadata": {
        "colab": {
          "base_uri": "https://localhost:8080/"
        },
        "id": "vAR0swbLX_ZI",
        "outputId": "00ddea2c-105c-49e8-ec30-b22b11b99f5a"
      },
      "outputs": [
        {
          "name": "stdout",
          "output_type": "stream",
          "text": [
            "Requirement already satisfied: optax in /usr/local/lib/python3.7/dist-packages (0.0.9)\n",
            "Requirement already satisfied: numpy>=1.18.0 in /usr/local/lib/python3.7/dist-packages (from optax) (1.19.5)\n",
            "Requirement already satisfied: chex>=0.0.4 in /usr/local/lib/python3.7/dist-packages (from optax) (0.0.8)\n",
            "Requirement already satisfied: absl-py>=0.7.1 in /usr/local/lib/python3.7/dist-packages (from optax) (0.12.0)\n",
            "Requirement already satisfied: jax>=0.1.55 in /usr/local/lib/python3.7/dist-packages (from optax) (0.2.19)\n",
            "Requirement already satisfied: jaxlib>=0.1.37 in /usr/local/lib/python3.7/dist-packages (from optax) (0.1.70+cuda111)\n",
            "Requirement already satisfied: six in /usr/local/lib/python3.7/dist-packages (from absl-py>=0.7.1->optax) (1.15.0)\n",
            "Requirement already satisfied: toolz>=0.9.0 in /usr/local/lib/python3.7/dist-packages (from chex>=0.0.4->optax) (0.11.1)\n",
            "Requirement already satisfied: dm-tree>=0.1.5 in /usr/local/lib/python3.7/dist-packages (from chex>=0.0.4->optax) (0.1.6)\n",
            "Requirement already satisfied: opt-einsum in /usr/local/lib/python3.7/dist-packages (from jax>=0.1.55->optax) (3.3.0)\n",
            "Requirement already satisfied: scipy in /usr/local/lib/python3.7/dist-packages (from jaxlib>=0.1.37->optax) (1.4.1)\n",
            "Requirement already satisfied: flatbuffers<3.0,>=1.12 in /usr/local/lib/python3.7/dist-packages (from jaxlib>=0.1.37->optax) (1.12)\n",
            "Requirement already satisfied: numba in /usr/local/lib/python3.7/dist-packages (0.51.2)\n",
            "Requirement already satisfied: llvmlite<0.35,>=0.34.0.dev0 in /usr/local/lib/python3.7/dist-packages (from numba) (0.34.0)\n",
            "Requirement already satisfied: setuptools in /usr/local/lib/python3.7/dist-packages (from numba) (57.4.0)\n",
            "Requirement already satisfied: numpy>=1.15 in /usr/local/lib/python3.7/dist-packages (from numba) (1.19.5)\n"
          ]
        }
      ],
      "source": [
        "#Imports\n",
        "import jax \n",
        "import jax.numpy as jnp\n",
        "import numpy as np\n",
        "import matplotlib.pyplot as plt\n",
        "from matplotlib import cm\n",
        "import matplotlib as mpl\n",
        "!pip install optax\n",
        "import optax\n",
        "!pip install numba\n",
        "import numba\n",
        "import sympy as sp"
      ]
    },
    {
      "cell_type": "markdown",
      "metadata": {
        "id": "7bg4nSbsXVwD"
      },
      "source": [
        "### Mass-Spring-Damper Problem"
      ]
    },
    {
      "cell_type": "markdown",
      "metadata": {
        "id": "DGSu3EJwxDf7"
      },
      "source": [
        "We construct the following mass spring damper problem . Then we select about 7 points as our measurements points .\n"
      ]
    },
    {
      "cell_type": "code",
      "execution_count": 2,
      "metadata": {
        "colab": {
          "base_uri": "https://localhost:8080/",
          "height": 54
        },
        "id": "P9664e-mVMTN",
        "outputId": "3d21926f-572f-4a79-ad7b-bdbe3334094a"
      },
      "outputs": [
        {
          "data": {
            "text/latex": [
              "$\\displaystyle c \\frac{d}{d t} x{\\left(t \\right)} + k x{\\left(t \\right)} + m \\frac{d^{2}}{d t^{2}} x{\\left(t \\right)} = 0$"
            ],
            "text/plain": [
              "Eq(c*Derivative(x(t), t) + k*x(t) + m*Derivative(x(t), (t, 2)), 0)"
            ]
          },
          "execution_count": 2,
          "metadata": {},
          "output_type": "execute_result"
        }
      ],
      "source": [
        "t,k,m,c= sp.symbols('t k  m c')\n",
        "x = sp.Function('x')\n",
        "\n",
        "diffeq = sp.Eq(m*x(t).diff(t,t) +k*x(t) + c* x(t).diff(t) ,0)\n",
        "diffeq"
      ]
    },
    {
      "cell_type": "markdown",
      "metadata": {
        "id": "kChagUv8JtIv"
      },
      "source": [
        "$\\text{State space representation}$\n",
        "\n",
        "$\\frac{d}{dt}$\n",
        "$\\begin{bmatrix}\n",
        "x  \\\\\n",
        "\\dot{x} \n",
        "\\end{bmatrix}$\n",
        "$=$\n",
        "$\n",
        "\\begin{bmatrix}\n",
        "0 & 1  \\\\\n",
        "\\frac{-k}{m} & \\frac{-c}{m} \n",
        "\\end{bmatrix}\n",
        "$\n",
        "$\\begin{bmatrix}\n",
        "x  \\\\\n",
        "\\dot{x} \n",
        "\\end{bmatrix}$\n",
        "\n",
        "$\\frac{dx}{dt}=\\dot{x}$\n",
        "\n",
        "$\\frac{d^2x}{dt^2} =\\frac{-k}{m} \\ x +\\frac{-c}{m} \\ \\dot{x}$ \n"
      ]
    },
    {
      "cell_type": "markdown",
      "metadata": {
        "id": "CXelBMmysTw2"
      },
      "source": [
        "#### Problem configuration"
      ]
    },
    {
      "cell_type": "code",
      "execution_count": 3,
      "metadata": {
        "colab": {
          "base_uri": "https://localhost:8080/",
          "height": 54
        },
        "id": "ospW1dBky9gx",
        "outputId": "e6dfde7b-daf9-4e00-ac22-ea36539d523f"
      },
      "outputs": [
        {
          "data": {
            "text/latex": [
              "$\\displaystyle x{\\left(t \\right)} + 0.5 \\frac{d}{d t} x{\\left(t \\right)} + \\frac{d^{2}}{d t^{2}} x{\\left(t \\right)} = 0$"
            ],
            "text/plain": [
              "Eq(x(t) + 0.5*Derivative(x(t), t) + Derivative(x(t), (t, 2)), 0)"
            ]
          },
          "execution_count": 3,
          "metadata": {},
          "output_type": "execute_result"
        }
      ],
      "source": [
        "kv = 1  #spring constant\n",
        "mv = 1  # mass\n",
        "cv = 0.5 # damping coefficient\n",
        "diffeq = diffeq.subs({k:kv,c:cv,m:mv})\n",
        "diffeq"
      ]
    },
    {
      "cell_type": "code",
      "execution_count": 4,
      "metadata": {
        "colab": {
          "base_uri": "https://localhost:8080/",
          "height": 38
        },
        "id": "nOl3m8RqsPN9",
        "outputId": "045dd056-fe89-487a-fa84-0e76114a0fb6"
      },
      "outputs": [
        {
          "data": {
            "text/latex": [
              "$\\displaystyle x{\\left(0 \\right)} = 0$"
            ],
            "text/plain": [
              "Eq(x(0), 0)"
            ]
          },
          "execution_count": 4,
          "metadata": {},
          "output_type": "execute_result"
        }
      ],
      "source": [
        "# inital conditon\n",
        "sp.Eq(x(t).subs(t,0),0)"
      ]
    },
    {
      "cell_type": "code",
      "execution_count": 5,
      "metadata": {
        "colab": {
          "base_uri": "https://localhost:8080/",
          "height": 60
        },
        "id": "T5VcnYbDsJYB",
        "outputId": "7d94d12d-0472-4ad3-b3ff-8af3bec3c9ea"
      },
      "outputs": [
        {
          "data": {
            "text/latex": [
              "$\\displaystyle \\left. \\frac{d}{d t} x{\\left(t \\right)} \\right|_{\\substack{ t=0 }} = 1$"
            ],
            "text/plain": [
              "Eq(Subs(Derivative(x(t), t), t, 0), 1)"
            ]
          },
          "execution_count": 5,
          "metadata": {},
          "output_type": "execute_result"
        }
      ],
      "source": [
        "# inital condition\n",
        "sp.Eq(x(t).diff(t).subs(t,0),1)"
      ]
    },
    {
      "cell_type": "code",
      "execution_count": 6,
      "metadata": {
        "id": "r9KVq1yjYfld"
      },
      "outputs": [],
      "source": [
        "ics={\n",
        "    x(0):0,\n",
        "    x(t).diff(t).subs(t,0):1,   \n",
        "     }"
      ]
    },
    {
      "cell_type": "code",
      "execution_count": 7,
      "metadata": {
        "id": "_nI9-fj7wmKA"
      },
      "outputs": [],
      "source": [
        "#Displacement\n",
        "D = sp.simplify(sp.dsolve(diffeq,ics=ics).rhs) \n",
        "\n",
        "#Velocity\n",
        "V = D.diff(t)\n",
        "\n",
        "#Force\n",
        "F = -kv * D - cv* D.diff(t) "
      ]
    },
    {
      "cell_type": "code",
      "execution_count": 8,
      "metadata": {
        "colab": {
          "base_uri": "https://localhost:8080/",
          "height": 312
        },
        "id": "jFA7s9u4z4Uk",
        "outputId": "c565564d-5413-4a3a-beca-8bfed7f7ed2e"
      },
      "outputs": [
        {
          "data": {
            "text/plain": [
              "Text(0.5, 1.0, 'Force measurements')"
            ]
          },
          "execution_count": 8,
          "metadata": {},
          "output_type": "execute_result"
        },
        {
          "data": {
            "image/png": "[encoded data removed]",
            "text/plain": [
              "<Figure size 432x288 with 1 Axes>"
            ]
          },
          "metadata": {
            "needs_background": "light"
          },
          "output_type": "display_data"
        }
      ],
      "source": [
        "D_func = sp.lambdify(t,D)\n",
        "V_func = sp.lambdify(t,V)\n",
        "F_func = sp.lambdify(t,F)\n",
        "\n",
        "# Full solution\n",
        "dT = 1e-3\n",
        "T_full = np.arange(0,3*np.pi+dT,dT)\n",
        "D_full = D_func(T_full)\n",
        "V_full = V_func(T_full)\n",
        "F_full = F_func(T_full)\n",
        "\n",
        "# Measurement solution \n",
        "dT = np.pi/2\n",
        "T_part = np.arange(0,3*np.pi+dT,dT)\n",
        "D_part = D_func(T_part)\n",
        "V_part = V_func(T_part)\n",
        "F_part = F_func(T_part)\n",
        "\n",
        "plt.figure(1);\n",
        "plt.plot(T_full,F_full,'k',label='True spring model');\n",
        "plt.scatter(T_part,F_part,label='Force measurements');\n",
        "\n",
        "plt.legend();\n",
        "plt.xlabel('t');\n",
        "plt.ylabel('F')\n",
        "plt.title('Force measurements')\n"
      ]
    },
    {
      "cell_type": "code",
      "execution_count": 10,
      "metadata": {
        "colab": {
          "base_uri": "https://localhost:8080/"
        },
        "id": "figsqCK4igpx",
        "outputId": "84220b63-1bbc-4cda-cdad-86e381343c84"
      },
      "outputs": [
        {
          "name": "stderr",
          "output_type": "stream",
          "text": [
            "WARNING:absl:No GPU/TPU found, falling back to CPU. (Set TF_CPP_MIN_LOG_LEVEL=0 and rerun for more info.)\n"
          ]
        }
      ],
      "source": [
        "# time position\n",
        "X = T_part.reshape(-1,1)\n",
        "\n",
        "# force position\n",
        "Y = F_part.reshape(-1,1)\n",
        "\n",
        "conds = jnp.concatenate([X,Y],axis=1)\n",
        "\n",
        "#collocation points\n",
        "colloc = jnp.linspace(0,3*np.pi,1_000).reshape(-1,1)"
      ]
    },
    {
      "cell_type": "markdown",
      "metadata": {
        "id": "NQ61lEQeXgrc"
      },
      "source": [
        "### Constructing the MLP"
      ]
    },
    {
      "cell_type": "code",
      "execution_count": 12,
      "metadata": {
        "id": "Lml6PGLPZgmr"
      },
      "outputs": [],
      "source": [
        "def ODE_loss(t,x):\n",
        "  x_t=lambda t:jax.grad(lambda t:jnp.sum(x(t)))(t)\n",
        "  x_tt=lambda t:jax.grad(lambda t:jnp.sum(x_t(t)))(t)\n",
        "  return x_tt(t) + 1.0*x(t)"
      ]
    },
    {
      "cell_type": "code",
      "execution_count": 13,
      "metadata": {
        "id": "KoZZJl2TbI_n"
      },
      "outputs": [],
      "source": [
        "def init_params(layers):\n",
        "  keys = jax.random.split(jax.random.PRNGKey(0),len(layers)-1)\n",
        "  params = list()\n",
        "  for key,n_in,n_out in zip(keys,layers[:-1],layers[1:]):\n",
        "    lb, ub = -(1 / jnp.sqrt(n_in)), (1 / jnp.sqrt(n_in)) # xavier initialization lower and upper bound\n",
        "    W = lb + (ub-lb) * jax.random.uniform(key,shape=(n_in,n_out))\n",
        "    B = jax.random.uniform(key,shape=(n_out,))\n",
        "    params.append({'W':W,'B':B})\n",
        "  return params\n",
        "\n",
        "def fwd(params,t):\n",
        "  X = jnp.concatenate([t],axis=1)\n",
        "  *hidden,last = params\n",
        "  for layer in hidden :\n",
        "    X = jax.nn.tanh(X@layer['W']+layer['B'])\n",
        "  return X@last['W'] + last['B']\n",
        "\n",
        "@jax.jit\n",
        "def MSE(true,pred):\n",
        "  return jnp.mean((true-pred)**2)\n",
        "\n",
        "\n",
        "def loss_fun(params,colloc,conds,Alpha=1.0,Beta= 0.0):\n",
        "  '''\n",
        "  Conds => Function satisfied at measured points by supervised loss and physics loss\n",
        "  colloc=> Function satisfied at the collocation points by physics loss\n",
        "  '''\n",
        "  X,Y = conds[:,[0]],conds[:,[1]]\n",
        "  t_c = colloc #collocation point\n",
        "  loss = 0.\n",
        "\n",
        "  supervised_loss = Alpha * jnp.mean((fwd(params,X) - Y)**2)\n",
        "  loss += supervised_loss\n",
        "  \n",
        "  xfunc = lambda t : fwd(params,t)\n",
        "  physics_loss = Beta * jnp.mean(ODE_loss(t_c,xfunc)**2)\n",
        "  loss += physics_loss\n",
        "  \n",
        "  return loss\n",
        "\n",
        "@jax.jit\n",
        "def update(opt_state,params,colloc,conds,Alpha=1.0,Beta=0.0):\n",
        "  # Get the gradient w.r.t to MLP params\n",
        "  grads=jax.jit(jax.grad(loss_fun,0))(params,colloc,conds,Alpha,Beta)\n",
        "  \n",
        "  #Update params\n",
        "  updates, opt_state = optimizer.update(grads, opt_state)\n",
        "  params = optax.apply_updates(params, updates)\n",
        "\n",
        "  return opt_state,params\n",
        "\n"
      ]
    },
    {
      "cell_type": "markdown",
      "metadata": {
        "id": "OGrOF0D3fR-D"
      },
      "source": [
        "### Supervised only\n"
      ]
    },
    {
      "cell_type": "markdown",
      "metadata": {
        "id": "Uf8_lWUOxb-Y"
      },
      "source": [
        "We try to map the x->F(x) with strictly supervised loss formulation"
      ]
    },
    {
      "cell_type": "code",
      "execution_count": 14,
      "metadata": {
        "colab": {
          "base_uri": "https://localhost:8080/"
        },
        "id": "jySmbUwic5yk",
        "outputId": "9e9b7db8-5cb9-4e64-cc2d-c1f03d979b76"
      },
      "outputs": [
        {
          "name": "stdout",
          "output_type": "stream",
          "text": [
            "Epoch=0\tloss=1.408e+00\n",
            "Epoch=1000\tloss=3.678e-03\n",
            "Epoch=2000\tloss=2.715e-10\n",
            "Epoch=3000\tloss=3.515e-10\n",
            "Epoch=4000\tloss=6.840e-10\n",
            "Epoch=5000\tloss=4.076e-12\n",
            "Epoch=6000\tloss=2.777e-11\n",
            "Epoch=7000\tloss=1.161e-05\n",
            "Epoch=8000\tloss=3.482e-06\n",
            "Epoch=9000\tloss=1.643e-05\n",
            "CPU times: user 31.2 s, sys: 482 ms, total: 31.7 s\n",
            "Wall time: 31.7 s\n"
          ]
        }
      ],
      "source": [
        "%%time\n",
        "\n",
        "Alpha,Beta = 1.,0.\n",
        "\n",
        "# construct the MLP of  6 hidden layers of 8 neurons for each layer\n",
        "params = init_params([1] + [8]*6+[1])\n",
        "\n",
        "optimizer = optax.adam(1e-3)\n",
        "opt_state = optimizer.init(params)\n",
        "\n",
        "epochs = 10_000\n",
        "for _ in range(epochs):\n",
        "  opt_state,params = update(opt_state,params,colloc,conds,Alpha,Beta)\n",
        "\n",
        "  # print loss and epoch info\n",
        "  if _ %(1000) ==0:\n",
        "    print(f'Epoch={_}\\tloss={loss_fun(params,colloc,conds,Alpha,Beta):.3e}')"
      ]
    },
    {
      "cell_type": "code",
      "execution_count": 15,
      "metadata": {
        "colab": {
          "base_uri": "https://localhost:8080/",
          "height": 312
        },
        "id": "XafxrUPtc0k6",
        "outputId": "a27ddc9b-5db0-4c16-8e10-b2e52b308797"
      },
      "outputs": [
        {
          "data": {
            "text/plain": [
              "Text(0.5, 1.0, 'Supervised training only')"
            ]
          },
          "execution_count": 15,
          "metadata": {},
          "output_type": "execute_result"
        },
        {
          "data": {
            "image/png": "[encoded data removed]",
            "text/plain": [
              "<Figure size 432x288 with 1 Axes>"
            ]
          },
          "metadata": {
            "needs_background": "light"
          },
          "output_type": "display_data"
        }
      ],
      "source": [
        "pred = fwd(params,X)\n",
        "\n",
        "plt.figure(3);\n",
        "\n",
        "plt.plot(T_full,F_full,'k',label='True force');\n",
        "plt.scatter(T_part,F_part,c='k',label='Measurement points force');\n",
        "\n",
        "plt.plot(T_full.reshape(-1,1),fwd(params,T_full.reshape(-1,1)),'r',label='Predicted force')\n",
        "plt.scatter(T_part.reshape(-1,1),fwd(params,T_part.reshape(-1,1)),c='r',label='Predicted points force')\n",
        "\n",
        "plt.legend();\n",
        "plt.xlabel('t');\n",
        "plt.ylabel('F')\n",
        "plt.title('Supervised training only')\n"
      ]
    },
    {
      "cell_type": "markdown",
      "metadata": {
        "id": "_dzrCiiigBnc"
      },
      "source": [
        "### Physics loss with Supervised loss"
      ]
    },
    {
      "cell_type": "markdown",
      "metadata": {
        "id": "-Q2yEr_gxk29"
      },
      "source": [
        "In here , **we use hookes law approximation** for the physics loss as we observe that the model at hand is ideally a spring\n",
        "\n",
        "$Loss \\ function = \\alpha . SupervisedLoss + \\beta .PhysicsLoss$\n",
        "\n",
        "$ \\alpha = 1 \\ , \\ \\beta = 0.1$"
      ]
    },
    {
      "cell_type": "code",
      "execution_count": 16,
      "metadata": {
        "colab": {
          "base_uri": "https://localhost:8080/"
        },
        "id": "FDZVtsrgfwKd",
        "outputId": "b5f76586-66c9-4199-b9dc-598c2670dff6"
      },
      "outputs": [
        {
          "name": "stdout",
          "output_type": "stream",
          "text": [
            "Epoch=0\tloss=1.514e+00\n",
            "Epoch=1000\tloss=1.100e-02\n",
            "Epoch=2000\tloss=1.454e-03\n",
            "Epoch=3000\tloss=1.432e-03\n",
            "Epoch=4000\tloss=1.420e-03\n",
            "Epoch=5000\tloss=1.412e-03\n",
            "Epoch=6000\tloss=1.409e-03\n",
            "Epoch=7000\tloss=1.406e-03\n",
            "Epoch=8000\tloss=1.418e-03\n",
            "Epoch=9000\tloss=1.403e-03\n",
            "CPU times: user 20.3 s, sys: 374 ms, total: 20.7 s\n",
            "Wall time: 20.7 s\n"
          ]
        }
      ],
      "source": [
        "%%time\n",
        "\n",
        "Alpha,Beta = 1.,0.1\n",
        "\n",
        "# construct the MLP of  6 hidden layers of 8 neurons for each layer\n",
        "params = init_params([1] + [8]*6+[1])\n",
        "\n",
        "optimizer = optax.adam(1e-3)\n",
        "opt_state = optimizer.init(params)\n",
        "\n",
        "epochs = 10_000\n",
        "for _ in range(epochs):\n",
        "  opt_state,params = update(opt_state,params,colloc,conds,Alpha,Beta)\n",
        "\n",
        "  # print loss and epoch info\n",
        "  if _ %(1000) ==0:\n",
        "    print(f'Epoch={_}\\tloss={loss_fun(params,colloc,conds,Alpha,Beta):.3e}')"
      ]
    },
    {
      "cell_type": "code",
      "execution_count": 17,
      "metadata": {
        "colab": {
          "base_uri": "https://localhost:8080/",
          "height": 312
        },
        "id": "RR5R0TM0gJmq",
        "outputId": "f4c92859-fcb1-4543-8bd4-525d279642ed"
      },
      "outputs": [
        {
          "data": {
            "text/plain": [
              "Text(0.5, 1.0, 'Supervised loss + PINN loss training')"
            ]
          },
          "execution_count": 17,
          "metadata": {},
          "output_type": "execute_result"
        },
        {
          "data": {
            "image/png": "[encoded data removed]",
            "text/plain": [
              "<Figure size 432x288 with 1 Axes>"
            ]
          },
          "metadata": {
            "needs_background": "light"
          },
          "output_type": "display_data"
        }
      ],
      "source": [
        "pred = fwd(params,X)\n",
        "\n",
        "plt.figure(3);\n",
        "\n",
        "plt.plot(T_full,F_full,'k',label='True force');\n",
        "plt.scatter(T_part,F_part,c='k',label='Measurement points force');\n",
        "\n",
        "plt.plot(T_full.reshape(-1,1),fwd(params,T_full.reshape(-1,1)),'--r',label='Predicted force')\n",
        "plt.scatter(T_part.reshape(-1,1),fwd(params,T_part.reshape(-1,1)),c='r',label='Predicted points force')\n",
        "\n",
        "plt.legend();\n",
        "plt.xlabel('t');\n",
        "plt.ylabel('F')\n",
        "plt.title('Supervised loss + PINN loss training')\n"
      ]
    }
  ],
  "metadata": {
    "colab": {
      "authorship_tag": "ABX9TyP6X63k4tf5TRBqVONfKchS",
      "collapsed_sections": [],
      "include_colab_link": true,
      "name": "[4] ODE-Supervised-and-PINN.ipynb",
      "provenance": []
    },
    "kernelspec": {
      "display_name": "Python 3.8.9 64-bit",
      "language": "python",
      "name": "python3"
    },
    "language_info": {
      "name": "python",
      "version": "3.8.9"
    },
    "vscode": {
      "interpreter": {
        "hash": "31f2aee4e71d21fbe5cf8b01ff0e069b9275f58929596ceb00d14d90e3e16cd6"
      }
    }
  },
  "nbformat": 4,
  "nbformat_minor": 0
}
