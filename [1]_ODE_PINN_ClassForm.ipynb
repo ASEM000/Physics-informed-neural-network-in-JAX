{
  "cells": [
    {
      "cell_type": "markdown",
      "metadata": {
        "id": "view-in-github",
        "colab_type": "text"
      },
      "source": [
        "<a href=\"https://colab.research.google.com/github/ASEM000/Physics-informed-neural-network-in-JAX/blob/main/%5B1%5D_ODE_PINN_ClassForm.ipynb\" target=\"_parent\"><img src=\"https://colab.research.google.com/assets/colab-badge.svg\" alt=\"Open In Colab\"/></a>"
      ]
    },
    {
      "cell_type": "code",
      "execution_count": 7,
      "metadata": {
        "id": "v77fdC1ZLyg1"
      },
      "outputs": [],
      "source": [
        "#Credits : Mahmoud Asem @Asem000  July 2022"
      ]
    },
    {
      "cell_type": "code",
      "source": [
        "!pip install optax\n",
        "!pip install pytreeclass # for PyTorch like API\n",
        "!pip install tqdm"
      ],
      "metadata": {
        "id": "PmiMsCTpOtKE"
      },
      "execution_count": null,
      "outputs": []
    },
    {
      "cell_type": "code",
      "execution_count": 2,
      "metadata": {
        "id": "vAR0swbLX_ZI"
      },
      "outputs": [],
      "source": [
        "#Imports\n",
        "from typing import List , Callable\n",
        "import jax \n",
        "import jax.numpy as jnp\n",
        "import numpy as np\n",
        "import matplotlib.pyplot as plt\n",
        "from matplotlib import cm\n",
        "import matplotlib as mpl\n",
        "\n",
        "import optax\n",
        "from pytreeclass import treeclass,tree_viz\n",
        "import sympy as sp\n",
        "import functools\n",
        "from tqdm.notebook import tqdm"
      ]
    },
    {
      "cell_type": "markdown",
      "metadata": {
        "id": "7bg4nSbsXVwD"
      },
      "source": [
        "### Generate a a differential equation and its solution using SymPy"
      ]
    },
    {
      "cell_type": "code",
      "execution_count": 3,
      "metadata": {
        "id": "P9664e-mVMTN"
      },
      "outputs": [],
      "source": [
        "t= sp.symbols('t')\n",
        "f = sp.Function('y')\n",
        "diffeq = sp.Eq(f(t).diff(t,t) + f(t).diff(t)-t*sp.cos(2*sp.pi*t),0)\n",
        "sol = sp.simplify(sp.dsolve(diffeq,ics={f(0):1,f(t).diff(t).subs(t,0):10}).rhs)"
      ]
    },
    {
      "cell_type": "code",
      "execution_count": 4,
      "metadata": {
        "colab": {
          "base_uri": "https://localhost:8080/",
          "height": 54
        },
        "id": "klgFeU6bcTrC",
        "outputId": "b5c2ea10-343b-49bd-dbbc-1449f92ea7df"
      },
      "outputs": [
        {
          "data": {
            "text/latex": "$\\displaystyle - t \\cos{\\left(2 \\pi t \\right)} + \\frac{d}{d t} y{\\left(t \\right)} + \\frac{d^{2}}{d t^{2}} y{\\left(t \\right)} = 0$",
            "text/plain": [
              "Eq(-t*cos(2*pi*t) + Derivative(y(t), t) + Derivative(y(t), (t, 2)), 0)"
            ]
          },
          "execution_count": 4,
          "metadata": {},
          "output_type": "execute_result"
        }
      ],
      "source": [
        "diffeq"
      ]
    },
    {
      "cell_type": "code",
      "execution_count": 5,
      "metadata": {
        "colab": {
          "base_uri": "https://localhost:8080/",
          "height": 61
        },
        "id": "E4Uu2hbiYJtv",
        "outputId": "90727611-a1b0-4c39-e012-72f3731b3c36"
      },
      "outputs": [
        {
          "data": {
            "text/latex": "$\\displaystyle \\left. \\frac{d}{d t} y{\\left(t \\right)} \\right|_{\\substack{ t=0 }} = 10$",
            "text/plain": [
              "Eq(Subs(Derivative(y(t), t), t, 0), 10)"
            ]
          },
          "execution_count": 5,
          "metadata": {},
          "output_type": "execute_result"
        }
      ],
      "source": [
        "sp.Eq(f(t).diff(t).subs(t,0),10)"
      ]
    },
    {
      "cell_type": "code",
      "execution_count": 6,
      "metadata": {
        "colab": {
          "base_uri": "https://localhost:8080/",
          "height": 39
        },
        "id": "29QUbt_2YwlJ",
        "outputId": "7ab48caf-dda1-4b8b-e1e7-020eb87b6861"
      },
      "outputs": [
        {
          "data": {
            "text/latex": "$\\displaystyle y{\\left(0 \\right)} = 1$",
            "text/plain": [
              "Eq(y(0), 1)"
            ]
          },
          "execution_count": 6,
          "metadata": {},
          "output_type": "execute_result"
        }
      ],
      "source": [
        "sp.Eq(f(t).subs(t,0),1)"
      ]
    },
    {
      "cell_type": "code",
      "execution_count": 14,
      "metadata": {
        "colab": {
          "base_uri": "https://localhost:8080/",
          "height": 82
        },
        "id": "r9KVq1yjYfld",
        "outputId": "02812215-87cf-419a-a22e-a84544d267f2"
      },
      "outputs": [
        {
          "output_type": "execute_result",
          "data": {
            "text/plain": [
              "Eq(y(t), (2*pi*t*exp(t)*sin(2*pi*t) + 8*pi**3*t*exp(t)*sin(2*pi*t) - 16*pi**4*t*exp(t)*cos(2*pi*t) - 4*pi**2*t*exp(t)*cos(2*pi*t) + 16*pi**3*exp(t)*sin(2*pi*t) + exp(t)*cos(2*pi*t) + 12*pi**2*exp(t)*cos(2*pi*t) - exp(t) + 36*pi**2*exp(t) + 336*pi**4*exp(t) + 704*pi**6*exp(t) - 640*pi**6 - 304*pi**4 - 44*pi**2)*exp(-t)/(4*pi**2*(1 + 8*pi**2 + 16*pi**4)))"
            ],
            "text/latex": "$\\displaystyle y{\\left(t \\right)} = \\frac{\\left(2 \\pi t e^{t} \\sin{\\left(2 \\pi t \\right)} + 8 \\pi^{3} t e^{t} \\sin{\\left(2 \\pi t \\right)} - 16 \\pi^{4} t e^{t} \\cos{\\left(2 \\pi t \\right)} - 4 \\pi^{2} t e^{t} \\cos{\\left(2 \\pi t \\right)} + 16 \\pi^{3} e^{t} \\sin{\\left(2 \\pi t \\right)} + e^{t} \\cos{\\left(2 \\pi t \\right)} + 12 \\pi^{2} e^{t} \\cos{\\left(2 \\pi t \\right)} - e^{t} + 36 \\pi^{2} e^{t} + 336 \\pi^{4} e^{t} + 704 \\pi^{6} e^{t} - 640 \\pi^{6} - 304 \\pi^{4} - 44 \\pi^{2}\\right) e^{- t}}{4 \\pi^{2} \\left(1 + 8 \\pi^{2} + 16 \\pi^{4}\\right)}$"
          },
          "metadata": {},
          "execution_count": 14
        }
      ],
      "source": [
        "sp.Eq(f(t),sol)"
      ]
    },
    {
      "cell_type": "code",
      "execution_count": 15,
      "metadata": {
        "colab": {
          "base_uri": "https://localhost:8080/",
          "height": 37
        },
        "id": "MNVOpPyCW-GU",
        "outputId": "332b6110-f39f-45bf-f17d-15ab20723c3c"
      },
      "outputs": [
        {
          "output_type": "execute_result",
          "data": {
            "text/plain": [
              "0"
            ],
            "text/latex": "$\\displaystyle 0$"
          },
          "metadata": {},
          "execution_count": 15
        }
      ],
      "source": [
        "#verify solution\n",
        "sp.simplify(-t*sp.cos(sp.pi*2*t)+sol.diff(t)+sol.diff(t,t))"
      ]
    },
    {
      "cell_type": "markdown",
      "metadata": {
        "id": "NQ61lEQeXgrc"
      },
      "source": [
        "### Constructing the MLP"
      ]
    },
    {
      "cell_type": "code",
      "execution_count": 16,
      "metadata": {
        "id": "Lml6PGLPZgmr",
        "colab": {
          "base_uri": "https://localhost:8080/"
        },
        "outputId": "5f12c777-0725-4db2-e7af-5dfd8621b7af"
      },
      "outputs": [
        {
          "output_type": "stream",
          "name": "stderr",
          "text": [
            "WARNING:absl:No GPU/TPU found, falling back to CPU. (Set TF_CPP_MIN_LOG_LEVEL=0 and rerun for more info.)\n"
          ]
        }
      ],
      "source": [
        "N_b = 1\n",
        "N_c = 100\n",
        "\n",
        "tmin,tmax=0. ,jnp.pi\n",
        "\n",
        "'''boundary conditions'''\n",
        "\n",
        "\n",
        "# U[0] = 1\n",
        "t_0 = jnp.ones([N_b,1],dtype='float32')*0.\n",
        "ic_0 = jnp.ones_like(t_0) \n",
        "IC_0 = jnp.concatenate([t_0,ic_0],axis=1)\n",
        "\n",
        "# U_t[0] = 10\n",
        "t_b1 = jnp.zeros([N_b,1])\n",
        "bc_1 = jnp.ones_like(t_b1) * 10\n",
        "BC_1 = jnp.concatenate([t_b1,bc_1],axis=1)\n",
        "\n",
        "conds = [IC_0,BC_1]\n",
        "\n",
        "#collocation points\n",
        "\n",
        "key=jax.random.PRNGKey(0)\n",
        "\n",
        "t_c = jax.random.uniform(key,minval=tmin,maxval=tmax,shape=(N_c,1))\n",
        "colloc = t_c\n"
      ]
    },
    {
      "cell_type": "markdown",
      "source": [
        "# Build Model"
      ],
      "metadata": {
        "id": "V_gR3d4AKHxJ"
      }
    },
    {
      "cell_type": "code",
      "source": [
        "@treeclass\n",
        "class Linear :\n",
        "    weight : jnp.ndarray\n",
        "    bias   : jnp.ndarray\n",
        "\n",
        "    def __init__(self,key,in_dim,out_dim):\n",
        "        self.weight = jax.random.normal(key,shape=(in_dim, out_dim)) * jnp.sqrt(2/in_dim)\n",
        "        self.bias = jnp.ones((1,out_dim))\n",
        "\n",
        "    def __call__(self,x):\n",
        "        return x @ self.weight + self.bias\n",
        "\n",
        "\n",
        "@treeclass\n",
        "class MLP :\n",
        "    l1 : Linear\n",
        "    l2 : Linear\n",
        "    l3 : Linear \n",
        "    l4 : Linear\n",
        "\n",
        "    def __init__(self,key=jax.random.PRNGKey(0)):\n",
        "        k1,k2,k3,k4 = jax.random.split(key,4)\n",
        "\n",
        "        self.l1 = Linear(k1,1,20)\n",
        "        self.l2 = Linear(k2,20,20)\n",
        "        self.l3 = Linear(k3,20,20)\n",
        "        self.l4 = Linear(k4,20,1)\n",
        "        \n",
        "    def __call__(self,x):\n",
        "        x = self.l1(x)\n",
        "        x = jax.nn.tanh(x)\n",
        "        x = self.l2(x)\n",
        "        x = jax.nn.tanh(x)\n",
        "        x = self.l3(x)\n",
        "        x = jax.nn.tanh(x)\n",
        "        x = self.l4(x)\n",
        "        return x\n",
        "\n",
        "model = MLP()\n",
        "print(f\"{model!r}\")\n",
        "print(model.tree_diagram())\n",
        "print(model.summary())\n",
        "print(model.tree_box(array=colloc))\n"
      ],
      "metadata": {
        "colab": {
          "base_uri": "https://localhost:8080/"
        },
        "id": "TD7IQp70F65_",
        "outputId": "1a899911-6557-4d17-fa08-4511f0b141c4"
      },
      "execution_count": 21,
      "outputs": [
        {
          "output_type": "stream",
          "name": "stdout",
          "text": [
            "MLP(\n",
            "  l1=Linear(weight=f32[1,20],bias=f32[1,20]),\n",
            "  l2=Linear(weight=f32[20,20],bias=f32[1,20]),\n",
            "  l3=Linear(weight=f32[20,20],bias=f32[1,20]),\n",
            "  l4=Linear(weight=f32[20,1],bias=f32[1,1])\n",
            ")\n",
            "MLP\n",
            "    ├── l1=Linear\n",
            "    │   ├── weight=f32[1,20]\n",
            "    │   └── bias=f32[1,20]  \n",
            "    ├── l2=Linear\n",
            "    │   ├── weight=f32[20,20]\n",
            "    │   └── bias=f32[1,20]  \n",
            "    ├── l3=Linear\n",
            "    │   ├── weight=f32[20,20]\n",
            "    │   └── bias=f32[1,20]  \n",
            "    └── l4=Linear\n",
            "        ├── weight=f32[20,1]\n",
            "        └── bias=f32[1,1]       \n",
            "┌────┬──────┬───────┬───────┬─────────────────┐\n",
            "│Name│Type  │Param #│Size   │Config           │\n",
            "├────┼──────┼───────┼───────┼─────────────────┤\n",
            "│l1  │Linear│40(0)  │160.00B│weight=f32[1,20] │\n",
            "│    │      │       │(0.00B)│bias=f32[1,20]   │\n",
            "├────┼──────┼───────┼───────┼─────────────────┤\n",
            "│l2  │Linear│420(0) │1.64KB │weight=f32[20,20]│\n",
            "│    │      │       │(0.00B)│bias=f32[1,20]   │\n",
            "├────┼──────┼───────┼───────┼─────────────────┤\n",
            "│l3  │Linear│420(0) │1.64KB │weight=f32[20,20]│\n",
            "│    │      │       │(0.00B)│bias=f32[1,20]   │\n",
            "├────┼──────┼───────┼───────┼─────────────────┤\n",
            "│l4  │Linear│21(0)  │84.00B │weight=f32[20,1] │\n",
            "│    │      │       │(0.00B)│bias=f32[1,1]    │\n",
            "└────┴──────┴───────┴───────┴─────────────────┘\n",
            "Total count :\t901(0)\n",
            "Dynamic count :\t901(0)\n",
            "Frozen count :\t0(0)\n",
            "-----------------------------------------------\n",
            "Total size :\t3.52KB(0.00B)\n",
            "Dynamic size :\t3.52KB(0.00B)\n",
            "Frozen size :\t0.00B(0.00B)\n",
            "===============================================\n",
            "┌─────────────────────────────────────┐\n",
            "│MLP[Parent]                          │\n",
            "├─────────────────────────────────────┤\n",
            "│┌────────────┬────────┬─────────────┐│\n",
            "││            │ Input  │ f32[100,1]  ││\n",
            "││ Linear[l1] │────────┼─────────────┤│\n",
            "││            │ Output │ f32[100,20] ││\n",
            "│└────────────┴────────┴─────────────┘│\n",
            "│┌────────────┬────────┬─────────────┐│\n",
            "││            │ Input  │ f32[100,20] ││\n",
            "││ Linear[l2] │────────┼─────────────┤│\n",
            "││            │ Output │ f32[100,20] ││\n",
            "│└────────────┴────────┴─────────────┘│\n",
            "│┌────────────┬────────┬─────────────┐│\n",
            "││            │ Input  │ f32[100,20] ││\n",
            "││ Linear[l3] │────────┼─────────────┤│\n",
            "││            │ Output │ f32[100,20] ││\n",
            "│└────────────┴────────┴─────────────┘│\n",
            "│┌────────────┬────────┬─────────────┐│\n",
            "││            │ Input  │ f32[100,20] ││\n",
            "││ Linear[l4] │────────┼─────────────┤│\n",
            "││            │ Output │ f32[100,1]  ││\n",
            "│└────────────┴────────┴─────────────┘│\n",
            "└─────────────────────────────────────┘\n"
          ]
        }
      ]
    },
    {
      "cell_type": "code",
      "execution_count": 25,
      "metadata": {
        "id": "KoZZJl2TbI_n"
      },
      "outputs": [],
      "source": [
        "@jax.jit\n",
        "def MSE(true,pred):\n",
        "    return jnp.mean((true-pred)**2)\n",
        "\n",
        "def diff(func:Callable,*args,**kwargs):\n",
        "  \"\"\"sum then grad\"\"\"\n",
        "  return jax.grad(lambda *ar,**kws: jnp.sum(func(*ar,**kws)), *args, **kwargs)\n",
        "\n",
        "def loss_func(model,colloc,conds):\n",
        "    t_c =colloc[:,[0]]\n",
        "    ufunc = model\n",
        "    ufunc_t = diff(model)\n",
        "        \n",
        "    loss =jnp.mean(ODE_loss(t_c,ufunc) **2)\n",
        "\n",
        "    t_ic,u_ic = conds[0][:,[0]],conds[0][:,[1]]  \n",
        "    loss += MSE(u_ic,ufunc(t_ic))\n",
        "\n",
        "    t_bc,u_bc = conds[1][:,[0]],conds[1][:,[1]]  \n",
        "    loss += MSE(u_bc,ufunc_t(t_bc))\n",
        "\n",
        "    return  loss\n",
        "\n",
        "def ODE_loss(t,u):\n",
        "    u_t = diff(u)\n",
        "    u_tt = diff(u_t)\n",
        "    return -t*jnp.cos(2*jnp.pi*t) + u_t(t) + u_tt(t)\n",
        "\n",
        "@jax.jit\n",
        "def update(opt_state,model,colloc,conds):\n",
        "    # Get the gradient w.r.t to MLP params\n",
        "    grads= jax.grad(loss_func)(model,colloc,conds)\n",
        "    \n",
        "    #Update model\n",
        "    updates, opt_state = optimizer.update(grads, opt_state)\n",
        "    model = optax.apply_updates(model, updates)\n",
        "\n",
        "    return opt_state,model\n"
      ]
    },
    {
      "cell_type": "code",
      "execution_count": 23,
      "metadata": {
        "id": "jySmbUwic5yk"
      },
      "outputs": [],
      "source": [
        "optimizer = optax.adam(1e-3)\n",
        "opt_state = optimizer.init(model)"
      ]
    },
    {
      "cell_type": "code",
      "execution_count": null,
      "metadata": {
        "id": "kBzGA8OVc8C6"
      },
      "outputs": [],
      "source": [
        "%%time\n",
        "epochs = 10_000\n",
        "for _ in tqdm(range(1,epochs+1)):\n",
        "  opt_state,model = update(opt_state,model,colloc,conds)\n",
        "\n",
        "  # print loss and epoch info\n",
        "  if _ %(100) ==0:\n",
        "    print(f'Epoch={_}\\tloss={loss_func(model,colloc,conds):.3e}')"
      ]
    },
    {
      "cell_type": "code",
      "source": [
        "lam_sol= sp.lambdify(t,sol)\n",
        "\n",
        "dT = 1e-3\n",
        "Tf = jnp.pi\n",
        "T = np.arange(0,Tf+dT,dT)\n",
        "\n",
        "\n",
        "sym_sol =np.array([lam_sol(i) for i in T])\n",
        "z\n",
        "plt.plot(T,sym_sol,'--r',label='sympy solution')\n",
        "plt.plot(T,model(T.reshape(-1,1))[:,0],'--k',label='NN solution')\n",
        "plt.legend()"
      ],
      "metadata": {
        "colab": {
          "base_uri": "https://localhost:8080/",
          "height": 282
        },
        "id": "hIkxKojKR3A3",
        "outputId": "6d4832cd-c98e-4204-cccb-a478370f50de"
      },
      "execution_count": 27,
      "outputs": [
        {
          "output_type": "execute_result",
          "data": {
            "text/plain": [
              "<matplotlib.legend.Legend at 0x7f7dfcdc2050>"
            ]
          },
          "metadata": {},
          "execution_count": 27
        },
        {
          "output_type": "display_data",
          "data": {
            "text/plain": [
              "<Figure size 432x288 with 1 Axes>"
            ],
            "image/png": "[encoded data removed]"
          },
          "metadata": {
            "needs_background": "light"
          }
        }
      ]
    }
  ],
  "metadata": {
    "colab": {
      "collapsed_sections": [],
      "name": "[1] ODE-PINN-ClassForm.ipynb",
      "provenance": [],
      "include_colab_link": true
    },
    "kernelspec": {
      "display_name": "Python 3.8.9 64-bit",
      "language": "python",
      "name": "python3"
    },
    "language_info": {
      "codemirror_mode": {
        "name": "ipython",
        "version": 3
      },
      "file_extension": ".py",
      "mimetype": "text/x-python",
      "name": "python",
      "nbconvert_exporter": "python",
      "pygments_lexer": "ipython3",
      "version": "3.8.9"
    },
    "vscode": {
      "interpreter": {
        "hash": "31f2aee4e71d21fbe5cf8b01ff0e069b9275f58929596ceb00d14d90e3e16cd6"
      }
    }
  },
  "nbformat": 4,
  "nbformat_minor": 0
}