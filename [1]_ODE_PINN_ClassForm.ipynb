{
  "cells": [
    {
      "cell_type": "markdown",
      "metadata": {
        "id": "view-in-github",
        "colab_type": "text"
      },
      "source": [
        "<a href=\"https://colab.research.google.com/github/ASEM000/Physics-informed-neural-network-in-JAX/blob/main/%5B1%5D_ODE_PINN_ClassForm.ipynb\" target=\"_parent\"><img src=\"https://colab.research.google.com/assets/colab-badge.svg\" alt=\"Open In Colab\"/></a>"
      ]
    },
    {
      "cell_type": "code",
      "source": [
        "!pip install optax\n",
        "!pip install pytreeclass\n",
        "!pip install tqdm"
      ],
      "metadata": {
        "id": "PmiMsCTpOtKE",
        "colab": {
          "base_uri": "https://localhost:8080/"
        },
        "outputId": "673af120-a5ba-45a4-953f-e77dee359c09"
      },
      "execution_count": 1,
      "outputs": [
        {
          "output_type": "stream",
          "name": "stdout",
          "text": [
            "Requirement already satisfied: optax in /usr/local/lib/python3.10/dist-packages (0.1.7)\n",
            "Requirement already satisfied: absl-py>=0.7.1 in /usr/local/lib/python3.10/dist-packages (from optax) (1.4.0)\n",
            "Requirement already satisfied: chex>=0.1.5 in /usr/local/lib/python3.10/dist-packages (from optax) (0.1.7)\n",
            "Requirement already satisfied: jax>=0.1.55 in /usr/local/lib/python3.10/dist-packages (from optax) (0.4.14)\n",
            "Requirement already satisfied: jaxlib>=0.1.37 in /usr/local/lib/python3.10/dist-packages (from optax) (0.4.14+cuda11.cudnn86)\n",
            "Requirement already satisfied: numpy>=1.18.0 in /usr/local/lib/python3.10/dist-packages (from optax) (1.23.5)\n",
            "Requirement already satisfied: dm-tree>=0.1.5 in /usr/local/lib/python3.10/dist-packages (from chex>=0.1.5->optax) (0.1.8)\n",
            "Requirement already satisfied: toolz>=0.9.0 in /usr/local/lib/python3.10/dist-packages (from chex>=0.1.5->optax) (0.12.0)\n",
            "Requirement already satisfied: typing-extensions>=4.2.0 in /usr/local/lib/python3.10/dist-packages (from chex>=0.1.5->optax) (4.7.1)\n",
            "Requirement already satisfied: ml-dtypes>=0.2.0 in /usr/local/lib/python3.10/dist-packages (from jax>=0.1.55->optax) (0.2.0)\n",
            "Requirement already satisfied: opt-einsum in /usr/local/lib/python3.10/dist-packages (from jax>=0.1.55->optax) (3.3.0)\n",
            "Requirement already satisfied: scipy>=1.7 in /usr/local/lib/python3.10/dist-packages (from jax>=0.1.55->optax) (1.10.1)\n",
            "Requirement already satisfied: pytreeclass in /usr/local/lib/python3.10/dist-packages (0.6.0)\n",
            "Requirement already satisfied: jax>=0.4.7 in /usr/local/lib/python3.10/dist-packages (from pytreeclass) (0.4.14)\n",
            "Requirement already satisfied: typing-extensions in /usr/local/lib/python3.10/dist-packages (from pytreeclass) (4.7.1)\n",
            "Requirement already satisfied: ml-dtypes>=0.2.0 in /usr/local/lib/python3.10/dist-packages (from jax>=0.4.7->pytreeclass) (0.2.0)\n",
            "Requirement already satisfied: numpy>=1.22 in /usr/local/lib/python3.10/dist-packages (from jax>=0.4.7->pytreeclass) (1.23.5)\n",
            "Requirement already satisfied: opt-einsum in /usr/local/lib/python3.10/dist-packages (from jax>=0.4.7->pytreeclass) (3.3.0)\n",
            "Requirement already satisfied: scipy>=1.7 in /usr/local/lib/python3.10/dist-packages (from jax>=0.4.7->pytreeclass) (1.10.1)\n",
            "Requirement already satisfied: tqdm in /usr/local/lib/python3.10/dist-packages (4.66.1)\n"
          ]
        }
      ]
    },
    {
      "cell_type": "code",
      "execution_count": 2,
      "metadata": {
        "id": "vAR0swbLX_ZI"
      },
      "outputs": [],
      "source": [
        "# Imports\n",
        "from __future__ import annotations\n",
        "from typing import Callable\n",
        "import jax\n",
        "import jax.numpy as jnp\n",
        "import numpy as np\n",
        "import matplotlib.pyplot as plt\n",
        "import optax\n",
        "import sympy as sp\n",
        "import pytreeclass as pytc\n",
        "from tqdm.notebook import tqdm"
      ]
    },
    {
      "cell_type": "markdown",
      "metadata": {
        "id": "7bg4nSbsXVwD"
      },
      "source": [
        "### Generate a a differential equation and its solution using SymPy"
      ]
    },
    {
      "cell_type": "code",
      "execution_count": 3,
      "metadata": {
        "id": "P9664e-mVMTN"
      },
      "outputs": [],
      "source": [
        "t= sp.symbols('t')\n",
        "f = sp.Function('y')\n",
        "diffeq = sp.Eq(f(t).diff(t,t) + f(t).diff(t)-t*sp.cos(2*sp.pi*t),0)\n",
        "sol = sp.simplify(sp.dsolve(diffeq,ics={f(0):1,f(t).diff(t).subs(t,0):10}).rhs)"
      ]
    },
    {
      "cell_type": "code",
      "execution_count": 4,
      "metadata": {
        "id": "klgFeU6bcTrC",
        "colab": {
          "base_uri": "https://localhost:8080/",
          "height": 54
        },
        "outputId": "060d7276-cb05-418f-8be9-91e7a671a8bb"
      },
      "outputs": [
        {
          "output_type": "execute_result",
          "data": {
            "text/plain": [
              "Eq(-t*cos(2*pi*t) + Derivative(y(t), t) + Derivative(y(t), (t, 2)), 0)"
            ],
            "text/latex": "$\\displaystyle - t \\cos{\\left(2 \\pi t \\right)} + \\frac{d}{d t} y{\\left(t \\right)} + \\frac{d^{2}}{d t^{2}} y{\\left(t \\right)} = 0$"
          },
          "metadata": {},
          "execution_count": 4
        }
      ],
      "source": [
        "diffeq"
      ]
    },
    {
      "cell_type": "code",
      "execution_count": 5,
      "metadata": {
        "id": "E4Uu2hbiYJtv",
        "colab": {
          "base_uri": "https://localhost:8080/",
          "height": 61
        },
        "outputId": "d66ce7f6-f1b4-4667-faa7-8708227ff805"
      },
      "outputs": [
        {
          "output_type": "execute_result",
          "data": {
            "text/plain": [
              "Eq(Subs(Derivative(y(t), t), t, 0), 10)"
            ],
            "text/latex": "$\\displaystyle \\left. \\frac{d}{d t} y{\\left(t \\right)} \\right|_{\\substack{ t=0 }} = 10$"
          },
          "metadata": {},
          "execution_count": 5
        }
      ],
      "source": [
        "sp.Eq(f(t).diff(t).subs(t,0),10)"
      ]
    },
    {
      "cell_type": "code",
      "execution_count": 6,
      "metadata": {
        "id": "29QUbt_2YwlJ",
        "colab": {
          "base_uri": "https://localhost:8080/",
          "height": 39
        },
        "outputId": "abd0aca6-9156-49f1-fba3-9349e0b5fe9d"
      },
      "outputs": [
        {
          "output_type": "execute_result",
          "data": {
            "text/plain": [
              "Eq(y(0), 1)"
            ],
            "text/latex": "$\\displaystyle y{\\left(0 \\right)} = 1$"
          },
          "metadata": {},
          "execution_count": 6
        }
      ],
      "source": [
        "sp.Eq(f(t).subs(t,0),1)"
      ]
    },
    {
      "cell_type": "code",
      "execution_count": 7,
      "metadata": {
        "id": "r9KVq1yjYfld",
        "colab": {
          "base_uri": "https://localhost:8080/",
          "height": 82
        },
        "outputId": "c8ef8212-caed-48a7-fbe2-1a0bc700570e"
      },
      "outputs": [
        {
          "output_type": "execute_result",
          "data": {
            "text/plain": [
              "Eq(y(t), (2*pi*t*exp(t)*sin(2*pi*t) + 8*pi**3*t*exp(t)*sin(2*pi*t) - 16*pi**4*t*exp(t)*cos(2*pi*t) - 4*pi**2*t*exp(t)*cos(2*pi*t) + 16*pi**3*exp(t)*sin(2*pi*t) + exp(t)*cos(2*pi*t) + 12*pi**2*exp(t)*cos(2*pi*t) - exp(t) + 36*pi**2*exp(t) + 336*pi**4*exp(t) + 704*pi**6*exp(t) - 640*pi**6 - 304*pi**4 - 44*pi**2)*exp(-t)/(4*pi**2*(1 + 8*pi**2 + 16*pi**4)))"
            ],
            "text/latex": "$\\displaystyle y{\\left(t \\right)} = \\frac{\\left(2 \\pi t e^{t} \\sin{\\left(2 \\pi t \\right)} + 8 \\pi^{3} t e^{t} \\sin{\\left(2 \\pi t \\right)} - 16 \\pi^{4} t e^{t} \\cos{\\left(2 \\pi t \\right)} - 4 \\pi^{2} t e^{t} \\cos{\\left(2 \\pi t \\right)} + 16 \\pi^{3} e^{t} \\sin{\\left(2 \\pi t \\right)} + e^{t} \\cos{\\left(2 \\pi t \\right)} + 12 \\pi^{2} e^{t} \\cos{\\left(2 \\pi t \\right)} - e^{t} + 36 \\pi^{2} e^{t} + 336 \\pi^{4} e^{t} + 704 \\pi^{6} e^{t} - 640 \\pi^{6} - 304 \\pi^{4} - 44 \\pi^{2}\\right) e^{- t}}{4 \\pi^{2} \\cdot \\left(1 + 8 \\pi^{2} + 16 \\pi^{4}\\right)}$"
          },
          "metadata": {},
          "execution_count": 7
        }
      ],
      "source": [
        "sp.Eq(f(t),sol)"
      ]
    },
    {
      "cell_type": "code",
      "execution_count": 8,
      "metadata": {
        "id": "MNVOpPyCW-GU",
        "colab": {
          "base_uri": "https://localhost:8080/",
          "height": 37
        },
        "outputId": "a477b9e6-cad4-4584-e926-d3e8c9538160"
      },
      "outputs": [
        {
          "output_type": "execute_result",
          "data": {
            "text/plain": [
              "0"
            ],
            "text/latex": "$\\displaystyle 0$"
          },
          "metadata": {},
          "execution_count": 8
        }
      ],
      "source": [
        "#verify solution\n",
        "sp.simplify(-t*sp.cos(sp.pi*2*t)+sol.diff(t)+sol.diff(t,t))"
      ]
    },
    {
      "cell_type": "markdown",
      "metadata": {
        "id": "NQ61lEQeXgrc"
      },
      "source": [
        "### Constructing the MLP"
      ]
    },
    {
      "cell_type": "code",
      "execution_count": 9,
      "metadata": {
        "id": "Lml6PGLPZgmr",
        "colab": {
          "base_uri": "https://localhost:8080/"
        },
        "outputId": "ad72cbc0-73f6-4a44-d384-3e2de933faf2"
      },
      "outputs": [
        {
          "output_type": "stream",
          "name": "stderr",
          "text": [
            "WARNING:jax._src.xla_bridge:No GPU/TPU found, falling back to CPU. (Set TF_CPP_MIN_LOG_LEVEL=0 and rerun for more info.)\n"
          ]
        }
      ],
      "source": [
        "# construct data\n",
        "\n",
        "N_b = 1\n",
        "N_c = 100\n",
        "\n",
        "tmin, tmax = 0.0, jnp.pi\n",
        "\n",
        "\"\"\"boundary conditions\"\"\"\n",
        "\n",
        "\n",
        "# U[0] = 1\n",
        "t_0 = jnp.ones([N_b, 1], dtype=\"float32\") * 0.0\n",
        "ic_0 = jnp.ones_like(t_0)\n",
        "IC_0 = jnp.concatenate([t_0, ic_0], axis=1)\n",
        "\n",
        "# U_t[0] = 10\n",
        "t_b1 = jnp.zeros([N_b, 1])\n",
        "bc_1 = jnp.ones_like(t_b1) * 10\n",
        "BC_1 = jnp.concatenate([t_b1, bc_1], axis=1)\n",
        "\n",
        "conds: list[jax.Array] = [IC_0, BC_1]\n",
        "\n",
        "# collocation points\n",
        "\n",
        "key = jax.random.PRNGKey(0)\n",
        "\n",
        "t_c = jax.random.uniform(key, minval=tmin, maxval=tmax, shape=(N_c, 1))\n",
        "colloc = t_c"
      ]
    },
    {
      "cell_type": "markdown",
      "source": [
        "# Build Model"
      ],
      "metadata": {
        "id": "V_gR3d4AKHxJ"
      }
    },
    {
      "cell_type": "code",
      "source": [
        "init_func = jax.nn.initializers.glorot_uniform()\n",
        "\n",
        "\n",
        "class Linear(pytc.TreeClass):\n",
        "    def __init__(\n",
        "        self,\n",
        "        in_features: int,\n",
        "        out_features: int,\n",
        "        key: jax.random.KeyArray = jax.random.PRNGKey(0),\n",
        "    ):\n",
        "        self.weight = init_func(key, (in_features, out_features))\n",
        "        self.bias = jax.numpy.zeros((out_features,))\n",
        "\n",
        "    def __call__(self, x: jax.Array) -> jax.Array:\n",
        "        return x @ self.weight + self.bias\n",
        "\n",
        "\n",
        "class MLP(pytc.TreeClass):\n",
        "    def __init__(self, key: jax.random.KeyArray = jax.random.PRNGKey(0)):\n",
        "        k1, k2, k3, k4 = jax.random.split(key, 4)\n",
        "        self.l1 = Linear(1, 20, key=k1)\n",
        "        self.l2 = Linear(20, 20, key=k2)\n",
        "        self.l3 = Linear(20, 20, key=k3)\n",
        "        self.l4 = Linear(20, 1, key=k4)\n",
        "\n",
        "    def __call__(self, x: jax.Array) -> jax.Array:\n",
        "        x = self.l1(x)\n",
        "        x = jax.nn.tanh(x)\n",
        "        x = self.l2(x)\n",
        "        x = jax.nn.tanh(x)\n",
        "        x = self.l3(x)\n",
        "        x = jax.nn.tanh(x)\n",
        "        x = self.l4(x)\n",
        "        return x\n",
        "\n",
        "\n",
        "model = MLP()\n",
        "print(pytc.tree_summary(model))"
      ],
      "metadata": {
        "id": "TD7IQp70F65_",
        "colab": {
          "base_uri": "https://localhost:8080/"
        },
        "outputId": "0fdcd611-098e-4b46-b27f-33d0da1c725d"
      },
      "execution_count": 10,
      "outputs": [
        {
          "output_type": "stream",
          "name": "stdout",
          "text": [
            "┌──────────┬──────────┬─────┬──────┐\n",
            "│Name      │Type      │Count│Size  │\n",
            "├──────────┼──────────┼─────┼──────┤\n",
            "│.l1.weight│f32[1,20] │20   │80.00B│\n",
            "├──────────┼──────────┼─────┼──────┤\n",
            "│.l1.bias  │f32[20]   │20   │80.00B│\n",
            "├──────────┼──────────┼─────┼──────┤\n",
            "│.l2.weight│f32[20,20]│400  │1.56KB│\n",
            "├──────────┼──────────┼─────┼──────┤\n",
            "│.l2.bias  │f32[20]   │20   │80.00B│\n",
            "├──────────┼──────────┼─────┼──────┤\n",
            "│.l3.weight│f32[20,20]│400  │1.56KB│\n",
            "├──────────┼──────────┼─────┼──────┤\n",
            "│.l3.bias  │f32[20]   │20   │80.00B│\n",
            "├──────────┼──────────┼─────┼──────┤\n",
            "│.l4.weight│f32[20,1] │20   │80.00B│\n",
            "├──────────┼──────────┼─────┼──────┤\n",
            "│.l4.bias  │f32[1]    │1    │4.00B │\n",
            "├──────────┼──────────┼─────┼──────┤\n",
            "│Σ         │MLP       │901  │3.52KB│\n",
            "└──────────┴──────────┴─────┴──────┘\n"
          ]
        }
      ]
    },
    {
      "cell_type": "code",
      "execution_count": 11,
      "metadata": {
        "id": "KoZZJl2TbI_n"
      },
      "outputs": [],
      "source": [
        "def mse(true, pred):\n",
        "    return jnp.mean((true - pred) ** 2)\n",
        "\n",
        "\n",
        "def diff(func: Callable, *args, **kwargs):\n",
        "    \"\"\"sum then grad\"\"\"\n",
        "    return jax.grad(lambda *ar, **kws: jnp.sum(func(*ar, **kws)), *args, **kwargs)\n",
        "\n",
        "\n",
        "def ode_loss(t, u):\n",
        "    u_t = diff(u)\n",
        "    u_tt = diff(u_t)\n",
        "    return -t * jnp.cos(2 * jnp.pi * t) + u_t(t) + u_tt(t)\n",
        "\n",
        "\n",
        "def loss_func(model, colloc, conds):\n",
        "    t_c = colloc[:, [0]]\n",
        "    ufunc = model\n",
        "    ufunc_t = diff(model)\n",
        "\n",
        "    loss = jnp.mean(ode_loss(t_c, ufunc) ** 2)\n",
        "\n",
        "    t_ic, u_ic = conds[0][:, [0]], conds[0][:, [1]]\n",
        "    loss += mse(u_ic, ufunc(t_ic))\n",
        "\n",
        "    t_bc, u_bc = conds[1][:, [0]], conds[1][:, [1]]\n",
        "    loss += mse(u_bc, ufunc_t(t_bc))\n",
        "\n",
        "    return loss\n",
        "\n",
        "\n",
        "optim = optax.adam(1e-3)\n",
        "optim_state = optim.init(model)\n",
        "\n",
        "\n",
        "@jax.jit\n",
        "def train_step(\n",
        "    model: MLP,\n",
        "    optim_state: optax.OptState,\n",
        "    colloc: jax.Array,\n",
        "    conds: list[jax.Array],\n",
        "):\n",
        "    # Get the gradient w.r.t to MLP params\n",
        "    grads = jax.grad(loss_func)(model, colloc, conds)\n",
        "\n",
        "    # Update model\n",
        "    updates, optim_state = optim.update(grads, optim_state)\n",
        "    model = optax.apply_updates(model, updates)\n",
        "\n",
        "    return model, optim_state"
      ]
    },
    {
      "cell_type": "code",
      "execution_count": 12,
      "metadata": {
        "id": "kBzGA8OVc8C6",
        "colab": {
          "base_uri": "https://localhost:8080/",
          "height": 1000,
          "referenced_widgets": [
            "271df676bcac4937bada71edccf32886",
            "ee8a741f598f4dc7b751f21b2e975bf7",
            "cad59966e8754537bfb7f8ef5d8289ac",
            "949e74fbeb5d4892a5b3b47cacfde5c5",
            "8189284ea2fc475192db86f14b63580a",
            "2285fe8ee81e45229e30ddd255357255",
            "5f82eb29bbd64344b93a1f9565397184",
            "b47d9843e3894611a631df2b46cc9ac0",
            "0df7710f34444afbba03b6232de3e1fd",
            "e193d91f0e414ec7b527d9c0ebd47558",
            "43561c163e1f4dec929eac0ead24d266"
          ]
        },
        "outputId": "8e5ce4f3-6102-435b-ec4b-62d519d6178d"
      },
      "outputs": [
        {
          "output_type": "display_data",
          "data": {
            "text/plain": [
              "  0%|          | 0/10000 [00:00<?, ?it/s]"
            ],
            "application/vnd.jupyter.widget-view+json": {
              "version_major": 2,
              "version_minor": 0,
              "model_id": "271df676bcac4937bada71edccf32886"
            }
          },
          "metadata": {}
        },
        {
          "output_type": "stream",
          "name": "stdout",
          "text": [
            "Epoch=100\tloss=7.777e+00\n",
            "Epoch=200\tloss=4.808e+00\n",
            "Epoch=300\tloss=3.418e+00\n",
            "Epoch=400\tloss=2.729e+00\n",
            "Epoch=500\tloss=2.319e+00\n",
            "Epoch=600\tloss=2.135e+00\n",
            "Epoch=700\tloss=2.059e+00\n",
            "Epoch=800\tloss=2.009e+00\n",
            "Epoch=900\tloss=1.959e+00\n",
            "Epoch=1000\tloss=1.902e+00\n",
            "Epoch=1100\tloss=1.841e+00\n",
            "Epoch=1200\tloss=1.779e+00\n",
            "Epoch=1300\tloss=1.719e+00\n",
            "Epoch=1400\tloss=1.666e+00\n",
            "Epoch=1500\tloss=1.620e+00\n",
            "Epoch=1600\tloss=1.566e+00\n",
            "Epoch=1700\tloss=1.475e+00\n",
            "Epoch=1800\tloss=1.291e+00\n",
            "Epoch=1900\tloss=1.112e+00\n",
            "Epoch=2000\tloss=8.120e-01\n",
            "Epoch=2100\tloss=1.764e-01\n",
            "Epoch=2200\tloss=1.382e-02\n",
            "Epoch=2300\tloss=5.528e-03\n",
            "Epoch=2400\tloss=4.135e-03\n",
            "Epoch=2500\tloss=3.343e-03\n",
            "Epoch=2600\tloss=2.765e-03\n",
            "Epoch=2700\tloss=2.345e-03\n",
            "Epoch=2800\tloss=2.044e-03\n",
            "Epoch=2900\tloss=1.826e-03\n",
            "Epoch=3000\tloss=1.662e-03\n",
            "Epoch=3100\tloss=1.533e-03\n",
            "Epoch=3200\tloss=1.427e-03\n",
            "Epoch=3300\tloss=1.335e-03\n",
            "Epoch=3400\tloss=1.254e-03\n",
            "Epoch=3500\tloss=1.180e-03\n",
            "Epoch=3600\tloss=1.113e-03\n",
            "Epoch=3700\tloss=1.050e-03\n",
            "Epoch=3800\tloss=9.922e-04\n",
            "Epoch=3900\tloss=9.382e-04\n",
            "Epoch=4000\tloss=8.878e-04\n",
            "Epoch=4100\tloss=8.411e-04\n",
            "Epoch=4200\tloss=7.969e-04\n",
            "Epoch=4300\tloss=7.584e-04\n",
            "Epoch=4400\tloss=7.174e-04\n",
            "Epoch=4500\tloss=6.867e-04\n",
            "Epoch=4600\tloss=6.469e-04\n",
            "Epoch=4700\tloss=6.162e-04\n",
            "Epoch=4800\tloss=5.888e-04\n",
            "Epoch=4900\tloss=5.540e-04\n",
            "Epoch=5000\tloss=5.256e-04\n",
            "Epoch=5100\tloss=4.983e-04\n",
            "Epoch=5200\tloss=4.781e-04\n",
            "Epoch=5300\tloss=4.465e-04\n",
            "Epoch=5400\tloss=4.320e-04\n",
            "Epoch=5500\tloss=3.982e-04\n",
            "Epoch=5600\tloss=4.065e-04\n",
            "Epoch=5700\tloss=7.689e-04\n",
            "Epoch=5800\tloss=3.319e-04\n",
            "Epoch=5900\tloss=3.510e-04\n",
            "Epoch=6000\tloss=2.920e-04\n",
            "Epoch=6100\tloss=2.819e-04\n",
            "Epoch=6200\tloss=2.558e-04\n",
            "Epoch=6300\tloss=2.390e-04\n",
            "Epoch=6400\tloss=2.541e-04\n",
            "Epoch=6500\tloss=2.083e-04\n",
            "Epoch=6600\tloss=2.044e-04\n",
            "Epoch=6700\tloss=1.817e-04\n",
            "Epoch=6800\tloss=1.796e-04\n",
            "Epoch=6900\tloss=1.590e-04\n",
            "Epoch=7000\tloss=1.675e-04\n",
            "Epoch=7100\tloss=1.400e-04\n",
            "Epoch=7200\tloss=4.347e-04\n",
            "Epoch=7300\tloss=1.242e-04\n",
            "Epoch=7400\tloss=2.232e-03\n",
            "Epoch=7500\tloss=1.114e-04\n",
            "Epoch=7600\tloss=1.159e-04\n",
            "Epoch=7700\tloss=1.010e-04\n",
            "Epoch=7800\tloss=4.399e-04\n",
            "Epoch=7900\tloss=9.291e-05\n",
            "Epoch=8000\tloss=1.408e-04\n",
            "Epoch=8100\tloss=8.608e-05\n",
            "Epoch=8200\tloss=1.010e-04\n",
            "Epoch=8300\tloss=6.762e-04\n",
            "Epoch=8400\tloss=7.779e-05\n",
            "Epoch=8500\tloss=8.429e-05\n",
            "Epoch=8600\tloss=2.236e-04\n",
            "Epoch=8700\tloss=7.161e-05\n",
            "Epoch=8800\tloss=8.281e-05\n",
            "Epoch=8900\tloss=4.630e-04\n",
            "Epoch=9000\tloss=9.161e-05\n",
            "Epoch=9100\tloss=3.809e-04\n",
            "Epoch=9200\tloss=6.414e-05\n",
            "Epoch=9300\tloss=6.829e-05\n",
            "Epoch=9400\tloss=2.783e-04\n",
            "Epoch=9500\tloss=1.557e-04\n",
            "Epoch=9600\tloss=5.868e-05\n",
            "Epoch=9700\tloss=8.793e-05\n",
            "Epoch=9800\tloss=5.920e-05\n",
            "Epoch=9900\tloss=5.596e-05\n",
            "Epoch=10000\tloss=1.025e-03\n",
            "CPU times: user 19.7 s, sys: 198 ms, total: 19.9 s\n",
            "Wall time: 29.6 s\n"
          ]
        }
      ],
      "source": [
        "%%time\n",
        "epochs = 10_000\n",
        "for _ in tqdm(range(1,epochs+1)):\n",
        "  model,optim_state = train_step(model, optim_state,colloc,conds)\n",
        "\n",
        "  # print loss and epoch info\n",
        "  if _ %(100) ==0:\n",
        "    print(f'Epoch={_}\\tloss={loss_func(model,colloc,conds):.3e}')"
      ]
    },
    {
      "cell_type": "code",
      "source": [
        "lam_sol= sp.lambdify(t,sol)\n",
        "\n",
        "dT = 1e-3\n",
        "Tf = jnp.pi\n",
        "T = np.arange(0,Tf+dT,dT)\n",
        "\n",
        "\n",
        "sym_sol =np.array([lam_sol(i) for i in T])\n",
        "\n",
        "plt.plot(T,sym_sol,'--r',label='sympy solution')\n",
        "plt.plot(T,model(T.reshape(-1,1))[:,0],'--k',label='NN solution')\n",
        "plt.legend()"
      ],
      "metadata": {
        "colab": {
          "base_uri": "https://localhost:8080/",
          "height": 447
        },
        "id": "hIkxKojKR3A3",
        "outputId": "ffc9bf75-3c57-4494-cafd-156d5faf4cd5"
      },
      "execution_count": 13,
      "outputs": [
        {
          "output_type": "execute_result",
          "data": {
            "text/plain": [
              "<matplotlib.legend.Legend at 0x7a0a090e5de0>"
            ]
          },
          "metadata": {},
          "execution_count": 13
        },
        {
          "output_type": "display_data",
          "data": {
            "text/plain": [
              "<Figure size 640x480 with 1 Axes>"
            ],
            "image/png": "[encoded data removed]"
          },
          "metadata": {}
        }
      ]
    }
  ],
  "metadata": {
    "colab": {
      "name": "[1] ODE-PINN-ClassForm.ipynb",
      "provenance": [],
      "include_colab_link": true
    },
    "kernelspec": {
      "display_name": "Python 3.8.9 64-bit",
      "language": "python",
      "name": "python3"
    },
    "language_info": {
      "codemirror_mode": {
        "name": "ipython",
        "version": 3
      },
      "file_extension": ".py",
      "mimetype": "text/x-python",
      "name": "python",
      "nbconvert_exporter": "python",
      "pygments_lexer": "ipython3",
      "version": "3.8.9"
    },
    "vscode": {
      "interpreter": {
        "hash": "31f2aee4e71d21fbe5cf8b01ff0e069b9275f58929596ceb00d14d90e3e16cd6"
      }
    },
    "widgets": {
      "application/vnd.jupyter.widget-state+json": {
        "271df676bcac4937bada71edccf32886": {
          "model_module": "@jupyter-widgets/controls",
          "model_name": "HBoxModel",
          "model_module_version": "1.5.0",
          "state": {
            "_dom_classes": [],
            "_model_module": "@jupyter-widgets/controls",
            "_model_module_version": "1.5.0",
            "_model_name": "HBoxModel",
            "_view_count": null,
            "_view_module": "@jupyter-widgets/controls",
            "_view_module_version": "1.5.0",
            "_view_name": "HBoxView",
            "box_style": "",
            "children": [
              "IPY_MODEL_ee8a741f598f4dc7b751f21b2e975bf7",
              "IPY_MODEL_cad59966e8754537bfb7f8ef5d8289ac",
              "IPY_MODEL_949e74fbeb5d4892a5b3b47cacfde5c5"
            ],
            "layout": "IPY_MODEL_8189284ea2fc475192db86f14b63580a"
          }
        },
        "ee8a741f598f4dc7b751f21b2e975bf7": {
          "model_module": "@jupyter-widgets/controls",
          "model_name": "HTMLModel",
          "model_module_version": "1.5.0",
          "state": {
            "_dom_classes": [],
            "_model_module": "@jupyter-widgets/controls",
            "_model_module_version": "1.5.0",
            "_model_name": "HTMLModel",
            "_view_count": null,
            "_view_module": "@jupyter-widgets/controls",
            "_view_module_version": "1.5.0",
            "_view_name": "HTMLView",
            "description": "",
            "description_tooltip": null,
            "layout": "IPY_MODEL_2285fe8ee81e45229e30ddd255357255",
            "placeholder": "​",
            "style": "IPY_MODEL_5f82eb29bbd64344b93a1f9565397184",
            "value": "100%"
          }
        },
        "cad59966e8754537bfb7f8ef5d8289ac": {
          "model_module": "@jupyter-widgets/controls",
          "model_name": "FloatProgressModel",
          "model_module_version": "1.5.0",
          "state": {
            "_dom_classes": [],
            "_model_module": "@jupyter-widgets/controls",
            "_model_module_version": "1.5.0",
            "_model_name": "FloatProgressModel",
            "_view_count": null,
            "_view_module": "@jupyter-widgets/controls",
            "_view_module_version": "1.5.0",
            "_view_name": "ProgressView",
            "bar_style": "success",
            "description": "",
            "description_tooltip": null,
            "layout": "IPY_MODEL_b47d9843e3894611a631df2b46cc9ac0",
            "max": 10000,
            "min": 0,
            "orientation": "horizontal",
            "style": "IPY_MODEL_0df7710f34444afbba03b6232de3e1fd",
            "value": 10000
          }
        },
        "949e74fbeb5d4892a5b3b47cacfde5c5": {
          "model_module": "@jupyter-widgets/controls",
          "model_name": "HTMLModel",
          "model_module_version": "1.5.0",
          "state": {
            "_dom_classes": [],
            "_model_module": "@jupyter-widgets/controls",
            "_model_module_version": "1.5.0",
            "_model_name": "HTMLModel",
            "_view_count": null,
            "_view_module": "@jupyter-widgets/controls",
            "_view_module_version": "1.5.0",
            "_view_name": "HTMLView",
            "description": "",
            "description_tooltip": null,
            "layout": "IPY_MODEL_e193d91f0e414ec7b527d9c0ebd47558",
            "placeholder": "​",
            "style": "IPY_MODEL_43561c163e1f4dec929eac0ead24d266",
            "value": " 10000/10000 [00:29&lt;00:00, 886.65it/s]"
          }
        },
        "8189284ea2fc475192db86f14b63580a": {
          "model_module": "@jupyter-widgets/base",
          "model_name": "LayoutModel",
          "model_module_version": "1.2.0",
          "state": {
            "_model_module": "@jupyter-widgets/base",
            "_model_module_version": "1.2.0",
            "_model_name": "LayoutModel",
            "_view_count": null,
            "_view_module": "@jupyter-widgets/base",
            "_view_module_version": "1.2.0",
            "_view_name": "LayoutView",
            "align_content": null,
            "align_items": null,
            "align_self": null,
            "border": null,
            "bottom": null,
            "display": null,
            "flex": null,
            "flex_flow": null,
            "grid_area": null,
            "grid_auto_columns": null,
            "grid_auto_flow": null,
            "grid_auto_rows": null,
            "grid_column": null,
            "grid_gap": null,
            "grid_row": null,
            "grid_template_areas": null,
            "grid_template_columns": null,
            "grid_template_rows": null,
            "height": null,
            "justify_content": null,
            "justify_items": null,
            "left": null,
            "margin": null,
            "max_height": null,
            "max_width": null,
            "min_height": null,
            "min_width": null,
            "object_fit": null,
            "object_position": null,
            "order": null,
            "overflow": null,
            "overflow_x": null,
            "overflow_y": null,
            "padding": null,
            "right": null,
            "top": null,
            "visibility": null,
            "width": null
          }
        },
        "2285fe8ee81e45229e30ddd255357255": {
          "model_module": "@jupyter-widgets/base",
          "model_name": "LayoutModel",
          "model_module_version": "1.2.0",
          "state": {
            "_model_module": "@jupyter-widgets/base",
            "_model_module_version": "1.2.0",
            "_model_name": "LayoutModel",
            "_view_count": null,
            "_view_module": "@jupyter-widgets/base",
            "_view_module_version": "1.2.0",
            "_view_name": "LayoutView",
            "align_content": null,
            "align_items": null,
            "align_self": null,
            "border": null,
            "bottom": null,
            "display": null,
            "flex": null,
            "flex_flow": null,
            "grid_area": null,
            "grid_auto_columns": null,
            "grid_auto_flow": null,
            "grid_auto_rows": null,
            "grid_column": null,
            "grid_gap": null,
            "grid_row": null,
            "grid_template_areas": null,
            "grid_template_columns": null,
            "grid_template_rows": null,
            "height": null,
            "justify_content": null,
            "justify_items": null,
            "left": null,
            "margin": null,
            "max_height": null,
            "max_width": null,
            "min_height": null,
            "min_width": null,
            "object_fit": null,
            "object_position": null,
            "order": null,
            "overflow": null,
            "overflow_x": null,
            "overflow_y": null,
            "padding": null,
            "right": null,
            "top": null,
            "visibility": null,
            "width": null
          }
        },
        "5f82eb29bbd64344b93a1f9565397184": {
          "model_module": "@jupyter-widgets/controls",
          "model_name": "DescriptionStyleModel",
          "model_module_version": "1.5.0",
          "state": {
            "_model_module": "@jupyter-widgets/controls",
            "_model_module_version": "1.5.0",
            "_model_name": "DescriptionStyleModel",
            "_view_count": null,
            "_view_module": "@jupyter-widgets/base",
            "_view_module_version": "1.2.0",
            "_view_name": "StyleView",
            "description_width": ""
          }
        },
        "b47d9843e3894611a631df2b46cc9ac0": {
          "model_module": "@jupyter-widgets/base",
          "model_name": "LayoutModel",
          "model_module_version": "1.2.0",
          "state": {
            "_model_module": "@jupyter-widgets/base",
            "_model_module_version": "1.2.0",
            "_model_name": "LayoutModel",
            "_view_count": null,
            "_view_module": "@jupyter-widgets/base",
            "_view_module_version": "1.2.0",
            "_view_name": "LayoutView",
            "align_content": null,
            "align_items": null,
            "align_self": null,
            "border": null,
            "bottom": null,
            "display": null,
            "flex": null,
            "flex_flow": null,
            "grid_area": null,
            "grid_auto_columns": null,
            "grid_auto_flow": null,
            "grid_auto_rows": null,
            "grid_column": null,
            "grid_gap": null,
            "grid_row": null,
            "grid_template_areas": null,
            "grid_template_columns": null,
            "grid_template_rows": null,
            "height": null,
            "justify_content": null,
            "justify_items": null,
            "left": null,
            "margin": null,
            "max_height": null,
            "max_width": null,
            "min_height": null,
            "min_width": null,
            "object_fit": null,
            "object_position": null,
            "order": null,
            "overflow": null,
            "overflow_x": null,
            "overflow_y": null,
            "padding": null,
            "right": null,
            "top": null,
            "visibility": null,
            "width": null
          }
        },
        "0df7710f34444afbba03b6232de3e1fd": {
          "model_module": "@jupyter-widgets/controls",
          "model_name": "ProgressStyleModel",
          "model_module_version": "1.5.0",
          "state": {
            "_model_module": "@jupyter-widgets/controls",
            "_model_module_version": "1.5.0",
            "_model_name": "ProgressStyleModel",
            "_view_count": null,
            "_view_module": "@jupyter-widgets/base",
            "_view_module_version": "1.2.0",
            "_view_name": "StyleView",
            "bar_color": null,
            "description_width": ""
          }
        },
        "e193d91f0e414ec7b527d9c0ebd47558": {
          "model_module": "@jupyter-widgets/base",
          "model_name": "LayoutModel",
          "model_module_version": "1.2.0",
          "state": {
            "_model_module": "@jupyter-widgets/base",
            "_model_module_version": "1.2.0",
            "_model_name": "LayoutModel",
            "_view_count": null,
            "_view_module": "@jupyter-widgets/base",
            "_view_module_version": "1.2.0",
            "_view_name": "LayoutView",
            "align_content": null,
            "align_items": null,
            "align_self": null,
            "border": null,
            "bottom": null,
            "display": null,
            "flex": null,
            "flex_flow": null,
            "grid_area": null,
            "grid_auto_columns": null,
            "grid_auto_flow": null,
            "grid_auto_rows": null,
            "grid_column": null,
            "grid_gap": null,
            "grid_row": null,
            "grid_template_areas": null,
            "grid_template_columns": null,
            "grid_template_rows": null,
            "height": null,
            "justify_content": null,
            "justify_items": null,
            "left": null,
            "margin": null,
            "max_height": null,
            "max_width": null,
            "min_height": null,
            "min_width": null,
            "object_fit": null,
            "object_position": null,
            "order": null,
            "overflow": null,
            "overflow_x": null,
            "overflow_y": null,
            "padding": null,
            "right": null,
            "top": null,
            "visibility": null,
            "width": null
          }
        },
        "43561c163e1f4dec929eac0ead24d266": {
          "model_module": "@jupyter-widgets/controls",
          "model_name": "DescriptionStyleModel",
          "model_module_version": "1.5.0",
          "state": {
            "_model_module": "@jupyter-widgets/controls",
            "_model_module_version": "1.5.0",
            "_model_name": "DescriptionStyleModel",
            "_view_count": null,
            "_view_module": "@jupyter-widgets/base",
            "_view_module_version": "1.2.0",
            "_view_name": "StyleView",
            "description_width": ""
          }
        }
      }
    }
  },
  "nbformat": 4,
  "nbformat_minor": 0
}