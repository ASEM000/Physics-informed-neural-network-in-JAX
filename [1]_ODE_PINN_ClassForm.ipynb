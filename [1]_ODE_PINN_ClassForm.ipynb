{
  "cells": [
    {
      "cell_type": "markdown",
      "metadata": {
        "id": "view-in-github",
        "colab_type": "text"
      },
      "source": [
        "<a href=\"https://colab.research.google.com/github/ASEM000/Physics-informed-neural-network-in-JAX/blob/main/%5B1%5D_ODE_PINN_ClassForm.ipynb\" target=\"_parent\"><img src=\"https://colab.research.google.com/assets/colab-badge.svg\" alt=\"Open In Colab\"/></a>"
      ]
    },
    {
      "cell_type": "code",
      "execution_count": null,
      "metadata": {
        "id": "v77fdC1ZLyg1"
      },
      "outputs": [],
      "source": [
        "#Credits : Mahmoud Asem @Asem000 @CVBML-KAIST  July 2022"
      ]
    },
    {
      "cell_type": "code",
      "source": [
        "!pip install optax\n",
        "!pip install serket # for PyTorch like API\n",
        "!pip install tqdm"
      ],
      "metadata": {
        "id": "PmiMsCTpOtKE"
      },
      "execution_count": null,
      "outputs": []
    },
    {
      "cell_type": "code",
      "execution_count": 11,
      "metadata": {
        "id": "vAR0swbLX_ZI"
      },
      "outputs": [],
      "source": [
        "#Imports\n",
        "from __future__ import annotations\n",
        "from typing import Callable\n",
        "import jax \n",
        "import jax.numpy as jnp\n",
        "import numpy as np\n",
        "import matplotlib.pyplot as plt\n",
        "from matplotlib import cm\n",
        "import matplotlib as mpl\n",
        "import serket as sk \n",
        "import optax\n",
        "import sympy as sp\n",
        "import functools\n",
        "from tqdm.notebook import tqdm"
      ]
    },
    {
      "cell_type": "markdown",
      "metadata": {
        "id": "7bg4nSbsXVwD"
      },
      "source": [
        "### Generate a a differential equation and its solution using SymPy"
      ]
    },
    {
      "cell_type": "code",
      "execution_count": 3,
      "metadata": {
        "id": "P9664e-mVMTN"
      },
      "outputs": [],
      "source": [
        "t= sp.symbols('t')\n",
        "f = sp.Function('y')\n",
        "diffeq = sp.Eq(f(t).diff(t,t) + f(t).diff(t)-t*sp.cos(2*sp.pi*t),0)\n",
        "sol = sp.simplify(sp.dsolve(diffeq,ics={f(0):1,f(t).diff(t).subs(t,0):10}).rhs)"
      ]
    },
    {
      "cell_type": "code",
      "execution_count": null,
      "metadata": {
        "id": "klgFeU6bcTrC"
      },
      "outputs": [],
      "source": [
        "diffeq"
      ]
    },
    {
      "cell_type": "code",
      "execution_count": null,
      "metadata": {
        "id": "E4Uu2hbiYJtv"
      },
      "outputs": [],
      "source": [
        "sp.Eq(f(t).diff(t).subs(t,0),10)"
      ]
    },
    {
      "cell_type": "code",
      "execution_count": null,
      "metadata": {
        "id": "29QUbt_2YwlJ"
      },
      "outputs": [],
      "source": [
        "sp.Eq(f(t).subs(t,0),1)"
      ]
    },
    {
      "cell_type": "code",
      "execution_count": null,
      "metadata": {
        "id": "r9KVq1yjYfld"
      },
      "outputs": [],
      "source": [
        "sp.Eq(f(t),sol)"
      ]
    },
    {
      "cell_type": "code",
      "execution_count": null,
      "metadata": {
        "id": "MNVOpPyCW-GU"
      },
      "outputs": [],
      "source": [
        "#verify solution\n",
        "sp.simplify(-t*sp.cos(sp.pi*2*t)+sol.diff(t)+sol.diff(t,t))"
      ]
    },
    {
      "cell_type": "markdown",
      "metadata": {
        "id": "NQ61lEQeXgrc"
      },
      "source": [
        "### Constructing the MLP"
      ]
    },
    {
      "cell_type": "code",
      "execution_count": null,
      "metadata": {
        "id": "Lml6PGLPZgmr"
      },
      "outputs": [],
      "source": [
        "N_b = 1\n",
        "N_c = 100\n",
        "\n",
        "tmin,tmax=0. ,jnp.pi\n",
        "\n",
        "'''boundary conditions'''\n",
        "\n",
        "\n",
        "# U[0] = 1\n",
        "t_0 = jnp.ones([N_b,1],dtype='float32')*0.\n",
        "ic_0 = jnp.ones_like(t_0) \n",
        "IC_0 = jnp.concatenate([t_0,ic_0],axis=1)\n",
        "\n",
        "# U_t[0] = 10\n",
        "t_b1 = jnp.zeros([N_b,1])\n",
        "bc_1 = jnp.ones_like(t_b1) * 10\n",
        "BC_1 = jnp.concatenate([t_b1,bc_1],axis=1)\n",
        "\n",
        "conds = [IC_0,BC_1]\n",
        "\n",
        "#collocation points\n",
        "\n",
        "key=jax.random.PRNGKey(0)\n",
        "\n",
        "t_c = jax.random.uniform(key,minval=tmin,maxval=tmax,shape=(N_c,1))\n",
        "colloc = t_c\n"
      ]
    },
    {
      "cell_type": "markdown",
      "source": [
        "# Build Model"
      ],
      "metadata": {
        "id": "V_gR3d4AKHxJ"
      }
    },
    {
      "cell_type": "code",
      "source": [
        "@sk.treeclass\n",
        "class MLP :\n",
        "    def __init__(self,key=jax.random.PRNGKey(0)):\n",
        "        k1,k2,k3,k4 = jax.random.split(key,4)\n",
        "\n",
        "        self.l1 = sk.nn.Linear(1,20, key=k1)\n",
        "        self.l2 = sk.nn.Linear(20,20, key=k2)\n",
        "        self.l3 = sk.nn.Linear(20,20, key=k3)\n",
        "        self.l4 = sk.nn.Linear(20,1, key=k4)\n",
        "        \n",
        "    def __call__(self,x):\n",
        "        x = self.l1(x)\n",
        "        x = jax.nn.tanh(x)\n",
        "        x = self.l2(x)\n",
        "        x = jax.nn.tanh(x)\n",
        "        x = self.l3(x)\n",
        "        x = jax.nn.tanh(x)\n",
        "        x = self.l4(x)\n",
        "        return x\n",
        "\n",
        "model = MLP()\n",
        "print(model.tree_diagram())\n",
        "print(model.summary())\n",
        "print(model.tree_box(array=colloc))\n"
      ],
      "metadata": {
        "id": "TD7IQp70F65_"
      },
      "execution_count": null,
      "outputs": []
    },
    {
      "cell_type": "code",
      "execution_count": 15,
      "metadata": {
        "id": "KoZZJl2TbI_n"
      },
      "outputs": [],
      "source": [
        "@jax.jit\n",
        "def MSE(true,pred):\n",
        "    return jnp.mean((true-pred)**2)\n",
        "\n",
        "def diff(func:Callable,*args,**kwargs):\n",
        "  \"\"\"sum then grad\"\"\"\n",
        "  return jax.grad(lambda *ar,**kws: jnp.sum(func(*ar,**kws)), *args, **kwargs)\n",
        "\n",
        "def loss_func(model,colloc,conds):\n",
        "    t_c =colloc[:,[0]]\n",
        "    ufunc = model\n",
        "    ufunc_t = diff(model)\n",
        "        \n",
        "    loss =jnp.mean(ODE_loss(t_c,ufunc) **2)\n",
        "\n",
        "    t_ic,u_ic = conds[0][:,[0]],conds[0][:,[1]]  \n",
        "    loss += MSE(u_ic,ufunc(t_ic))\n",
        "\n",
        "    t_bc,u_bc = conds[1][:,[0]],conds[1][:,[1]]  \n",
        "    loss += MSE(u_bc,ufunc_t(t_bc))\n",
        "\n",
        "    return  loss\n",
        "\n",
        "def ODE_loss(t,u):\n",
        "    u_t = diff(u)\n",
        "    u_tt = diff(u_t)\n",
        "    return -t*jnp.cos(2*jnp.pi*t) + u_t(t) + u_tt(t)\n",
        "\n",
        "@jax.jit\n",
        "def update(opt_state,model,colloc,conds):\n",
        "    # Get the gradient w.r.t to MLP params\n",
        "    grads= jax.grad(loss_func)(model,colloc,conds)\n",
        "    \n",
        "    #Update model\n",
        "    updates, opt_state = optimizer.update(grads, opt_state)\n",
        "    model = optax.apply_updates(model, updates)\n",
        "\n",
        "    return opt_state,model\n"
      ]
    },
    {
      "cell_type": "code",
      "execution_count": 16,
      "metadata": {
        "id": "jySmbUwic5yk"
      },
      "outputs": [],
      "source": [
        "optimizer = optax.adam(1e-3)\n",
        "opt_state = optimizer.init(model)"
      ]
    },
    {
      "cell_type": "code",
      "execution_count": null,
      "metadata": {
        "id": "kBzGA8OVc8C6"
      },
      "outputs": [],
      "source": [
        "%%time\n",
        "epochs = 10_000\n",
        "for _ in tqdm(range(1,epochs+1)):\n",
        "  opt_state,model = update(opt_state,model,colloc,conds)\n",
        "\n",
        "  # print loss and epoch info\n",
        "  if _ %(100) ==0:\n",
        "    print(f'Epoch={_}\\tloss={loss_func(model,colloc,conds):.3e}')"
      ]
    },
    {
      "cell_type": "code",
      "source": [
        "lam_sol= sp.lambdify(t,sol)\n",
        "\n",
        "dT = 1e-3\n",
        "Tf = jnp.pi\n",
        "T = np.arange(0,Tf+dT,dT)\n",
        "\n",
        "\n",
        "sym_sol =np.array([lam_sol(i) for i in T])\n",
        "\n",
        "plt.plot(T,sym_sol,'--r',label='sympy solution')\n",
        "plt.plot(T,model(T.reshape(-1,1))[:,0],'--k',label='NN solution')\n",
        "plt.legend()"
      ],
      "metadata": {
        "colab": {
          "base_uri": "https://localhost:8080/",
          "height": 283
        },
        "id": "hIkxKojKR3A3",
        "outputId": "06356ff0-3987-46d1-8a4c-45f3962b4ee2"
      },
      "execution_count": 19,
      "outputs": [
        {
          "output_type": "execute_result",
          "data": {
            "text/plain": [
              "<matplotlib.legend.Legend at 0x7fdc5cd43b50>"
            ]
          },
          "metadata": {},
          "execution_count": 19
        },
        {
          "output_type": "display_data",
          "data": {
            "text/plain": [
              "<Figure size 432x288 with 1 Axes>"
            ],
            "image/png": "[encoded data removed]"
          },
          "metadata": {
            "needs_background": "light"
          }
        }
      ]
    }
  ],
  "metadata": {
    "colab": {
      "collapsed_sections": [],
      "name": "[1] ODE-PINN-ClassForm.ipynb",
      "provenance": [],
      "include_colab_link": true
    },
    "kernelspec": {
      "display_name": "Python 3.8.9 64-bit",
      "language": "python",
      "name": "python3"
    },
    "language_info": {
      "codemirror_mode": {
        "name": "ipython",
        "version": 3
      },
      "file_extension": ".py",
      "mimetype": "text/x-python",
      "name": "python",
      "nbconvert_exporter": "python",
      "pygments_lexer": "ipython3",
      "version": "3.8.9"
    },
    "vscode": {
      "interpreter": {
        "hash": "31f2aee4e71d21fbe5cf8b01ff0e069b9275f58929596ceb00d14d90e3e16cd6"
      }
    }
  },
  "nbformat": 4,
  "nbformat_minor": 0
}