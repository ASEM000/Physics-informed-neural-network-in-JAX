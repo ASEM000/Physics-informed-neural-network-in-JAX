{
  "cells": [
    {
      "cell_type": "markdown",
      "metadata": {
        "id": "view-in-github",
        "colab_type": "text"
      },
      "source": [
        "<a href=\"https://colab.research.google.com/github/ASEM000/Physics-informed-neural-network-in-JAX/blob/main/%5B1%5D_ODE_PINN_ClassForm.ipynb\" target=\"_parent\"><img src=\"https://colab.research.google.com/assets/colab-badge.svg\" alt=\"Open In Colab\"/></a>"
      ]
    },
    {
      "cell_type": "code",
      "execution_count": 1,
      "metadata": {
        "id": "v77fdC1ZLyg1"
      },
      "outputs": [],
      "source": [
        "#Credits : Mahmoud Asem @Asem000  July 2022"
      ]
    },
    {
      "cell_type": "code",
      "source": [
        "!pip install optax\n",
        "!pip install pytreeclass # for PyTorch like API\n",
        "!pip install tqdm"
      ],
      "metadata": {
        "id": "PmiMsCTpOtKE"
      },
      "execution_count": null,
      "outputs": []
    },
    {
      "cell_type": "code",
      "execution_count": 12,
      "metadata": {
        "id": "vAR0swbLX_ZI"
      },
      "outputs": [],
      "source": [
        "#Imports\n",
        "from typing import List , Callable\n",
        "import jax \n",
        "import jax.numpy as jnp\n",
        "import numpy as np\n",
        "import matplotlib.pyplot as plt\n",
        "from matplotlib import cm\n",
        "import matplotlib as mpl\n",
        "\n",
        "import optax\n",
        "from pytreeclass import treeclass,tree_viz\n",
        "import sympy as sp\n",
        "import functools\n",
        "from tqdm.notebook import tqdm"
      ]
    },
    {
      "cell_type": "markdown",
      "metadata": {
        "id": "7bg4nSbsXVwD"
      },
      "source": [
        "### Generate a a differential equation and its solution using SymPy"
      ]
    },
    {
      "cell_type": "code",
      "execution_count": 2,
      "metadata": {
        "id": "P9664e-mVMTN"
      },
      "outputs": [],
      "source": [
        "t= sp.symbols('t')\n",
        "f = sp.Function('y')\n",
        "diffeq = sp.Eq(f(t).diff(t,t) + f(t).diff(t)-t*sp.cos(2*sp.pi*t),0)\n",
        "sol = sp.simplify(sp.dsolve(diffeq,ics={f(0):1,f(t).diff(t).subs(t,0):10}).rhs)"
      ]
    },
    {
      "cell_type": "code",
      "execution_count": 6,
      "metadata": {
        "colab": {
          "base_uri": "https://localhost:8080/",
          "height": 54
        },
        "id": "klgFeU6bcTrC",
        "outputId": "76358645-9a77-49d5-dca7-e98e891847c7"
      },
      "outputs": [
        {
          "output_type": "execute_result",
          "data": {
            "text/plain": [
              "Eq(-t*cos(2*pi*t) + Derivative(y(t), t) + Derivative(y(t), (t, 2)), 0)"
            ],
            "text/latex": "$\\displaystyle - t \\cos{\\left(2 \\pi t \\right)} + \\frac{d}{d t} y{\\left(t \\right)} + \\frac{d^{2}}{d t^{2}} y{\\left(t \\right)} = 0$"
          },
          "metadata": {},
          "execution_count": 6
        }
      ],
      "source": [
        "diffeq"
      ]
    },
    {
      "cell_type": "code",
      "execution_count": 7,
      "metadata": {
        "colab": {
          "base_uri": "https://localhost:8080/",
          "height": 61
        },
        "id": "E4Uu2hbiYJtv",
        "outputId": "0237e58d-da6e-4950-f93d-6622abbc7168"
      },
      "outputs": [
        {
          "output_type": "execute_result",
          "data": {
            "text/plain": [
              "Eq(Subs(Derivative(y(t), t), t, 0), 10)"
            ],
            "text/latex": "$\\displaystyle \\left. \\frac{d}{d t} y{\\left(t \\right)} \\right|_{\\substack{ t=0 }} = 10$"
          },
          "metadata": {},
          "execution_count": 7
        }
      ],
      "source": [
        "sp.Eq(f(t).diff(t).subs(t,0),10)"
      ]
    },
    {
      "cell_type": "code",
      "execution_count": 8,
      "metadata": {
        "colab": {
          "base_uri": "https://localhost:8080/",
          "height": 39
        },
        "id": "29QUbt_2YwlJ",
        "outputId": "b0c1952f-022a-4109-a2d1-51ed5294144a"
      },
      "outputs": [
        {
          "output_type": "execute_result",
          "data": {
            "text/plain": [
              "Eq(y(0), 1)"
            ],
            "text/latex": "$\\displaystyle y{\\left(0 \\right)} = 1$"
          },
          "metadata": {},
          "execution_count": 8
        }
      ],
      "source": [
        "sp.Eq(f(t).subs(t,0),1)"
      ]
    },
    {
      "cell_type": "code",
      "execution_count": 9,
      "metadata": {
        "colab": {
          "base_uri": "https://localhost:8080/",
          "height": 102
        },
        "id": "r9KVq1yjYfld",
        "outputId": "4b11dc34-e935-4bcb-84e3-c31f04e8be7c"
      },
      "outputs": [
        {
          "output_type": "execute_result",
          "data": {
            "text/plain": [
              "Eq(y(t), (2*pi*t*exp(t)*sin(2*pi*t) + 8*pi**3*t*exp(t)*sin(2*pi*t) - 16*pi**4*t*exp(t)*cos(2*pi*t) - 4*pi**2*t*exp(t)*cos(2*pi*t) + 16*pi**3*exp(t)*sin(2*pi*t) + exp(t)*cos(2*pi*t) + 12*pi**2*exp(t)*cos(2*pi*t) - exp(t) + 36*pi**2*exp(t) + 336*pi**4*exp(t) + 704*pi**6*exp(t) - 640*pi**6 - 304*pi**4 - 44*pi**2)*exp(-t)/(4*pi**2*(1 + 8*pi**2 + 16*pi**4)))"
            ],
            "text/latex": "$\\displaystyle y{\\left(t \\right)} = \\frac{\\left(2 \\pi t e^{t} \\sin{\\left(2 \\pi t \\right)} + 8 \\pi^{3} t e^{t} \\sin{\\left(2 \\pi t \\right)} - 16 \\pi^{4} t e^{t} \\cos{\\left(2 \\pi t \\right)} - 4 \\pi^{2} t e^{t} \\cos{\\left(2 \\pi t \\right)} + 16 \\pi^{3} e^{t} \\sin{\\left(2 \\pi t \\right)} + e^{t} \\cos{\\left(2 \\pi t \\right)} + 12 \\pi^{2} e^{t} \\cos{\\left(2 \\pi t \\right)} - e^{t} + 36 \\pi^{2} e^{t} + 336 \\pi^{4} e^{t} + 704 \\pi^{6} e^{t} - 640 \\pi^{6} - 304 \\pi^{4} - 44 \\pi^{2}\\right) e^{- t}}{4 \\pi^{2} \\left(1 + 8 \\pi^{2} + 16 \\pi^{4}\\right)}$"
          },
          "metadata": {},
          "execution_count": 9
        }
      ],
      "source": [
        "sp.Eq(f(t),sol)"
      ]
    },
    {
      "cell_type": "code",
      "execution_count": 10,
      "metadata": {
        "colab": {
          "base_uri": "https://localhost:8080/",
          "height": 37
        },
        "id": "MNVOpPyCW-GU",
        "outputId": "318ca602-ba54-45aa-900c-bea2f4f42d89"
      },
      "outputs": [
        {
          "output_type": "execute_result",
          "data": {
            "text/plain": [
              "0"
            ],
            "text/latex": "$\\displaystyle 0$"
          },
          "metadata": {},
          "execution_count": 10
        }
      ],
      "source": [
        "#verify solution\n",
        "sp.simplify(-t*sp.cos(sp.pi*2*t)+sol.diff(t)+sol.diff(t,t))"
      ]
    },
    {
      "cell_type": "markdown",
      "metadata": {
        "id": "NQ61lEQeXgrc"
      },
      "source": [
        "### Constructing the MLP"
      ]
    },
    {
      "cell_type": "code",
      "execution_count": 3,
      "metadata": {
        "id": "Lml6PGLPZgmr",
        "colab": {
          "base_uri": "https://localhost:8080/"
        },
        "outputId": "ea3f1b2f-0599-46e8-9de5-013b4b377593"
      },
      "outputs": [
        {
          "output_type": "stream",
          "name": "stderr",
          "text": [
            "WARNING:absl:No GPU/TPU found, falling back to CPU. (Set TF_CPP_MIN_LOG_LEVEL=0 and rerun for more info.)\n"
          ]
        }
      ],
      "source": [
        "N_b = 1\n",
        "N_c = 100\n",
        "\n",
        "tmin,tmax=0. ,jnp.pi\n",
        "\n",
        "'''boundary conditions'''\n",
        "\n",
        "\n",
        "# U[0] = 1\n",
        "t_0 = jnp.ones([N_b,1],dtype='float32')*0.\n",
        "ic_0 = jnp.ones_like(t_0) \n",
        "IC_0 = jnp.concatenate([t_0,ic_0],axis=1)\n",
        "\n",
        "# U_t[0] = 10\n",
        "t_b1 = jnp.zeros([N_b,1])\n",
        "bc_1 = jnp.ones_like(t_b1) * 10\n",
        "BC_1 = jnp.concatenate([t_b1,bc_1],axis=1)\n",
        "\n",
        "conds = [IC_0,BC_1]\n",
        "\n",
        "#collocation points\n",
        "\n",
        "key=jax.random.PRNGKey(0)\n",
        "\n",
        "t_c = jax.random.uniform(key,minval=tmin,maxval=tmax,shape=(N_c,1))\n",
        "colloc = t_c\n"
      ]
    },
    {
      "cell_type": "markdown",
      "source": [
        "# Build Model"
      ],
      "metadata": {
        "id": "V_gR3d4AKHxJ"
      }
    },
    {
      "cell_type": "code",
      "source": [
        "@treeclass\n",
        "class Linear :\n",
        "    weight : jnp.ndarray\n",
        "    bias   : jnp.ndarray\n",
        "\n",
        "    def __init__(self,key,in_dim,out_dim):\n",
        "        self.weight = jax.random.normal(key,shape=(in_dim, out_dim)) * jnp.sqrt(2/in_dim)\n",
        "        self.bias = jnp.ones((1,out_dim))\n",
        "\n",
        "    def __call__(self,x):\n",
        "        return x @ self.weight + self.bias\n",
        "\n",
        "\n",
        "@treeclass\n",
        "class MLP :\n",
        "    l1 : Linear\n",
        "    l2 : Linear\n",
        "    l3 : Linear \n",
        "    l4 : Linear\n",
        "\n",
        "    def __init__(self,key=jax.random.PRNGKey(0)):\n",
        "        k1,k2,k3,k4 = jax.random.split(key,4)\n",
        "\n",
        "        self.l1 = Linear(k1,1,20)\n",
        "        self.l2 = Linear(k2,20,20)\n",
        "        self.l3 = Linear(k3,20,20)\n",
        "        self.l4 = Linear(k4,20,1)\n",
        "        \n",
        "    def __call__(self,x):\n",
        "        x = self.l1(x)\n",
        "        x = jax.nn.tanh(x)\n",
        "        x = self.l2(x)\n",
        "        x = jax.nn.tanh(x)\n",
        "        x = self.l3(x)\n",
        "        x = jax.nn.tanh(x)\n",
        "        x = self.l4(x)\n",
        "        return x\n",
        "\n",
        "model = MLP()\n",
        "print(f\"{model!r}\")\n",
        "print(tree_viz.tree_diagram(model))\n",
        "print(tree_viz.summary(model))\n",
        "print(tree_viz.tree_box(model,colloc))\n"
      ],
      "metadata": {
        "colab": {
          "base_uri": "https://localhost:8080/"
        },
        "id": "TD7IQp70F65_",
        "outputId": "0875bbdc-ac40-452f-bcbe-7b22d7b4a5a7"
      },
      "execution_count": 4,
      "outputs": [
        {
          "output_type": "stream",
          "name": "stdout",
          "text": [
            "MLP(\n",
            "  l1=Linear(weight=f32[1,20],bias=f32[1,20])\n",
            "  l2=Linear(weight=f32[20,20],bias=f32[1,20])\n",
            "  l3=Linear(weight=f32[20,20],bias=f32[1,20])\n",
            "  l4=Linear(weight=f32[20,1],bias=f32[1,1]))\n",
            "MLP\n",
            "    ├── l1=Linear\n",
            "    │   ├── weight=f32[1,20]\n",
            "    │   └── bias=f32[1,20]  \n",
            "    ├── l2=Linear\n",
            "    │   ├── weight=f32[20,20]\n",
            "    │   └── bias=f32[1,20]  \n",
            "    ├── l3=Linear\n",
            "    │   ├── weight=f32[20,20]\n",
            "    │   └── bias=f32[1,20]  \n",
            "    └──l4=Linear\n",
            "        ├── weight=f32[20,1]\n",
            "        └── bias=f32[1,1]       \n",
            "┌──────┬───────┬─────────┬─────────────────┐\n",
            "│Type  │Param #│Size     │Config           │\n",
            "├──────┼───────┼─────────┼─────────────────┤\n",
            "│Linear│40     │160.000 B│bias=f32[1,20]   │\n",
            "│      │       │         │weight=f32[1,20] │\n",
            "├──────┼───────┼─────────┼─────────────────┤\n",
            "│Linear│420    │1.641 KB │bias=f32[1,20]   │\n",
            "│      │       │         │weight=f32[20,20]│\n",
            "├──────┼───────┼─────────┼─────────────────┤\n",
            "│Linear│420    │1.641 KB │bias=f32[1,20]   │\n",
            "│      │       │         │weight=f32[20,20]│\n",
            "├──────┼───────┼─────────┼─────────────────┤\n",
            "│Linear│21     │84.000 B │bias=f32[1,1]    │\n",
            "│      │       │         │weight=f32[20,1] │\n",
            "└──────┴───────┴─────────┴─────────────────┘\n",
            "Total params :\t901\n",
            "Inexact params:\t901\n",
            "Other params:\t0\n",
            "--------------------------------------------\n",
            "Total size :\t3.520 KB\n",
            "Inexact size:\t3.520 KB\n",
            "Other size:\t0.000 B\n",
            "============================================\n",
            "┌─────────────────────────────────────┐\n",
            "│MLP(Parent)                          │\n",
            "├─────────────────────────────────────┤\n",
            "│┌────────────┬────────┬─────────────┐│\n",
            "││            │ Input  │ f32[100,1]  ││\n",
            "││ Linear(l1) │────────┼─────────────┤│\n",
            "││            │ Output │ f32[100,20] ││\n",
            "│└────────────┴────────┴─────────────┘│\n",
            "│┌────────────┬────────┬─────────────┐│\n",
            "││            │ Input  │ f32[100,20] ││\n",
            "││ Linear(l2) │────────┼─────────────┤│\n",
            "││            │ Output │ f32[100,20] ││\n",
            "│└────────────┴────────┴─────────────┘│\n",
            "│┌────────────┬────────┬─────────────┐│\n",
            "││            │ Input  │ f32[100,20] ││\n",
            "││ Linear(l3) │────────┼─────────────┤│\n",
            "││            │ Output │ f32[100,20] ││\n",
            "│└────────────┴────────┴─────────────┘│\n",
            "│┌────────────┬────────┬─────────────┐│\n",
            "││            │ Input  │ f32[100,20] ││\n",
            "││ Linear(l4) │────────┼─────────────┤│\n",
            "││            │ Output │ f32[100,1]  ││\n",
            "│└────────────┴────────┴─────────────┘│\n",
            "└─────────────────────────────────────┘\n"
          ]
        }
      ]
    },
    {
      "cell_type": "code",
      "execution_count": 14,
      "metadata": {
        "id": "KoZZJl2TbI_n"
      },
      "outputs": [],
      "source": [
        "@jax.jit\n",
        "def MSE(true,pred):\n",
        "    return jnp.mean((true-pred)**2)\n",
        "\n",
        "def diff(func:Callable,*args,**kwargs):\n",
        "  \"\"\"sum then grad\"\"\"\n",
        "  if len(args) > 0 or len(kwargs)>0 :\n",
        "    return jax.grad(lambda *ar,**kw : jnp.sum(func(*ar,**kw)),*args,**kwargs)\n",
        "  \n",
        "  elif len(args)== 0 and len(kwargs)==0 :\n",
        "    @functools.wraps(func)\n",
        "    def call(*ar,**kws):\n",
        "      return jax.grad(lambda *ar,**kws : jnp.sum(func(*ar,**kws)))(*ar,**kws)\n",
        "    return call\n",
        "\n",
        "def loss_func(model,colloc,conds):\n",
        "    t_c =colloc[:,[0]]\n",
        "    ufunc = model\n",
        "    ufunc_t = diff(model)\n",
        "        \n",
        "    loss =jnp.mean(ODE_loss(t_c,ufunc) **2)\n",
        "\n",
        "    t_ic,u_ic = conds[0][:,[0]],conds[0][:,[1]]  \n",
        "    loss += MSE(u_ic,ufunc(t_ic))\n",
        "\n",
        "    t_bc,u_bc = conds[1][:,[0]],conds[1][:,[1]]  \n",
        "    loss += MSE(u_bc,ufunc_t(t_bc))\n",
        "\n",
        "    return  loss\n",
        "\n",
        "def ODE_loss(t,u):\n",
        "    u_t = diff(u)\n",
        "    u_tt = diff(u_t)\n",
        "    return -t*jnp.cos(2*jnp.pi*t) + u_t(t) + u_tt(t)\n",
        "\n",
        "@jax.jit\n",
        "def update(opt_state,model,colloc,conds):\n",
        "    # Get the gradient w.r.t to MLP params\n",
        "    grads= jax.grad(loss_func)(model,colloc,conds)\n",
        "    \n",
        "    #Update model\n",
        "    updates, opt_state = optimizer.update(grads, opt_state)\n",
        "    model = optax.apply_updates(model, updates)\n",
        "\n",
        "    return opt_state,model\n"
      ]
    },
    {
      "cell_type": "code",
      "execution_count": 15,
      "metadata": {
        "id": "jySmbUwic5yk"
      },
      "outputs": [],
      "source": [
        "optimizer = optax.adam(1e-3)\n",
        "opt_state = optimizer.init(model)"
      ]
    },
    {
      "cell_type": "code",
      "execution_count": 16,
      "metadata": {
        "colab": {
          "base_uri": "https://localhost:8080/",
          "height": 1000,
          "referenced_widgets": [
            "17c3cdd178454a9cbc425c3f85103fd7",
            "cb3baa53061943eb84e458391f5e9898",
            "ede5150363f247fe8f63e78d0f8ca5d9",
            "096e5c72096b409d9e22ef7d49334984",
            "b72e3f4960e14a1bb4500b8a81d629f6",
            "a5461a784ec94b9788af744cfbb6a48a",
            "99737a076305428b9883b5b82927b9ea",
            "1bfd2cc14e404f6e9f23833e4a42d921",
            "3171c3c7d49146f2ac82eac91706e8b6",
            "bef9038f8d9f4357ac4a31093bbe58ea",
            "5139fddcb7dc46be911ac3fe9a8c5a7e"
          ]
        },
        "id": "kBzGA8OVc8C6",
        "outputId": "0a5de158-7c15-45a6-c487-20144c172393"
      },
      "outputs": [
        {
          "output_type": "display_data",
          "data": {
            "text/plain": [
              "  0%|          | 0/10000 [00:00<?, ?it/s]"
            ],
            "application/vnd.jupyter.widget-view+json": {
              "version_major": 2,
              "version_minor": 0,
              "model_id": "17c3cdd178454a9cbc425c3f85103fd7"
            }
          },
          "metadata": {}
        },
        {
          "output_type": "stream",
          "name": "stdout",
          "text": [
            "Epoch=100\tloss=5.259e+00\n",
            "Epoch=200\tloss=2.946e+00\n",
            "Epoch=300\tloss=2.412e+00\n",
            "Epoch=400\tloss=2.133e+00\n",
            "Epoch=500\tloss=1.857e+00\n",
            "Epoch=600\tloss=1.572e+00\n",
            "Epoch=700\tloss=1.149e+00\n",
            "Epoch=800\tloss=1.002e+00\n",
            "Epoch=900\tloss=9.852e-01\n",
            "Epoch=1000\tloss=9.754e-01\n",
            "Epoch=1100\tloss=9.664e-01\n",
            "Epoch=1200\tloss=9.557e-01\n",
            "Epoch=1300\tloss=8.181e-01\n",
            "Epoch=1400\tloss=2.334e-01\n",
            "Epoch=1500\tloss=3.526e-02\n",
            "Epoch=1600\tloss=1.000e-02\n",
            "Epoch=1700\tloss=5.682e-03\n",
            "Epoch=1800\tloss=4.060e-03\n",
            "Epoch=1900\tloss=3.049e-03\n",
            "Epoch=2000\tloss=2.353e-03\n",
            "Epoch=2100\tloss=1.888e-03\n",
            "Epoch=2200\tloss=1.587e-03\n",
            "Epoch=2300\tloss=1.395e-03\n",
            "Epoch=2400\tloss=1.271e-03\n",
            "Epoch=2500\tloss=1.187e-03\n",
            "Epoch=2600\tloss=1.125e-03\n",
            "Epoch=2700\tloss=1.090e-03\n",
            "Epoch=2800\tloss=1.033e-03\n",
            "Epoch=2900\tloss=9.947e-04\n",
            "Epoch=3000\tloss=9.564e-04\n",
            "Epoch=3100\tloss=9.210e-04\n",
            "Epoch=3200\tloss=8.863e-04\n",
            "Epoch=3300\tloss=8.528e-04\n",
            "Epoch=3400\tloss=8.304e-04\n",
            "Epoch=3500\tloss=7.875e-04\n",
            "Epoch=3600\tloss=7.692e-04\n",
            "Epoch=3700\tloss=7.251e-04\n",
            "Epoch=3800\tloss=6.992e-04\n",
            "Epoch=3900\tloss=6.659e-04\n",
            "Epoch=4000\tloss=6.402e-04\n",
            "Epoch=4100\tloss=6.099e-04\n",
            "Epoch=4200\tloss=5.843e-04\n",
            "Epoch=4300\tloss=5.574e-04\n",
            "Epoch=4400\tloss=5.331e-04\n",
            "Epoch=4500\tloss=5.088e-04\n",
            "Epoch=4600\tloss=4.868e-04\n",
            "Epoch=4700\tloss=4.641e-04\n",
            "Epoch=4800\tloss=4.709e-04\n",
            "Epoch=4900\tloss=4.233e-04\n",
            "Epoch=5000\tloss=7.190e-04\n",
            "Epoch=5100\tloss=3.862e-04\n",
            "Epoch=5200\tloss=3.701e-04\n",
            "Epoch=5300\tloss=3.534e-04\n",
            "Epoch=5400\tloss=3.367e-04\n",
            "Epoch=5500\tloss=3.231e-04\n",
            "Epoch=5600\tloss=3.077e-04\n",
            "Epoch=5700\tloss=2.938e-04\n",
            "Epoch=5800\tloss=2.852e-04\n",
            "Epoch=5900\tloss=2.690e-04\n",
            "Epoch=6000\tloss=2.578e-04\n",
            "Epoch=6100\tloss=2.474e-04\n",
            "Epoch=6200\tloss=2.350e-04\n",
            "Epoch=6300\tloss=2.316e-04\n",
            "Epoch=6400\tloss=2.151e-04\n",
            "Epoch=6500\tloss=6.428e-04\n",
            "Epoch=6600\tloss=1.970e-04\n",
            "Epoch=6700\tloss=1.628e-03\n",
            "Epoch=6800\tloss=1.807e-04\n",
            "Epoch=6900\tloss=1.725e-04\n",
            "Epoch=7000\tloss=1.713e-04\n",
            "Epoch=7100\tloss=1.583e-04\n",
            "Epoch=7200\tloss=8.723e-04\n",
            "Epoch=7300\tloss=1.454e-04\n",
            "Epoch=7400\tloss=2.375e-04\n",
            "Epoch=7500\tloss=1.339e-04\n",
            "Epoch=7600\tloss=1.276e-04\n",
            "Epoch=7700\tloss=1.298e-04\n",
            "Epoch=7800\tloss=1.172e-04\n",
            "Epoch=7900\tloss=1.867e-04\n",
            "Epoch=8000\tloss=1.078e-04\n",
            "Epoch=8100\tloss=1.046e-04\n",
            "Epoch=8200\tloss=9.994e-05\n",
            "Epoch=8300\tloss=9.474e-05\n",
            "Epoch=8400\tloss=9.296e-05\n",
            "Epoch=8500\tloss=9.238e-05\n",
            "Epoch=8600\tloss=8.370e-05\n",
            "Epoch=8700\tloss=7.980e-05\n",
            "Epoch=8800\tloss=8.696e-05\n",
            "Epoch=8900\tloss=7.352e-05\n",
            "Epoch=9000\tloss=8.087e-05\n",
            "Epoch=9100\tloss=7.566e-05\n",
            "Epoch=9200\tloss=1.682e-04\n",
            "Epoch=9300\tloss=6.191e-05\n",
            "Epoch=9400\tloss=8.796e-04\n",
            "Epoch=9500\tloss=5.724e-05\n",
            "Epoch=9600\tloss=5.703e-05\n",
            "Epoch=9700\tloss=1.523e-03\n",
            "Epoch=9800\tloss=1.929e-04\n",
            "Epoch=9900\tloss=4.829e-05\n",
            "Epoch=10000\tloss=1.359e-03\n",
            "CPU times: user 20.5 s, sys: 287 ms, total: 20.8 s\n",
            "Wall time: 25.3 s\n"
          ]
        }
      ],
      "source": [
        "%%time\n",
        "epochs = 10_000\n",
        "for _ in tqdm(range(1,epochs+1)):\n",
        "  opt_state,model = update(opt_state,model,colloc,conds)\n",
        "\n",
        "  # print loss and epoch info\n",
        "  if _ %(100) ==0:\n",
        "    print(f'Epoch={_}\\tloss={loss_func(model,colloc,conds):.3e}')"
      ]
    },
    {
      "cell_type": "code",
      "source": [
        "lam_sol= sp.lambdify(t,sol)\n",
        "\n",
        "dT = 1e-3\n",
        "Tf = jnp.pi\n",
        "T = np.arange(0,Tf+dT,dT)\n",
        "\n",
        "\n",
        "sym_sol =np.array([lam_sol(i) for i in T])\n",
        "\n",
        "plt.plot(T,sym_sol,'--r',label='sympy solution')\n",
        "plt.plot(T,model(T.reshape(-1,1))[:,0],'--k',label='NN solution')\n",
        "plt.legend()"
      ],
      "metadata": {
        "colab": {
          "base_uri": "https://localhost:8080/",
          "height": 283
        },
        "id": "hIkxKojKR3A3",
        "outputId": "58efb98c-6a0c-44fd-fbbf-997c055cad3d"
      },
      "execution_count": 18,
      "outputs": [
        {
          "output_type": "execute_result",
          "data": {
            "text/plain": [
              "<matplotlib.legend.Legend at 0x7f6c79ff8e90>"
            ]
          },
          "metadata": {},
          "execution_count": 18
        },
        {
          "output_type": "display_data",
          "data": {
            "text/plain": [
              "<Figure size 432x288 with 1 Axes>"
            ],
            "image/png": "[encoded data removed]"
          },
          "metadata": {
            "needs_background": "light"
          }
        }
      ]
    }
  ],
  "metadata": {
    "colab": {
      "collapsed_sections": [],
      "name": "[1] ODE-PINN-ClassForm.ipynb",
      "provenance": [],
      "include_colab_link": true
    },
    "kernelspec": {
      "display_name": "Python 3.8.9 64-bit",
      "language": "python",
      "name": "python3"
    },
    "language_info": {
      "codemirror_mode": {
        "name": "ipython",
        "version": 3
      },
      "file_extension": ".py",
      "mimetype": "text/x-python",
      "name": "python",
      "nbconvert_exporter": "python",
      "pygments_lexer": "ipython3",
      "version": "3.8.9"
    },
    "vscode": {
      "interpreter": {
        "hash": "31f2aee4e71d21fbe5cf8b01ff0e069b9275f58929596ceb00d14d90e3e16cd6"
      }
    },
    "widgets": {
      "application/vnd.jupyter.widget-state+json": {
        "17c3cdd178454a9cbc425c3f85103fd7": {
          "model_module": "@jupyter-widgets/controls",
          "model_name": "HBoxModel",
          "model_module_version": "1.5.0",
          "state": {
            "_dom_classes": [],
            "_model_module": "@jupyter-widgets/controls",
            "_model_module_version": "1.5.0",
            "_model_name": "HBoxModel",
            "_view_count": null,
            "_view_module": "@jupyter-widgets/controls",
            "_view_module_version": "1.5.0",
            "_view_name": "HBoxView",
            "box_style": "",
            "children": [
              "IPY_MODEL_cb3baa53061943eb84e458391f5e9898",
              "IPY_MODEL_ede5150363f247fe8f63e78d0f8ca5d9",
              "IPY_MODEL_096e5c72096b409d9e22ef7d49334984"
            ],
            "layout": "IPY_MODEL_b72e3f4960e14a1bb4500b8a81d629f6"
          }
        },
        "cb3baa53061943eb84e458391f5e9898": {
          "model_module": "@jupyter-widgets/controls",
          "model_name": "HTMLModel",
          "model_module_version": "1.5.0",
          "state": {
            "_dom_classes": [],
            "_model_module": "@jupyter-widgets/controls",
            "_model_module_version": "1.5.0",
            "_model_name": "HTMLModel",
            "_view_count": null,
            "_view_module": "@jupyter-widgets/controls",
            "_view_module_version": "1.5.0",
            "_view_name": "HTMLView",
            "description": "",
            "description_tooltip": null,
            "layout": "IPY_MODEL_a5461a784ec94b9788af744cfbb6a48a",
            "placeholder": "​",
            "style": "IPY_MODEL_99737a076305428b9883b5b82927b9ea",
            "value": "100%"
          }
        },
        "ede5150363f247fe8f63e78d0f8ca5d9": {
          "model_module": "@jupyter-widgets/controls",
          "model_name": "FloatProgressModel",
          "model_module_version": "1.5.0",
          "state": {
            "_dom_classes": [],
            "_model_module": "@jupyter-widgets/controls",
            "_model_module_version": "1.5.0",
            "_model_name": "FloatProgressModel",
            "_view_count": null,
            "_view_module": "@jupyter-widgets/controls",
            "_view_module_version": "1.5.0",
            "_view_name": "ProgressView",
            "bar_style": "success",
            "description": "",
            "description_tooltip": null,
            "layout": "IPY_MODEL_1bfd2cc14e404f6e9f23833e4a42d921",
            "max": 10000,
            "min": 0,
            "orientation": "horizontal",
            "style": "IPY_MODEL_3171c3c7d49146f2ac82eac91706e8b6",
            "value": 10000
          }
        },
        "096e5c72096b409d9e22ef7d49334984": {
          "model_module": "@jupyter-widgets/controls",
          "model_name": "HTMLModel",
          "model_module_version": "1.5.0",
          "state": {
            "_dom_classes": [],
            "_model_module": "@jupyter-widgets/controls",
            "_model_module_version": "1.5.0",
            "_model_name": "HTMLModel",
            "_view_count": null,
            "_view_module": "@jupyter-widgets/controls",
            "_view_module_version": "1.5.0",
            "_view_name": "HTMLView",
            "description": "",
            "description_tooltip": null,
            "layout": "IPY_MODEL_bef9038f8d9f4357ac4a31093bbe58ea",
            "placeholder": "​",
            "style": "IPY_MODEL_5139fddcb7dc46be911ac3fe9a8c5a7e",
            "value": " 10000/10000 [00:25&lt;00:00, 331.96it/s]"
          }
        },
        "b72e3f4960e14a1bb4500b8a81d629f6": {
          "model_module": "@jupyter-widgets/base",
          "model_name": "LayoutModel",
          "model_module_version": "1.2.0",
          "state": {
            "_model_module": "@jupyter-widgets/base",
            "_model_module_version": "1.2.0",
            "_model_name": "LayoutModel",
            "_view_count": null,
            "_view_module": "@jupyter-widgets/base",
            "_view_module_version": "1.2.0",
            "_view_name": "LayoutView",
            "align_content": null,
            "align_items": null,
            "align_self": null,
            "border": null,
            "bottom": null,
            "display": null,
            "flex": null,
            "flex_flow": null,
            "grid_area": null,
            "grid_auto_columns": null,
            "grid_auto_flow": null,
            "grid_auto_rows": null,
            "grid_column": null,
            "grid_gap": null,
            "grid_row": null,
            "grid_template_areas": null,
            "grid_template_columns": null,
            "grid_template_rows": null,
            "height": null,
            "justify_content": null,
            "justify_items": null,
            "left": null,
            "margin": null,
            "max_height": null,
            "max_width": null,
            "min_height": null,
            "min_width": null,
            "object_fit": null,
            "object_position": null,
            "order": null,
            "overflow": null,
            "overflow_x": null,
            "overflow_y": null,
            "padding": null,
            "right": null,
            "top": null,
            "visibility": null,
            "width": null
          }
        },
        "a5461a784ec94b9788af744cfbb6a48a": {
          "model_module": "@jupyter-widgets/base",
          "model_name": "LayoutModel",
          "model_module_version": "1.2.0",
          "state": {
            "_model_module": "@jupyter-widgets/base",
            "_model_module_version": "1.2.0",
            "_model_name": "LayoutModel",
            "_view_count": null,
            "_view_module": "@jupyter-widgets/base",
            "_view_module_version": "1.2.0",
            "_view_name": "LayoutView",
            "align_content": null,
            "align_items": null,
            "align_self": null,
            "border": null,
            "bottom": null,
            "display": null,
            "flex": null,
            "flex_flow": null,
            "grid_area": null,
            "grid_auto_columns": null,
            "grid_auto_flow": null,
            "grid_auto_rows": null,
            "grid_column": null,
            "grid_gap": null,
            "grid_row": null,
            "grid_template_areas": null,
            "grid_template_columns": null,
            "grid_template_rows": null,
            "height": null,
            "justify_content": null,
            "justify_items": null,
            "left": null,
            "margin": null,
            "max_height": null,
            "max_width": null,
            "min_height": null,
            "min_width": null,
            "object_fit": null,
            "object_position": null,
            "order": null,
            "overflow": null,
            "overflow_x": null,
            "overflow_y": null,
            "padding": null,
            "right": null,
            "top": null,
            "visibility": null,
            "width": null
          }
        },
        "99737a076305428b9883b5b82927b9ea": {
          "model_module": "@jupyter-widgets/controls",
          "model_name": "DescriptionStyleModel",
          "model_module_version": "1.5.0",
          "state": {
            "_model_module": "@jupyter-widgets/controls",
            "_model_module_version": "1.5.0",
            "_model_name": "DescriptionStyleModel",
            "_view_count": null,
            "_view_module": "@jupyter-widgets/base",
            "_view_module_version": "1.2.0",
            "_view_name": "StyleView",
            "description_width": ""
          }
        },
        "1bfd2cc14e404f6e9f23833e4a42d921": {
          "model_module": "@jupyter-widgets/base",
          "model_name": "LayoutModel",
          "model_module_version": "1.2.0",
          "state": {
            "_model_module": "@jupyter-widgets/base",
            "_model_module_version": "1.2.0",
            "_model_name": "LayoutModel",
            "_view_count": null,
            "_view_module": "@jupyter-widgets/base",
            "_view_module_version": "1.2.0",
            "_view_name": "LayoutView",
            "align_content": null,
            "align_items": null,
            "align_self": null,
            "border": null,
            "bottom": null,
            "display": null,
            "flex": null,
            "flex_flow": null,
            "grid_area": null,
            "grid_auto_columns": null,
            "grid_auto_flow": null,
            "grid_auto_rows": null,
            "grid_column": null,
            "grid_gap": null,
            "grid_row": null,
            "grid_template_areas": null,
            "grid_template_columns": null,
            "grid_template_rows": null,
            "height": null,
            "justify_content": null,
            "justify_items": null,
            "left": null,
            "margin": null,
            "max_height": null,
            "max_width": null,
            "min_height": null,
            "min_width": null,
            "object_fit": null,
            "object_position": null,
            "order": null,
            "overflow": null,
            "overflow_x": null,
            "overflow_y": null,
            "padding": null,
            "right": null,
            "top": null,
            "visibility": null,
            "width": null
          }
        },
        "3171c3c7d49146f2ac82eac91706e8b6": {
          "model_module": "@jupyter-widgets/controls",
          "model_name": "ProgressStyleModel",
          "model_module_version": "1.5.0",
          "state": {
            "_model_module": "@jupyter-widgets/controls",
            "_model_module_version": "1.5.0",
            "_model_name": "ProgressStyleModel",
            "_view_count": null,
            "_view_module": "@jupyter-widgets/base",
            "_view_module_version": "1.2.0",
            "_view_name": "StyleView",
            "bar_color": null,
            "description_width": ""
          }
        },
        "bef9038f8d9f4357ac4a31093bbe58ea": {
          "model_module": "@jupyter-widgets/base",
          "model_name": "LayoutModel",
          "model_module_version": "1.2.0",
          "state": {
            "_model_module": "@jupyter-widgets/base",
            "_model_module_version": "1.2.0",
            "_model_name": "LayoutModel",
            "_view_count": null,
            "_view_module": "@jupyter-widgets/base",
            "_view_module_version": "1.2.0",
            "_view_name": "LayoutView",
            "align_content": null,
            "align_items": null,
            "align_self": null,
            "border": null,
            "bottom": null,
            "display": null,
            "flex": null,
            "flex_flow": null,
            "grid_area": null,
            "grid_auto_columns": null,
            "grid_auto_flow": null,
            "grid_auto_rows": null,
            "grid_column": null,
            "grid_gap": null,
            "grid_row": null,
            "grid_template_areas": null,
            "grid_template_columns": null,
            "grid_template_rows": null,
            "height": null,
            "justify_content": null,
            "justify_items": null,
            "left": null,
            "margin": null,
            "max_height": null,
            "max_width": null,
            "min_height": null,
            "min_width": null,
            "object_fit": null,
            "object_position": null,
            "order": null,
            "overflow": null,
            "overflow_x": null,
            "overflow_y": null,
            "padding": null,
            "right": null,
            "top": null,
            "visibility": null,
            "width": null
          }
        },
        "5139fddcb7dc46be911ac3fe9a8c5a7e": {
          "model_module": "@jupyter-widgets/controls",
          "model_name": "DescriptionStyleModel",
          "model_module_version": "1.5.0",
          "state": {
            "_model_module": "@jupyter-widgets/controls",
            "_model_module_version": "1.5.0",
            "_model_name": "DescriptionStyleModel",
            "_view_count": null,
            "_view_module": "@jupyter-widgets/base",
            "_view_module_version": "1.2.0",
            "_view_name": "StyleView",
            "description_width": ""
          }
        }
      }
    }
  },
  "nbformat": 4,
  "nbformat_minor": 0
}