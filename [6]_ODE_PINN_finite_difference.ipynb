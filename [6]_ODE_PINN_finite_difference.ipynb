{
  "cells": [
    {
      "cell_type": "markdown",
      "metadata": {
        "id": "view-in-github",
        "colab_type": "text"
      },
      "source": [
        "<a href=\"https://colab.research.google.com/github/ASEM000/Physics-informed-neural-network-in-JAX/blob/main/%5B6%5D_ODE_PINN_finite_difference.ipynb\" target=\"_parent\"><img src=\"https://colab.research.google.com/assets/colab-badge.svg\" alt=\"Open In Colab\"/></a>"
      ]
    },
    {
      "cell_type": "code",
      "execution_count": null,
      "metadata": {
        "id": "v77fdC1ZLyg1"
      },
      "outputs": [],
      "source": [
        "#Credits : Mahmoud Asem @Asem000"
      ]
    },
    {
      "cell_type": "code",
      "execution_count": null,
      "metadata": {
        "colab": {
          "base_uri": "https://localhost:8080/"
        },
        "id": "vAR0swbLX_ZI",
        "outputId": "dab17b4c-908d-4213-ac91-c20d0f7ef122"
      },
      "outputs": [
        {
          "output_type": "stream",
          "name": "stdout",
          "text": [
            "Requirement already satisfied: optax in /usr/local/lib/python3.7/dist-packages (0.1.1)\n",
            "Requirement already satisfied: numpy>=1.18.0 in /usr/local/lib/python3.7/dist-packages (from optax) (1.21.5)\n",
            "Requirement already satisfied: jaxlib>=0.1.37 in /usr/local/lib/python3.7/dist-packages (from optax) (0.3.2+cuda11.cudnn805)\n",
            "Requirement already satisfied: absl-py>=0.7.1 in /usr/local/lib/python3.7/dist-packages (from optax) (1.0.0)\n",
            "Requirement already satisfied: typing-extensions>=3.10.0 in /usr/local/lib/python3.7/dist-packages (from optax) (3.10.0.2)\n",
            "Requirement already satisfied: jax>=0.1.55 in /usr/local/lib/python3.7/dist-packages (from optax) (0.3.4)\n",
            "Requirement already satisfied: chex>=0.0.4 in /usr/local/lib/python3.7/dist-packages (from optax) (0.1.1)\n",
            "Requirement already satisfied: six in /usr/local/lib/python3.7/dist-packages (from absl-py>=0.7.1->optax) (1.15.0)\n",
            "Requirement already satisfied: toolz>=0.9.0 in /usr/local/lib/python3.7/dist-packages (from chex>=0.0.4->optax) (0.11.2)\n",
            "Requirement already satisfied: dm-tree>=0.1.5 in /usr/local/lib/python3.7/dist-packages (from chex>=0.0.4->optax) (0.1.6)\n",
            "Requirement already satisfied: scipy>=1.2.1 in /usr/local/lib/python3.7/dist-packages (from jax>=0.1.55->optax) (1.4.1)\n",
            "Requirement already satisfied: opt-einsum in /usr/local/lib/python3.7/dist-packages (from jax>=0.1.55->optax) (3.3.0)\n",
            "Requirement already satisfied: flatbuffers<3.0,>=1.12 in /usr/local/lib/python3.7/dist-packages (from jaxlib>=0.1.37->optax) (2.0)\n"
          ]
        }
      ],
      "source": [
        "#Imports\n",
        "import jax \n",
        "import jax.numpy as jnp\n",
        "import numpy as np\n",
        "import matplotlib.pyplot as plt\n",
        "from matplotlib import cm\n",
        "import matplotlib as mpl\n",
        "!pip install optax\n",
        "import optax"
      ]
    },
    {
      "cell_type": "code",
      "execution_count": null,
      "metadata": {
        "id": "yoPHsh5lWvyP"
      },
      "outputs": [],
      "source": [
        "import sympy as sp"
      ]
    },
    {
      "cell_type": "markdown",
      "metadata": {
        "id": "7bg4nSbsXVwD"
      },
      "source": [
        "### Generate a a differential equation and its solution using SymPy"
      ]
    },
    {
      "cell_type": "code",
      "execution_count": null,
      "metadata": {
        "id": "P9664e-mVMTN"
      },
      "outputs": [],
      "source": [
        "t= sp.symbols('t')\n",
        "f = sp.Function('y')\n",
        "diffeq = sp.Eq(f(t).diff(t,t) + f(t).diff(t)-t*sp.cos(2*sp.pi*t),0)\n",
        "sol = sp.simplify(sp.dsolve(diffeq,ics={f(0):1,f(t).diff(t).subs(t,0):10}).rhs)"
      ]
    },
    {
      "cell_type": "code",
      "execution_count": null,
      "metadata": {
        "colab": {
          "base_uri": "https://localhost:8080/",
          "height": 54
        },
        "id": "klgFeU6bcTrC",
        "outputId": "5c0fc009-ce8b-472f-b98b-6da8afd6a66c"
      },
      "outputs": [
        {
          "output_type": "execute_result",
          "data": {
            "text/plain": [
              "Eq(-t*cos(2*pi*t) + Derivative(y(t), t) + Derivative(y(t), (t, 2)), 0)"
            ],
            "text/latex": "$\\displaystyle - t \\cos{\\left(2 \\pi t \\right)} + \\frac{d}{d t} y{\\left(t \\right)} + \\frac{d^{2}}{d t^{2}} y{\\left(t \\right)} = 0$"
          },
          "metadata": {},
          "execution_count": 4
        }
      ],
      "source": [
        "diffeq"
      ]
    },
    {
      "cell_type": "code",
      "execution_count": null,
      "metadata": {
        "colab": {
          "base_uri": "https://localhost:8080/",
          "height": 60
        },
        "id": "E4Uu2hbiYJtv",
        "outputId": "6444bdb2-9243-46c9-e801-d19960dcb233"
      },
      "outputs": [
        {
          "output_type": "execute_result",
          "data": {
            "text/plain": [
              "Eq(Subs(Derivative(y(t), t), t, 0), 10)"
            ],
            "text/latex": "$\\displaystyle \\left. \\frac{d}{d t} y{\\left(t \\right)} \\right|_{\\substack{ t=0 }} = 10$"
          },
          "metadata": {},
          "execution_count": 5
        }
      ],
      "source": [
        "sp.Eq(f(t).diff(t).subs(t,0),10)"
      ]
    },
    {
      "cell_type": "code",
      "execution_count": null,
      "metadata": {
        "colab": {
          "base_uri": "https://localhost:8080/",
          "height": 38
        },
        "id": "29QUbt_2YwlJ",
        "outputId": "0e3cce9d-29c7-4f26-c279-535093e2ad37"
      },
      "outputs": [
        {
          "output_type": "execute_result",
          "data": {
            "text/plain": [
              "Eq(y(0), 1)"
            ],
            "text/latex": "$\\displaystyle y{\\left(0 \\right)} = 1$"
          },
          "metadata": {},
          "execution_count": 6
        }
      ],
      "source": [
        "sp.Eq(f(t).subs(t,0),1)"
      ]
    },
    {
      "cell_type": "code",
      "execution_count": null,
      "metadata": {
        "colab": {
          "base_uri": "https://localhost:8080/",
          "height": 81
        },
        "id": "r9KVq1yjYfld",
        "outputId": "9a8437fc-c2fc-4fe7-ad9f-26ca25b974d4"
      },
      "outputs": [
        {
          "output_type": "execute_result",
          "data": {
            "text/plain": [
              "Eq(y(t), (2*pi*t*exp(t)*sin(2*pi*t) + 8*pi**3*t*exp(t)*sin(2*pi*t) - 16*pi**4*t*exp(t)*cos(2*pi*t) - 4*pi**2*t*exp(t)*cos(2*pi*t) + 16*pi**3*exp(t)*sin(2*pi*t) + exp(t)*cos(2*pi*t) + 12*pi**2*exp(t)*cos(2*pi*t) - exp(t) + 36*pi**2*exp(t) + 336*pi**4*exp(t) + 704*pi**6*exp(t) - 640*pi**6 - 304*pi**4 - 44*pi**2)*exp(-t)/(4*pi**2*(1 + 8*pi**2 + 16*pi**4)))"
            ],
            "text/latex": "$\\displaystyle y{\\left(t \\right)} = \\frac{\\left(2 \\pi t e^{t} \\sin{\\left(2 \\pi t \\right)} + 8 \\pi^{3} t e^{t} \\sin{\\left(2 \\pi t \\right)} - 16 \\pi^{4} t e^{t} \\cos{\\left(2 \\pi t \\right)} - 4 \\pi^{2} t e^{t} \\cos{\\left(2 \\pi t \\right)} + 16 \\pi^{3} e^{t} \\sin{\\left(2 \\pi t \\right)} + e^{t} \\cos{\\left(2 \\pi t \\right)} + 12 \\pi^{2} e^{t} \\cos{\\left(2 \\pi t \\right)} - e^{t} + 36 \\pi^{2} e^{t} + 336 \\pi^{4} e^{t} + 704 \\pi^{6} e^{t} - 640 \\pi^{6} - 304 \\pi^{4} - 44 \\pi^{2}\\right) e^{- t}}{4 \\pi^{2} \\left(1 + 8 \\pi^{2} + 16 \\pi^{4}\\right)}$"
          },
          "metadata": {},
          "execution_count": 7
        }
      ],
      "source": [
        "sp.Eq(f(t),sol)"
      ]
    },
    {
      "cell_type": "code",
      "execution_count": null,
      "metadata": {
        "colab": {
          "base_uri": "https://localhost:8080/",
          "height": 37
        },
        "id": "MNVOpPyCW-GU",
        "outputId": "53a70887-e440-43a8-f811-30c862b21866"
      },
      "outputs": [
        {
          "output_type": "execute_result",
          "data": {
            "text/plain": [
              "0"
            ],
            "text/latex": "$\\displaystyle 0$"
          },
          "metadata": {},
          "execution_count": 8
        }
      ],
      "source": [
        "#verify solution\n",
        "sp.simplify(-t*sp.cos(sp.pi*2*t)+sol.diff(t)+sol.diff(t,t))"
      ]
    },
    {
      "cell_type": "markdown",
      "metadata": {
        "id": "NQ61lEQeXgrc"
      },
      "source": [
        "### Constructing the MLP"
      ]
    },
    {
      "cell_type": "code",
      "execution_count": null,
      "metadata": {
        "id": "Lml6PGLPZgmr"
      },
      "outputs": [],
      "source": [
        "N_b = 1\n",
        "N_c = 100\n",
        "\n",
        "tmin,tmax=0. ,jnp.pi\n",
        "\n",
        "'''boundary conditions'''\n",
        "\n",
        "\n",
        "# U[0] = 1\n",
        "t_0 = jnp.ones([N_b,1],dtype='float32')*0.\n",
        "ic_0 = jnp.ones_like(t_0) \n",
        "IC_0 = jnp.concatenate([t_0,ic_0],axis=1)\n",
        "\n",
        "# U_t[0] = 10\n",
        "t_b1 = jnp.zeros([N_b,1])\n",
        "bc_1 = jnp.ones_like(t_b1) * 10\n",
        "BC_1 = jnp.concatenate([t_b1,bc_1],axis=1)\n",
        "\n",
        "conds = [IC_0,BC_1]\n",
        "\n",
        "#collocation points\n",
        "\n",
        "key=jax.random.PRNGKey(0)\n",
        "\n",
        "t_c = jnp.linspace(tmin,tmax,N_c).reshape(-1,1)\n",
        "colloc = t_c\n",
        "\n",
        "def ODE_loss(t,u):\n",
        "  dt = 0.03173326\n",
        "  u_t = lambda t: (-u(t+2*dt)+8*u(t+dt)-8*u(t-dt)+u(t-2*dt))/(12*dt)\n",
        "  u_tt = lambda t: (-u(t+2*dt) + 16*u(t+dt) -30*u(t) + 16 * u(t-dt) - u(t-2*dt))/(12*dt**2)\n",
        "  return -t*jnp.cos(2*jnp.pi*t) + u_t(t) + u_tt(t)"
      ]
    },
    {
      "cell_type": "code",
      "execution_count": null,
      "metadata": {
        "id": "KoZZJl2TbI_n"
      },
      "outputs": [],
      "source": [
        "def init_params(layers):\n",
        "  keys = jax.random.split(jax.random.PRNGKey(0),len(layers)-1)\n",
        "  params = list()\n",
        "  for key,n_in,n_out in zip(keys,layers[:-1],layers[1:]):\n",
        "    lb, ub = -(1 / jnp.sqrt(n_in)), (1 / jnp.sqrt(n_in)) # xavier initialization lower and upper bound\n",
        "    W = lb + (ub-lb) * jax.random.uniform(key,shape=(n_in,n_out))\n",
        "    B = jax.random.uniform(key,shape=(n_out,))\n",
        "    params.append({'W':W,'B':B})\n",
        "  return params\n",
        "\n",
        "def fwd(params,t):\n",
        "  X = jnp.concatenate([t],axis=1)\n",
        "  *hidden,last = params\n",
        "  for layer in hidden :\n",
        "    X = jax.nn.tanh(X@layer['W']+layer['B'])\n",
        "  return X@last['W'] + last['B']\n",
        "\n",
        "@jax.jit\n",
        "def MSE(true,pred):\n",
        "  return jnp.mean((true-pred)**2)\n",
        "\n",
        "def loss_fun(params,colloc,conds):\n",
        "  t_c =colloc[:,[0]]\n",
        "  ufunc = lambda t : fwd(params,t)\n",
        "  ufunc_t=lambda t:jax.grad(lambda t:jnp.sum(ufunc(t)))(t)\n",
        "  loss =jnp.mean(ODE_loss(t_c,ufunc) **2)\n",
        "\n",
        "  t_ic,u_ic = conds[0][:,[0]],conds[0][:,[1]]  \n",
        "  loss += MSE(u_ic,ufunc(t_ic))\n",
        "\n",
        "  t_bc,u_bc = conds[1][:,[0]],conds[1][:,[1]]  \n",
        "  loss += MSE(u_bc,ufunc_t(t_bc))\n",
        "\n",
        "  return  loss\n",
        "\n",
        "@jax.jit\n",
        "def update(opt_state,params,colloc,conds):\n",
        "  # Get the gradient w.r.t to MLP params\n",
        "  grads=jax.jit(jax.grad(loss_fun,0))(params,colloc,conds)\n",
        "  \n",
        "  #Update params\n",
        "  updates, opt_state = optimizer.update(grads, opt_state)\n",
        "  params = optax.apply_updates(params, updates)\n",
        "\n",
        "  #Update params\n",
        "  # return jax.tree_multimap(lambda params,grads : params-LR*grads, params,grads)\n",
        "  return opt_state,params\n"
      ]
    },
    {
      "cell_type": "code",
      "execution_count": null,
      "metadata": {
        "id": "ae1ZDoy0c29c"
      },
      "outputs": [],
      "source": [
        "# construct the MLP of  6 hidden layers of 8 neurons for each layer\n",
        "params = init_params([1] + [20]*4+[1])"
      ]
    },
    {
      "cell_type": "code",
      "execution_count": null,
      "metadata": {
        "id": "jySmbUwic5yk"
      },
      "outputs": [],
      "source": [
        "lr = optax.piecewise_constant_schedule(1e-3,{10_000:5e-3,30_000:1e-3,50_000:5e-4,70_000:1e-4})\n",
        "optimizer = optax.adam(1e-3)\n",
        "opt_state = optimizer.init(params)"
      ]
    },
    {
      "cell_type": "code",
      "execution_count": null,
      "metadata": {
        "colab": {
          "base_uri": "https://localhost:8080/"
        },
        "id": "kBzGA8OVc8C6",
        "outputId": "ed7565fa-5172-42c8-ce96-39b3cd357d5b"
      },
      "outputs": [
        {
          "output_type": "stream",
          "name": "stdout",
          "text": [
            "Epoch=0\tloss=1.026e+02\n",
            "Epoch=1000\tloss=1.134e+01\n",
            "Epoch=2000\tloss=7.139e+00\n",
            "Epoch=3000\tloss=4.549e+00\n",
            "Epoch=4000\tloss=2.824e+00\n",
            "Epoch=5000\tloss=2.343e+00\n",
            "Epoch=6000\tloss=2.147e+00\n",
            "Epoch=7000\tloss=1.904e+00\n",
            "Epoch=8000\tloss=1.563e+00\n",
            "Epoch=9000\tloss=1.016e+00\n",
            "Epoch=10000\tloss=9.470e-01\n",
            "Epoch=11000\tloss=9.235e-01\n",
            "Epoch=12000\tloss=9.041e-01\n",
            "Epoch=13000\tloss=8.905e-01\n",
            "Epoch=14000\tloss=8.731e-01\n",
            "Epoch=15000\tloss=8.661e-01\n",
            "Epoch=16000\tloss=8.594e-01\n",
            "Epoch=17000\tloss=8.494e-01\n",
            "Epoch=18000\tloss=8.424e-01\n",
            "Epoch=19000\tloss=8.380e-01\n",
            "Epoch=20000\tloss=8.348e-01\n",
            "Epoch=21000\tloss=8.259e-01\n",
            "Epoch=22000\tloss=8.208e-01\n",
            "Epoch=23000\tloss=8.104e-01\n",
            "Epoch=24000\tloss=8.035e-01\n",
            "Epoch=25000\tloss=7.996e-01\n",
            "Epoch=26000\tloss=7.991e-01\n",
            "Epoch=27000\tloss=7.855e-01\n",
            "Epoch=28000\tloss=7.851e-01\n",
            "Epoch=29000\tloss=7.818e-01\n",
            "Epoch=30000\tloss=7.784e-01\n",
            "Epoch=31000\tloss=7.729e-01\n",
            "Epoch=32000\tloss=7.824e-01\n",
            "Epoch=33000\tloss=7.703e-01\n",
            "Epoch=34000\tloss=7.798e-01\n",
            "Epoch=35000\tloss=7.726e-01\n",
            "Epoch=36000\tloss=7.629e-01\n",
            "Epoch=37000\tloss=7.736e-01\n",
            "Epoch=38000\tloss=7.748e-01\n",
            "Epoch=39000\tloss=7.663e-01\n",
            "Epoch=40000\tloss=7.684e-01\n",
            "Epoch=41000\tloss=7.751e-01\n",
            "Epoch=42000\tloss=7.682e-01\n",
            "Epoch=43000\tloss=7.782e-01\n",
            "Epoch=44000\tloss=7.733e-01\n",
            "Epoch=45000\tloss=7.665e-01\n",
            "Epoch=46000\tloss=7.643e-01\n",
            "Epoch=47000\tloss=7.625e-01\n",
            "Epoch=48000\tloss=7.619e-01\n",
            "Epoch=49000\tloss=7.627e-01\n",
            "Epoch=50000\tloss=7.688e-01\n",
            "Epoch=51000\tloss=7.621e-01\n",
            "Epoch=52000\tloss=7.633e-01\n",
            "Epoch=53000\tloss=7.616e-01\n",
            "Epoch=54000\tloss=7.713e-01\n",
            "Epoch=55000\tloss=7.645e-01\n",
            "Epoch=56000\tloss=7.589e-01\n",
            "Epoch=57000\tloss=7.626e-01\n",
            "Epoch=58000\tloss=7.668e-01\n",
            "Epoch=59000\tloss=7.682e-01\n",
            "Epoch=60000\tloss=7.605e-01\n",
            "Epoch=61000\tloss=7.642e-01\n",
            "Epoch=62000\tloss=7.570e-01\n",
            "Epoch=63000\tloss=7.593e-01\n",
            "Epoch=64000\tloss=7.541e-01\n",
            "Epoch=65000\tloss=7.565e-01\n",
            "Epoch=66000\tloss=7.604e-01\n",
            "Epoch=67000\tloss=7.644e-01\n",
            "Epoch=68000\tloss=7.555e-01\n",
            "Epoch=69000\tloss=7.600e-01\n",
            "Epoch=70000\tloss=7.641e-01\n",
            "Epoch=71000\tloss=7.505e-01\n",
            "Epoch=72000\tloss=7.549e-01\n",
            "Epoch=73000\tloss=7.627e-01\n",
            "Epoch=74000\tloss=7.575e-01\n",
            "Epoch=75000\tloss=7.568e-01\n",
            "Epoch=76000\tloss=7.699e-01\n",
            "Epoch=77000\tloss=7.498e-01\n",
            "Epoch=78000\tloss=7.505e-01\n",
            "Epoch=79000\tloss=7.544e-01\n",
            "Epoch=80000\tloss=7.511e-01\n",
            "Epoch=81000\tloss=7.579e-01\n",
            "Epoch=82000\tloss=7.470e-01\n",
            "Epoch=83000\tloss=7.527e-01\n",
            "Epoch=84000\tloss=7.583e-01\n",
            "Epoch=85000\tloss=7.445e-01\n",
            "Epoch=86000\tloss=7.476e-01\n",
            "Epoch=87000\tloss=7.633e-01\n",
            "Epoch=88000\tloss=7.500e-01\n",
            "Epoch=89000\tloss=7.467e-01\n",
            "Epoch=90000\tloss=7.447e-01\n",
            "Epoch=91000\tloss=7.495e-01\n",
            "Epoch=92000\tloss=7.487e-01\n",
            "Epoch=93000\tloss=7.542e-01\n",
            "Epoch=94000\tloss=7.583e-01\n",
            "Epoch=95000\tloss=7.612e-01\n",
            "Epoch=96000\tloss=7.489e-01\n",
            "Epoch=97000\tloss=7.502e-01\n",
            "Epoch=98000\tloss=7.474e-01\n",
            "Epoch=99000\tloss=7.563e-01\n",
            "CPU times: user 1min 57s, sys: 256 ms, total: 1min 57s\n",
            "Wall time: 3min 3s\n"
          ]
        }
      ],
      "source": [
        "%%time\n",
        "epochs = 100_000\n",
        "for _ in range(epochs):\n",
        "  opt_state,params = update(opt_state,params,colloc,conds)\n",
        "\n",
        "  # print loss and epoch info\n",
        "  if _ %(1000) ==0:\n",
        "    print(f'Epoch={_}\\tloss={loss_fun(params,colloc,conds):.3e}')"
      ]
    },
    {
      "cell_type": "code",
      "execution_count": null,
      "metadata": {
        "colab": {
          "base_uri": "https://localhost:8080/",
          "height": 282
        },
        "id": "eWeNvDsdDEuI",
        "outputId": "1b79ef5d-7f2d-40ee-f4a1-4d0ba1cb0edd"
      },
      "outputs": [
        {
          "output_type": "execute_result",
          "data": {
            "text/plain": [
              "<matplotlib.legend.Legend at 0x7f238924fc10>"
            ]
          },
          "metadata": {},
          "execution_count": 36
        },
        {
          "output_type": "display_data",
          "data": {
            "text/plain": [
              "<Figure size 432x288 with 1 Axes>"
            ],
            "image/png": "[encoded data removed]"
          },
          "metadata": {
            "needs_background": "light"
          }
        }
      ],
      "source": [
        "lam_sol= sp.lambdify(t,sol)\n",
        "\n",
        "dT = 1e-3\n",
        "Tf = jnp.pi\n",
        "T = np.arange(0,Tf+dT,dT)\n",
        "\n",
        "\n",
        "sym_sol =np.array([lam_sol(i) for i in T])\n",
        "\n",
        "plt.plot(T,sym_sol,'--r',label='sympy solution')\n",
        "plt.plot(T,fwd(params,T.reshape(-1,1))[:,0],'--k',label='NN solution')\n",
        "plt.legend()"
      ]
    }
  ],
  "metadata": {
    "colab": {
      "collapsed_sections": [],
      "name": "[6] ODE-PINN finite difference.ipynb",
      "provenance": [],
      "include_colab_link": true
    },
    "kernelspec": {
      "display_name": "Python 3",
      "language": "python",
      "name": "python3"
    },
    "language_info": {
      "codemirror_mode": {
        "name": "ipython",
        "version": 3
      },
      "file_extension": ".py",
      "mimetype": "text/x-python",
      "name": "python",
      "nbconvert_exporter": "python",
      "pygments_lexer": "ipython3",
      "version": "3.9.6"
    }
  },
  "nbformat": 4,
  "nbformat_minor": 0
}