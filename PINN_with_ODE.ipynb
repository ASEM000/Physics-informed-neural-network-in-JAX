{
  "nbformat": 4,
  "nbformat_minor": 0,
  "metadata": {
    "colab": {
      "name": "PINN with ODE.ipynb",
      "provenance": [],
      "collapsed_sections": [],
      "authorship_tag": "ABX9TyOBAxknKHlGXIJBEw5q4QWg",
      "include_colab_link": true
    },
    "kernelspec": {
      "name": "python3",
      "display_name": "Python 3"
    },
    "language_info": {
      "name": "python"
    }
  },
  "cells": [
    {
      "cell_type": "markdown",
      "metadata": {
        "id": "view-in-github",
        "colab_type": "text"
      },
      "source": [
        "<a href=\"https://colab.research.google.com/github/ASEM000/Physics-informed-neural-network-in-JAX/blob/main/PINN_with_ODE.ipynb\" target=\"_parent\"><img src=\"https://colab.research.google.com/assets/colab-badge.svg\" alt=\"Open In Colab\"/></a>"
      ]
    },
    {
      "cell_type": "code",
      "metadata": {
        "id": "v77fdC1ZLyg1"
      },
      "source": [
        "#Credits : Mahmoud Asem @Asem000  Septemeber 2021"
      ],
      "execution_count": null,
      "outputs": []
    },
    {
      "cell_type": "code",
      "metadata": {
        "id": "yoPHsh5lWvyP"
      },
      "source": [
        "import jax\n",
        "import jax.numpy as jnp\n",
        "import numpy as np\n",
        "from jax import jit\n",
        "import matplotlib.pyplot as plt\n",
        "import sympy as sp"
      ],
      "execution_count": 1,
      "outputs": []
    },
    {
      "cell_type": "markdown",
      "metadata": {
        "id": "7bg4nSbsXVwD"
      },
      "source": [
        "### Generate a a differential equation and its solution using SymPy"
      ]
    },
    {
      "cell_type": "code",
      "metadata": {
        "id": "P9664e-mVMTN"
      },
      "source": [
        "t= sp.symbols('t')\n",
        "f = sp.Function('y')\n",
        "diffeq = sp.Eq(f(t).diff(t,t) + f(t).diff(t)-t*sp.cos(2*sp.pi*t),0)\n",
        "sol = sp.simplify(sp.dsolve(diffeq,\n",
        "                         ics={\n",
        "                              f(0):1,\n",
        "                              f(t).diff(t).subs(t,0):10\n",
        "                              }\n",
        "                         ).rhs)"
      ],
      "execution_count": 2,
      "outputs": []
    },
    {
      "cell_type": "code",
      "metadata": {
        "colab": {
          "base_uri": "https://localhost:8080/",
          "height": 53
        },
        "id": "klgFeU6bcTrC",
        "outputId": "f3626fd8-da46-4bc7-9b8a-137fbb0eb82e"
      },
      "source": [
        "diffeq"
      ],
      "execution_count": 3,
      "outputs": [
        {
          "output_type": "execute_result",
          "data": {
            "text/latex": "$\\displaystyle - t \\cos{\\left(2 \\pi t \\right)} + \\frac{d}{d t} y{\\left(t \\right)} + \\frac{d^{2}}{d t^{2}} y{\\left(t \\right)} = 0$",
            "text/plain": [
              "Eq(-t*cos(2*pi*t) + Derivative(y(t), t) + Derivative(y(t), (t, 2)), 0)"
            ]
          },
          "metadata": {},
          "execution_count": 3
        }
      ]
    },
    {
      "cell_type": "code",
      "metadata": {
        "colab": {
          "base_uri": "https://localhost:8080/",
          "height": 80
        },
        "id": "r9KVq1yjYfld",
        "outputId": "369aa3ef-633e-4d9a-9884-6f5d36ac0dc0"
      },
      "source": [
        "sol"
      ],
      "execution_count": 4,
      "outputs": [
        {
          "output_type": "execute_result",
          "data": {
            "text/latex": "$\\displaystyle \\frac{\\left(2 \\pi t e^{t} \\sin{\\left(2 \\pi t \\right)} + 8 \\pi^{3} t e^{t} \\sin{\\left(2 \\pi t \\right)} - 16 \\pi^{4} t e^{t} \\cos{\\left(2 \\pi t \\right)} - 4 \\pi^{2} t e^{t} \\cos{\\left(2 \\pi t \\right)} + 16 \\pi^{3} e^{t} \\sin{\\left(2 \\pi t \\right)} + e^{t} \\cos{\\left(2 \\pi t \\right)} + 12 \\pi^{2} e^{t} \\cos{\\left(2 \\pi t \\right)} - e^{t} + 36 \\pi^{2} e^{t} + 336 \\pi^{4} e^{t} + 704 \\pi^{6} e^{t} - 640 \\pi^{6} - 304 \\pi^{4} - 44 \\pi^{2}\\right) e^{- t}}{4 \\pi^{2} \\left(1 + 8 \\pi^{2} + 16 \\pi^{4}\\right)}$",
            "text/plain": [
              "(2*pi*t*exp(t)*sin(2*pi*t) + 8*pi**3*t*exp(t)*sin(2*pi*t) - 16*pi**4*t*exp(t)*cos(2*pi*t) - 4*pi**2*t*exp(t)*cos(2*pi*t) + 16*pi**3*exp(t)*sin(2*pi*t) + exp(t)*cos(2*pi*t) + 12*pi**2*exp(t)*cos(2*pi*t) - exp(t) + 36*pi**2*exp(t) + 336*pi**4*exp(t) + 704*pi**6*exp(t) - 640*pi**6 - 304*pi**4 - 44*pi**2)*exp(-t)/(4*pi**2*(1 + 8*pi**2 + 16*pi**4))"
            ]
          },
          "metadata": {},
          "execution_count": 4
        }
      ]
    },
    {
      "cell_type": "code",
      "metadata": {
        "colab": {
          "base_uri": "https://localhost:8080/",
          "height": 37
        },
        "id": "MNVOpPyCW-GU",
        "outputId": "d7561432-b728-46ef-d2e2-a577760f441a"
      },
      "source": [
        "#verify solution\n",
        "sp.simplify(-t*sp.cos(sp.pi*2*t)+sol.diff(t)+sol.diff(t,t))"
      ],
      "execution_count": 5,
      "outputs": [
        {
          "output_type": "execute_result",
          "data": {
            "text/latex": "$\\displaystyle 0$",
            "text/plain": [
              "0"
            ]
          },
          "metadata": {},
          "execution_count": 5
        }
      ]
    },
    {
      "cell_type": "markdown",
      "metadata": {
        "id": "NQ61lEQeXgrc"
      },
      "source": [
        "### Constructing the MLP"
      ]
    },
    {
      "cell_type": "code",
      "metadata": {
        "id": "FoE_bvWNqjHP"
      },
      "source": [
        "# Simple MLP to estimate f(t)~NN(t)\n",
        "# NN is composed of single input (t) and single output f(t)\n",
        "\n",
        "# MLP\n",
        "# 1) initialize params\n",
        "# 2) perform prediction (forward pass)\n",
        "# 3) Compute loss\n",
        "# 4) update params (backward pass)\n",
        "# 5) iterate from 2)\n",
        "\n",
        "\n",
        "def init_params(layers):\n",
        "  params = [ ]\n",
        "  for n_in,n_out in zip(layers[:-1],layers[1:]):\n",
        "    params.append(\n",
        "        {'W':np.random.normal(size=(n_in,n_out))*np.sqrt(2/n_in),\n",
        "         'B':np.random.normal(size=(n_out))}\n",
        "         )\n",
        "  return params\n",
        "\n",
        "def fwd(params,X):\n",
        "  *hidden,last = params\n",
        "  for layer in hidden :\n",
        "    X = jax.nn.tanh(X@layer['W']+layer['B'])\n",
        "  return X@last['W'] + last['B']\n",
        "\n",
        "\n",
        "\n",
        "def loss_fun(params,X):\n",
        "\n",
        "  #autograd version\n",
        "  y = lambda X : fwd(params,X)\n",
        "  dydx=lambda X:jax.grad(lambda X:jnp.sum(y(X)))(X)\n",
        "  ddyddx=lambda X:jax.grad(lambda X : jnp.sum(dydx(X)))(X)\n",
        "\n",
        "  # the ode encoded in the loss function\n",
        "  ode_loss = jnp.mean((ddyddx(X)+dydx(X)-X*jnp.cos(2*jnp.pi*X))**2)\n",
        "\n",
        "  # Initial point t=0\n",
        "  p = jnp.array([[0.0]])\n",
        "\n",
        "  #Initial conditions y(0) =1 and dydt(0) = 10 \n",
        "  ics_loss = jnp.mean((y(p)-1)**2) + jnp.mean((dydx(p)-10)**2)\n",
        "\n",
        "  return  ode_loss + ics_loss \n",
        "\n",
        "@jax.jit\n",
        "def update(params,X,LR=1e-3):\n",
        "  # Get the gradient w.r.t to MLP params\n",
        "  grads=jax.grad(loss_fun,0)(params,X)\n",
        "  #Update params\n",
        "  return jax.tree_multimap(lambda params,grads : params-LR*grads, params,grads)"
      ],
      "execution_count": 8,
      "outputs": []
    },
    {
      "cell_type": "code",
      "metadata": {
        "colab": {
          "base_uri": "https://localhost:8080/"
        },
        "id": "0-KnjOqC6ejd",
        "outputId": "51649b16-4880-4f32-b096-7d0d90a810ad"
      },
      "source": [
        "%%time \n",
        "x= jnp.linspace(0,jnp.pi,100).reshape(-1,1)\n",
        "\n",
        "# construct the MLP of  4 hidden layers of 20 neurons for each layer\n",
        "params = init_params([1,20,20,20,20,1])\n",
        "\n",
        "# Iterate 100K times\n",
        "for _ in range(10_000):\n",
        "\n",
        "  # learning rate scheduler \n",
        "  if    _<1_000 : LR = 1e-2\n",
        "  elif  _<3_000 : LR = 5e-3\n",
        "  elif  _<5_000 : LR = 1e-3\n",
        "  elif  _<7_000 : LR = 5e-4\n",
        "  elif  _<10_000 : LR = 1e-4\n",
        "\n",
        "  params = update(params,x,1e-4)\n",
        "\n",
        "  # print loss and epoch info\n",
        "  if _ %1000 ==0:\n",
        "    print(f'Epoch={_}\\tLR= {LR}\\tloss={loss_fun(params,x):.3f}')"
      ],
      "execution_count": 9,
      "outputs": [
        {
          "output_type": "stream",
          "name": "stdout",
          "text": [
            "Epoch=0\tLR= 0.01\tloss=104.158\n",
            "Epoch=1000\tLR= 0.005\tloss=5.401\n",
            "Epoch=2000\tLR= 0.005\tloss=2.623\n",
            "Epoch=3000\tLR= 0.001\tloss=2.193\n",
            "Epoch=4000\tLR= 0.001\tloss=1.977\n",
            "Epoch=5000\tLR= 0.0005\tloss=1.800\n",
            "Epoch=6000\tLR= 0.0005\tloss=1.658\n",
            "Epoch=7000\tLR= 0.0001\tloss=1.559\n",
            "Epoch=8000\tLR= 0.0001\tloss=1.496\n",
            "Epoch=9000\tLR= 0.0001\tloss=1.456\n",
            "CPU times: user 8.55 s, sys: 80.1 ms, total: 8.63 s\n",
            "Wall time: 8.65 s\n"
          ]
        }
      ]
    },
    {
      "cell_type": "code",
      "metadata": {
        "id": "eWeNvDsdDEuI",
        "colab": {
          "base_uri": "https://localhost:8080/",
          "height": 282
        },
        "outputId": "3f2f0c46-1e7f-46f0-fafb-90181a157740"
      },
      "source": [
        "lam_sol= sp.lambdify(t,sol)\n",
        "\n",
        "dT = 1e-3\n",
        "Tf = jnp.pi\n",
        "T = np.arange(0,Tf+dT,dT)\n",
        "\n",
        "\n",
        "sym_sol =np.array([lam_sol(i) for i in T])\n",
        "\n",
        "plt.plot(T,sym_sol,'--r',label='sympy solution')\n",
        "plt.plot(T,fwd(params,T.reshape(-1,1))[:,0],'--k',label='NN solution')\n",
        "plt.legend()"
      ],
      "execution_count": 10,
      "outputs": [
        {
          "output_type": "execute_result",
          "data": {
            "text/plain": [
              "<matplotlib.legend.Legend at 0x7faa730b34d0>"
            ]
          },
          "metadata": {},
          "execution_count": 10
        },
        {
          "output_type": "display_data",
          "data": {
            "image/png": "[encoded data removed]",
            "text/plain": [
              "<Figure size 432x288 with 1 Axes>"
            ]
          },
          "metadata": {
            "needs_background": "light"
          }
        }
      ]
    }
  ]
}