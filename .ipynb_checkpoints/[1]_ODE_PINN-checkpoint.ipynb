{
 "cells": [
  {
   "cell_type": "markdown",
   "metadata": {
    "colab_type": "text",
    "id": "view-in-github"
   },
   "source": [
    "<a href=\"https://colab.research.google.com/github/ASEM000/Physics-informed-neural-network-in-JAX/blob/main/%5B1%5D_ODE_PINN.ipynb\" target=\"_parent\"><img src=\"https://colab.research.google.com/assets/colab-badge.svg\" alt=\"Open In Colab\"/></a>"
   ]
  },
  {
   "cell_type": "code",
   "execution_count": null,
   "metadata": {
    "id": "v77fdC1ZLyg1"
   },
   "outputs": [],
   "source": [
    "#Credits : Mahmoud Asem @Asem000  Septemeber 2021"
   ]
  },
  {
   "cell_type": "code",
   "execution_count": 3,
   "metadata": {
    "colab": {
     "base_uri": "https://localhost:8080/"
    },
    "id": "vAR0swbLX_ZI",
    "outputId": "23ef5ef3-495b-4582-96a2-3108e8dce0bb"
   },
   "outputs": [
    {
     "name": "stdout",
     "output_type": "stream",
     "text": [
      "Collecting optax\n",
      "  Downloading optax-0.0.9-py3-none-any.whl (118 kB)\n",
      "\u001b[K     |████████████████████████████████| 118 kB 8.5 MB/s eta 0:00:01\n",
      "\u001b[?25hCollecting chex>=0.0.4\n",
      "  Downloading chex-0.0.8-py3-none-any.whl (57 kB)\n",
      "\u001b[K     |████████████████████████████████| 57 kB 6.1 MB/s  eta 0:00:01\n",
      "\u001b[?25hRequirement already satisfied: jaxlib>=0.1.37 in /usr/local/lib/python3.7/dist-packages (from optax) (0.1.70+cuda110)\n",
      "Requirement already satisfied: jax>=0.1.55 in /usr/local/lib/python3.7/dist-packages (from optax) (0.2.19)\n",
      "Requirement already satisfied: absl-py>=0.7.1 in /usr/local/lib/python3.7/dist-packages (from optax) (0.12.0)\n",
      "Requirement already satisfied: numpy>=1.18.0 in /usr/local/lib/python3.7/dist-packages (from optax) (1.19.5)\n",
      "Requirement already satisfied: six in /usr/local/lib/python3.7/dist-packages (from absl-py>=0.7.1->optax) (1.15.0)\n",
      "Requirement already satisfied: dm-tree>=0.1.5 in /usr/local/lib/python3.7/dist-packages (from chex>=0.0.4->optax) (0.1.6)\n",
      "Requirement already satisfied: toolz>=0.9.0 in /usr/local/lib/python3.7/dist-packages (from chex>=0.0.4->optax) (0.11.1)\n",
      "Requirement already satisfied: opt-einsum in /usr/local/lib/python3.7/dist-packages (from jax>=0.1.55->optax) (3.3.0)\n",
      "Requirement already satisfied: flatbuffers<3.0,>=1.12 in /usr/local/lib/python3.7/dist-packages (from jaxlib>=0.1.37->optax) (1.12)\n",
      "Requirement already satisfied: scipy in /usr/local/lib/python3.7/dist-packages (from jaxlib>=0.1.37->optax) (1.4.1)\n",
      "Installing collected packages: chex, optax\n",
      "Successfully installed chex-0.0.8 optax-0.0.9\n"
     ]
    }
   ],
   "source": [
    "#Imports\n",
    "import jax \n",
    "import jax.numpy as jnp\n",
    "import numpy as np\n",
    "import matplotlib.pyplot as plt\n",
    "from matplotlib import cm\n",
    "import matplotlib as mpl\n",
    "!pip install optax\n",
    "import optax"
   ]
  },
  {
   "cell_type": "code",
   "execution_count": 4,
   "metadata": {
    "id": "yoPHsh5lWvyP"
   },
   "outputs": [],
   "source": [
    "import sympy as sp"
   ]
  },
  {
   "cell_type": "markdown",
   "metadata": {
    "id": "7bg4nSbsXVwD"
   },
   "source": [
    "### Generate a a differential equation and its solution using SymPy"
   ]
  },
  {
   "cell_type": "code",
   "execution_count": 19,
   "metadata": {
    "id": "P9664e-mVMTN"
   },
   "outputs": [],
   "source": [
    "t= sp.symbols('t')\n",
    "f = sp.Function('y')\n",
    "diffeq = sp.Eq(f(t).diff(t,t) + f(t).diff(t)-t*sp.cos(2*sp.pi*t),0)\n",
    "sol = sp.simplify(sp.dsolve(diffeq,ics={f(0):1,f(t).diff(t).subs(t,0):10}).rhs)"
   ]
  },
  {
   "cell_type": "code",
   "execution_count": 20,
   "metadata": {
    "colab": {
     "base_uri": "https://localhost:8080/",
     "height": 54
    },
    "id": "klgFeU6bcTrC",
    "outputId": "cad6a477-37e0-414d-daf6-6e4f05a288cd"
   },
   "outputs": [
    {
     "data": {
      "text/latex": [
       "$\\displaystyle - t \\cos{\\left(2 \\pi t \\right)} + \\frac{d}{d t} y{\\left(t \\right)} + \\frac{d^{2}}{d t^{2}} y{\\left(t \\right)} = 0$"
      ],
      "text/plain": [
       "Eq(-t*cos(2*pi*t) + Derivative(y(t), t) + Derivative(y(t), (t, 2)), 0)"
      ]
     },
     "execution_count": 20,
     "metadata": {},
     "output_type": "execute_result"
    }
   ],
   "source": [
    "diffeq"
   ]
  },
  {
   "cell_type": "code",
   "execution_count": 21,
   "metadata": {
    "colab": {
     "base_uri": "https://localhost:8080/",
     "height": 60
    },
    "id": "E4Uu2hbiYJtv",
    "outputId": "e58180aa-779a-49fa-9771-b9f4763bb037"
   },
   "outputs": [
    {
     "data": {
      "text/latex": [
       "$\\displaystyle \\left. \\frac{d}{d t} y{\\left(t \\right)} \\right|_{\\substack{ t=0 }} = 10$"
      ],
      "text/plain": [
       "Eq(Subs(Derivative(y(t), t), t, 0), 10)"
      ]
     },
     "execution_count": 21,
     "metadata": {},
     "output_type": "execute_result"
    }
   ],
   "source": [
    "sp.Eq(f(t).diff(t).subs(t,0),10)"
   ]
  },
  {
   "cell_type": "code",
   "execution_count": 22,
   "metadata": {
    "colab": {
     "base_uri": "https://localhost:8080/",
     "height": 38
    },
    "id": "29QUbt_2YwlJ",
    "outputId": "3d9edb85-a44f-42cc-8776-bccda97cbc7e"
   },
   "outputs": [
    {
     "data": {
      "text/latex": [
       "$\\displaystyle y{\\left(0 \\right)} = 1$"
      ],
      "text/plain": [
       "Eq(y(0), 1)"
      ]
     },
     "execution_count": 22,
     "metadata": {},
     "output_type": "execute_result"
    }
   ],
   "source": [
    "sp.Eq(f(t).subs(t,0),1)"
   ]
  },
  {
   "cell_type": "code",
   "execution_count": 24,
   "metadata": {
    "colab": {
     "base_uri": "https://localhost:8080/",
     "height": 101
    },
    "id": "r9KVq1yjYfld",
    "outputId": "b6e56baa-b419-49e0-bba9-3706d96b394c"
   },
   "outputs": [
    {
     "data": {
      "text/latex": [
       "$\\displaystyle y{\\left(t \\right)} = \\frac{\\left(2 \\pi t e^{t} \\sin{\\left(2 \\pi t \\right)} + 8 \\pi^{3} t e^{t} \\sin{\\left(2 \\pi t \\right)} - 16 \\pi^{4} t e^{t} \\cos{\\left(2 \\pi t \\right)} - 4 \\pi^{2} t e^{t} \\cos{\\left(2 \\pi t \\right)} + 16 \\pi^{3} e^{t} \\sin{\\left(2 \\pi t \\right)} + e^{t} \\cos{\\left(2 \\pi t \\right)} + 12 \\pi^{2} e^{t} \\cos{\\left(2 \\pi t \\right)} - e^{t} + 36 \\pi^{2} e^{t} + 336 \\pi^{4} e^{t} + 704 \\pi^{6} e^{t} - 640 \\pi^{6} - 304 \\pi^{4} - 44 \\pi^{2}\\right) e^{- t}}{4 \\pi^{2} \\left(1 + 8 \\pi^{2} + 16 \\pi^{4}\\right)}$"
      ],
      "text/plain": [
       "Eq(y(t), (2*pi*t*exp(t)*sin(2*pi*t) + 8*pi**3*t*exp(t)*sin(2*pi*t) - 16*pi**4*t*exp(t)*cos(2*pi*t) - 4*pi**2*t*exp(t)*cos(2*pi*t) + 16*pi**3*exp(t)*sin(2*pi*t) + exp(t)*cos(2*pi*t) + 12*pi**2*exp(t)*cos(2*pi*t) - exp(t) + 36*pi**2*exp(t) + 336*pi**4*exp(t) + 704*pi**6*exp(t) - 640*pi**6 - 304*pi**4 - 44*pi**2)*exp(-t)/(4*pi**2*(1 + 8*pi**2 + 16*pi**4)))"
      ]
     },
     "execution_count": 24,
     "metadata": {},
     "output_type": "execute_result"
    }
   ],
   "source": [
    "sp.Eq(f(t),sol)"
   ]
  },
  {
   "cell_type": "code",
   "execution_count": 25,
   "metadata": {
    "colab": {
     "base_uri": "https://localhost:8080/",
     "height": 37
    },
    "id": "MNVOpPyCW-GU",
    "outputId": "c333d114-01de-4132-8ebf-effd19785112"
   },
   "outputs": [
    {
     "data": {
      "text/latex": [
       "$\\displaystyle 0$"
      ],
      "text/plain": [
       "0"
      ]
     },
     "execution_count": 25,
     "metadata": {},
     "output_type": "execute_result"
    }
   ],
   "source": [
    "#verify solution\n",
    "sp.simplify(-t*sp.cos(sp.pi*2*t)+sol.diff(t)+sol.diff(t,t))"
   ]
  },
  {
   "cell_type": "markdown",
   "metadata": {
    "id": "NQ61lEQeXgrc"
   },
   "source": [
    "### Constructing the MLP"
   ]
  },
  {
   "cell_type": "code",
   "execution_count": 61,
   "metadata": {
    "id": "Lml6PGLPZgmr"
   },
   "outputs": [],
   "source": [
    "N_b = 1\n",
    "N_c = 100\n",
    "\n",
    "tmin,tmax=0. ,jnp.pi\n",
    "\n",
    "'''boundary conditions'''\n",
    "\n",
    "\n",
    "# U[0] = 1\n",
    "t_0 = jnp.ones([N_b,1],dtype='float32')*0.\n",
    "ic_0 = jnp.ones_like(t_0) \n",
    "IC_0 = jnp.concatenate([t_0,ic_0],axis=1)\n",
    "\n",
    "# U_t[0] = 10\n",
    "t_b1 = jnp.zeros([N_b,1])\n",
    "bc_1 = jnp.ones_like(t_b1) * 10\n",
    "BC_1 = jnp.concatenate([t_b1,bc_1],axis=1)\n",
    "\n",
    "conds = [IC_0,BC_1]\n",
    "\n",
    "#collocation points\n",
    "\n",
    "key=jax.random.PRNGKey(0)\n",
    "\n",
    "t_c = jax.random.uniform(key,minval=tmin,maxval=tmax,shape=(N_c,1))\n",
    "colloc = t_c\n",
    "\n",
    "def ODE_loss(t,u):\n",
    "  u_t=lambda t:jax.grad(lambda t:jnp.sum(u(t)))(t)\n",
    "  u_tt=lambda t:jax.grad(lambda t : jnp.sum(u_t(t)))(t)\n",
    "  return -t*jnp.cos(2*jnp.pi*t) + u_t(t) + u_tt(t)"
   ]
  },
  {
   "cell_type": "code",
   "execution_count": 68,
   "metadata": {
    "id": "KoZZJl2TbI_n"
   },
   "outputs": [],
   "source": [
    "def init_params(layers):\n",
    "  keys = jax.random.split(jax.random.PRNGKey(0),len(layers)-1)\n",
    "  params = list()\n",
    "  for key,n_in,n_out in zip(keys,layers[:-1],layers[1:]):\n",
    "    lb, ub = -(1 / jnp.sqrt(n_in)), (1 / jnp.sqrt(n_in)) # xavier initialization lower and upper bound\n",
    "    W = lb + (ub-lb) * jax.random.uniform(key,shape=(n_in,n_out))\n",
    "    B = jax.random.uniform(key,shape=(n_out,))\n",
    "    params.append({'W':W,'B':B})\n",
    "  return params\n",
    "\n",
    "def fwd(params,t):\n",
    "  X = jnp.concatenate([t],axis=1)\n",
    "  *hidden,last = params\n",
    "  for layer in hidden :\n",
    "    X = jax.nn.tanh(X@layer['W']+layer['B'])\n",
    "  return X@last['W'] + last['B']\n",
    "\n",
    "@jax.jit\n",
    "def MSE(true,pred):\n",
    "  return jnp.mean((true-pred)**2)\n",
    "\n",
    "def loss_fun(params,colloc,conds):\n",
    "  t_c =colloc[:,[0]]\n",
    "  ufunc = lambda t : fwd(params,t)\n",
    "  ufunc_t=lambda t:jax.grad(lambda t:jnp.sum(ufunc(t)))(t)\n",
    "  loss =jnp.mean(ODE_loss(t_c,ufunc) **2)\n",
    "\n",
    "  t_ic,u_ic = conds[0][:,[0]],conds[0][:,[1]]  \n",
    "  loss += MSE(u_ic,ufunc(t_ic))\n",
    "\n",
    "  t_bc,u_bc = conds[1][:,[0]],conds[1][:,[1]]  \n",
    "  loss += MSE(u_bc,ufunc_t(t_bc))\n",
    "\n",
    "  return  loss\n",
    "\n",
    "@jax.jit\n",
    "def update(opt_state,params,colloc,conds):\n",
    "  # Get the gradient w.r.t to MLP params\n",
    "  grads=jax.jit(jax.grad(loss_fun,0))(params,colloc,conds)\n",
    "  \n",
    "  #Update params\n",
    "  updates, opt_state = optimizer.update(grads, opt_state)\n",
    "  params = optax.apply_updates(params, updates)\n",
    "\n",
    "  #Update params\n",
    "  # return jax.tree_multimap(lambda params,grads : params-LR*grads, params,grads)\n",
    "  return opt_state,params\n"
   ]
  },
  {
   "cell_type": "code",
   "execution_count": 69,
   "metadata": {
    "id": "ae1ZDoy0c29c"
   },
   "outputs": [],
   "source": [
    "# construct the MLP of  6 hidden layers of 8 neurons for each layer\n",
    "params = init_params([1] + [20]*4+[1])"
   ]
  },
  {
   "cell_type": "code",
   "execution_count": 70,
   "metadata": {
    "id": "jySmbUwic5yk"
   },
   "outputs": [],
   "source": [
    "lr = optax.piecewise_constant_schedule(1e-3,{10_000:5e-3,30_000:1e-3,50_000:5e-4,70_000:1e-4})\n",
    "optimizer = optax.adam(lr)\n",
    "opt_state = optimizer.init(params)"
   ]
  },
  {
   "cell_type": "code",
   "execution_count": 71,
   "metadata": {
    "colab": {
     "base_uri": "https://localhost:8080/"
    },
    "id": "kBzGA8OVc8C6",
    "outputId": "effacbde-f915-47cd-8f13-a44e6b697062"
   },
   "outputs": [
    {
     "name": "stdout",
     "output_type": "stream",
     "text": [
      "Epoch=0\tloss=1.026e+02\n",
      "Epoch=100\tloss=1.500e+01\n",
      "Epoch=200\tloss=7.508e+00\n",
      "Epoch=300\tloss=5.177e+00\n",
      "Epoch=400\tloss=3.458e+00\n",
      "Epoch=500\tloss=2.615e+00\n",
      "Epoch=600\tloss=2.391e+00\n",
      "Epoch=700\tloss=2.254e+00\n",
      "Epoch=800\tloss=2.133e+00\n",
      "Epoch=900\tloss=2.013e+00\n",
      "Epoch=1000\tloss=1.855e+00\n",
      "Epoch=1100\tloss=1.549e+00\n",
      "Epoch=1200\tloss=1.018e+00\n",
      "Epoch=1300\tloss=9.915e-01\n",
      "Epoch=1400\tloss=9.756e-01\n",
      "Epoch=1500\tloss=9.618e-01\n",
      "Epoch=1600\tloss=9.480e-01\n",
      "Epoch=1700\tloss=9.327e-01\n",
      "Epoch=1800\tloss=9.145e-01\n",
      "Epoch=1900\tloss=8.902e-01\n",
      "Epoch=2000\tloss=7.379e-01\n",
      "Epoch=2100\tloss=3.372e-01\n",
      "Epoch=2200\tloss=1.753e-02\n",
      "Epoch=2300\tloss=4.962e-03\n",
      "Epoch=2400\tloss=3.304e-03\n",
      "Epoch=2500\tloss=2.670e-03\n",
      "Epoch=2600\tloss=2.238e-03\n",
      "Epoch=2700\tloss=1.883e-03\n",
      "Epoch=2800\tloss=1.577e-03\n",
      "Epoch=2900\tloss=1.311e-03\n",
      "Epoch=3000\tloss=1.082e-03\n",
      "Epoch=3100\tloss=8.856e-04\n",
      "Epoch=3200\tloss=7.198e-04\n",
      "Epoch=3300\tloss=5.825e-04\n",
      "Epoch=3400\tloss=4.711e-04\n",
      "Epoch=3500\tloss=6.700e-04\n",
      "Epoch=3600\tloss=3.161e-04\n",
      "Epoch=3700\tloss=3.296e-04\n",
      "Epoch=3800\tloss=2.278e-04\n",
      "Epoch=3900\tloss=2.032e-04\n",
      "Epoch=4000\tloss=1.785e-04\n",
      "Epoch=4100\tloss=1.624e-04\n",
      "Epoch=4200\tloss=1.494e-04\n",
      "Epoch=4300\tloss=1.377e-04\n",
      "Epoch=4400\tloss=2.545e-04\n",
      "Epoch=4500\tloss=1.195e-04\n",
      "Epoch=4600\tloss=2.162e-03\n",
      "Epoch=4700\tloss=1.041e-04\n",
      "Epoch=4800\tloss=1.321e-04\n",
      "Epoch=4900\tloss=9.035e-05\n",
      "Epoch=5000\tloss=8.385e-05\n",
      "Epoch=5100\tloss=8.181e-05\n",
      "Epoch=5200\tloss=7.205e-05\n",
      "Epoch=5300\tloss=2.472e-03\n",
      "Epoch=5400\tloss=6.137e-05\n",
      "Epoch=5500\tloss=6.695e-05\n",
      "Epoch=5600\tloss=5.197e-05\n",
      "Epoch=5700\tloss=4.714e-05\n",
      "Epoch=5800\tloss=7.266e-05\n",
      "Epoch=5900\tloss=3.922e-05\n",
      "Epoch=6000\tloss=1.470e-03\n",
      "Epoch=6100\tloss=3.234e-05\n",
      "Epoch=6200\tloss=1.919e-03\n",
      "Epoch=6300\tloss=2.676e-05\n",
      "Epoch=6400\tloss=2.389e-05\n",
      "Epoch=6500\tloss=2.301e-05\n",
      "Epoch=6600\tloss=1.962e-05\n",
      "Epoch=6700\tloss=3.187e-04\n",
      "Epoch=6800\tloss=1.618e-05\n",
      "Epoch=6900\tloss=2.400e-03\n",
      "Epoch=7000\tloss=1.355e-05\n",
      "Epoch=7100\tloss=2.970e-04\n",
      "Epoch=7200\tloss=1.146e-05\n",
      "Epoch=7300\tloss=1.040e-05\n",
      "Epoch=7400\tloss=3.527e-05\n",
      "Epoch=7500\tloss=9.057e-06\n",
      "Epoch=7600\tloss=4.930e-04\n",
      "Epoch=7700\tloss=3.244e-04\n",
      "Epoch=7800\tloss=1.300e-03\n",
      "Epoch=7900\tloss=7.630e-06\n",
      "Epoch=8000\tloss=1.313e-05\n",
      "Epoch=8100\tloss=1.451e-05\n",
      "Epoch=8200\tloss=7.152e-06\n",
      "Epoch=8300\tloss=6.462e-05\n",
      "Epoch=8400\tloss=5.616e-03\n",
      "Epoch=8500\tloss=6.044e-06\n",
      "Epoch=8600\tloss=7.831e-05\n",
      "Epoch=8700\tloss=5.532e-06\n",
      "Epoch=8800\tloss=8.422e-05\n",
      "Epoch=8900\tloss=1.461e-03\n",
      "Epoch=9000\tloss=5.241e-06\n",
      "Epoch=9100\tloss=2.537e-04\n",
      "Epoch=9200\tloss=4.977e-06\n",
      "Epoch=9300\tloss=4.646e-05\n",
      "Epoch=9400\tloss=4.768e-06\n",
      "Epoch=9500\tloss=1.605e-05\n",
      "Epoch=9600\tloss=4.656e-06\n",
      "Epoch=9700\tloss=3.441e-03\n",
      "Epoch=9800\tloss=4.752e-06\n",
      "Epoch=9900\tloss=6.980e-03\n",
      "CPU times: user 17.7 s, sys: 139 ms, total: 17.8 s\n",
      "Wall time: 17.7 s\n"
     ]
    }
   ],
   "source": [
    "%%time\n",
    "epochs = 10_000\n",
    "for _ in range(epochs):\n",
    "  opt_state,params = update(opt_state,params,colloc,conds)\n",
    "\n",
    "  # print loss and epoch info\n",
    "  if _ %(100) ==0:\n",
    "    print(f'Epoch={_}\\tloss={loss_fun(params,colloc,conds):.3e}')"
   ]
  },
  {
   "cell_type": "code",
   "execution_count": 80,
   "metadata": {
    "colab": {
     "base_uri": "https://localhost:8080/",
     "height": 282
    },
    "id": "eWeNvDsdDEuI",
    "outputId": "32551eeb-25df-4d2e-8cae-82cc52b41ac5"
   },
   "outputs": [
    {
     "data": {
      "text/plain": [
       "<matplotlib.legend.Legend at 0x7f70abfa5750>"
      ]
     },
     "execution_count": 80,
     "metadata": {},
     "output_type": "execute_result"
    },
    {
     "data": {
      "image/png": "[encoded data removed]",
      "text/plain": [
       "<Figure size 432x288 with 1 Axes>"
      ]
     },
     "metadata": {
      "needs_background": "light"
     },
     "output_type": "display_data"
    }
   ],
   "source": [
    "lam_sol= sp.lambdify(t,sol)\n",
    "\n",
    "dT = 1e-3\n",
    "Tf = jnp.pi\n",
    "T = np.arange(0,Tf+dT,dT)\n",
    "\n",
    "\n",
    "sym_sol =np.array([lam_sol(i) for i in T])\n",
    "\n",
    "plt.plot(T,sym_sol,'--r',label='sympy solution')\n",
    "plt.plot(T,fwd(params,T.reshape(-1,1))[:,0],'--k',label='NN solution')\n",
    "plt.legend()"
   ]
  }
 ],
 "metadata": {
  "colab": {
   "authorship_tag": "ABX9TyPlDK/9ZvMulH91+B+B32BC",
   "collapsed_sections": [],
   "include_colab_link": true,
   "name": "[1] ODE-PINN.ipynb",
   "provenance": []
  },
  "kernelspec": {
   "display_name": "Python 3",
   "language": "python",
   "name": "python3"
  },
  "language_info": {
   "codemirror_mode": {
    "name": "ipython",
    "version": 3
   },
   "file_extension": ".py",
   "mimetype": "text/x-python",
   "name": "python",
   "nbconvert_exporter": "python",
   "pygments_lexer": "ipython3",
   "version": "3.9.6"
  }
 },
 "nbformat": 4,
 "nbformat_minor": 4
}
